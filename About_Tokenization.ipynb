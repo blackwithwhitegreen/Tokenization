{
  "nbformat": 4,
  "nbformat_minor": 0,
  "metadata": {
    "colab": {
      "provenance": [],
      "mount_file_id": "1GDdcDGp3PE66kQ6fu_5-LaTI7BazQbTr",
      "authorship_tag": "ABX9TyO0WLzJIbKMdf2OmCoxzV/w",
      "include_colab_link": true
    },
    "kernelspec": {
      "name": "python3",
      "display_name": "Python 3"
    },
    "language_info": {
      "name": "python"
    }
  },
  "cells": [
    {
      "cell_type": "markdown",
      "metadata": {
        "id": "view-in-github",
        "colab_type": "text"
      },
      "source": [
        "<a href=\"https://colab.research.google.com/github/blackwithwhitegreen/Tokenization/blob/main/About_Tokenization.ipynb\" target=\"_parent\"><img src=\"https://colab.research.google.com/assets/colab-badge.svg\" alt=\"Open In Colab\"/></a>"
      ]
    },
    {
      "cell_type": "code",
      "execution_count": 1,
      "metadata": {
        "colab": {
          "base_uri": "https://localhost:8080/"
        },
        "id": "6uJ1Hwk4Qisw",
        "outputId": "1bda5251-4b10-4664-e7c8-ffc8bd7549f9"
      },
      "outputs": [
        {
          "output_type": "execute_result",
          "data": {
            "text/plain": [
              "128515"
            ]
          },
          "metadata": {},
          "execution_count": 1
        }
      ],
      "source": [
        "ord('😃')"
      ]
    },
    {
      "cell_type": "code",
      "source": [
        "ord('ے')"
      ],
      "metadata": {
        "colab": {
          "base_uri": "https://localhost:8080/"
        },
        "id": "D44ra5kQr3gY",
        "outputId": "2d6c6ded-5e7e-49ed-b27e-f569c234060b"
      },
      "execution_count": 2,
      "outputs": [
        {
          "output_type": "execute_result",
          "data": {
            "text/plain": [
              "1746"
            ]
          },
          "metadata": {},
          "execution_count": 2
        }
      ]
    },
    {
      "cell_type": "code",
      "source": [
        "ord('ए')"
      ],
      "metadata": {
        "colab": {
          "base_uri": "https://localhost:8080/"
        },
        "id": "QZ7CYV2BsHKK",
        "outputId": "d02800a7-4b8f-4dc1-a324-348d820105e1"
      },
      "execution_count": 3,
      "outputs": [
        {
          "output_type": "execute_result",
          "data": {
            "text/plain": [
              "2319"
            ]
          },
          "metadata": {},
          "execution_count": 3
        }
      ]
    },
    {
      "cell_type": "code",
      "source": [
        "text = \"\"\"Shaun Pollock has a favorite story about the toss. The former South Africa captain was once advised by Malcolm Marshall to always call 'Heads', because, as the legendary West Indian pacer put it, a human doesn't have a tail. It's still unclear what Rohit Sharma has been calling, or even for that matter what the opposing captains have been choosing. What is clear, however, is that India have not won the toss in their last 14 consecutive ODIs.This marks the longest streak of toss losses in ODI history, beginning with the World Cup final in Ahmedabad on November 19, 2023. Despite this, India have managed nine wins out of the 14 matches, with four losses and one tie (against Sri Lanka). This time, there has been no decisive advantage for the chasing team - India have won one match while defending and three while chasing. This refreshing trend can largely be attributed to the absence of dew in the air or on the ground. With the weather being chilly in the nights, dew was expected to play a role in the tournament. Fortunately, it hasn't.I for one thought there would be a little bit more dew at this ground at this time of year. Fortunately there hasn't been. Therefore the toss is actually not a big factor and I think that's great, says Mike Hesson, a former New Zealand coach. Heading into a Champions Trophy final you're not worried about who wins the toss and certainly if you're an Indian fan and the fact Rohit Sharma's lost 14 in a row, it's not something you're going to lose a whole heap of sleep over.Rohit, no doubt, won't lose sleep over the toss, but he may still have a slight advantage if he wins it. According to Hesson, Varun Chakaravarthy the player of the match in the previous game against New Zealand here, would be difficult to pick under the lights. I think at the toss, from a tactical point of view, New Zealand will want to bat first and they will want to do what they did against South Africa in the semifinal. The reason why I say that is because of this man here, Varun Chakaravarthy.Kane Williamson, who hammered a century in the semifinal against South Africa in Lahore on Wednesday, agrees that the conditions would be different at DICS from Gaddafi Stadium but hopes for a good contest. The conditions are a lot different but you know that's sort of the nature of the beast. I think in any tournament that you have, conditions change a little bit throughout. For us, it was nice to have that last match against India.There's some really good bits there. India are an outstanding team and are playing really well. So, look, it's important we try and take away some learnings from that last game. Park this match, and in a final, anything can happen. And it was a great atmosphere last game and I'm sure it'll be a good one again.The former captain, however, refused to buy the argument that India have had an advantage by playing all games in Dubai. It is what it is, he said. Our focus is the next match, the location of that match, the opposition, they're all factors. Obviously, we played India once there. The conditions are different, so it's important that we try and take away some of those positives and be nice and clear in how we're trying to operate come two- or three-days' time in the final. It's the nature of it and we're looking forward to the final and excited about it.In a way, it was apt that Steve Smith's final act as an ODI cricketer was a hug and a fond chat with Virat Kohli. As close-ups would reveal later, it also happened to be the moment when Smith probably made his decision to retire from 50-over cricket public. By confiding in one of his oldest rivals, counterparts, and cricketing mates. It was a touching and poignant moment, as Smith leaned on Kohli's shoulder, and stayed there for a couple of seconds as the former Indian captain whispered some words into his eaThe fact that it came only minutes following the pretty intense celebrations in the Indian camp, led by a very animated Kohli, after they'd overcome the Australian hurdle to make the Champions Trophy final only made the brotherly embrace even sweeter.For, not only have the two era-defining right-handers been the yardsticks for greatness as contemporaries, they have also been serial adversaries on the field throughout their respective journeys when it comes to ODI cricket.The retiring 35-year-old had, after all, played more 50-over matches against Kohli than any other opposition player, 28 in all, of the 30 he appeared in overall against India.And there was a bit of irony in the fact that Smith couldn't see Australia home in what would have anyway been his final encounter versus his arch nemeses, who he's generally dominated against. Not that he didn't try his hardest to foil the Indian juggernaut, both as batter and as captain, like he'd done so often throughout his ODI career. His innings of 73 on a slow pitch was trademark Smith, one India had become all too familiar with. Both in terms of how he manipulated the fields, and also in the way he set the tempo for his team. Even if he couldn't see it through, getting out to a very un-Steve Smith like slog. Even if he couldn't go on to make a century, like he'd done 5 times previously against the Indians, all but one of which resulted in a win for Australia.Just for the record, he never went past 2 centuries against any other country and made only a solitary ton in 40 innings against England. No wonder then that the country he scored most ODI runs against was India, with 1383 runs at 53.19 in 26 innings. And no surprises that despite not being considered one of the best ODI players of his generation, purely in terms of numbers, Smith was dreaded by the best ODI team of his generation, who once too often were at the receiving end of his white-ball genius.Smith's most significant knock, without doubt, was his maiden ODI century against the Indians, on his home-ground at the SCG, to thwart India's progress in the 2015 Word Cup. It was a masterful knock that set up the semi-final win at the back end of a home summer where he'd lorded over India with the bat in the Border Gavaskar Trophy. The summer that made Steve Smith, and forever transformed him from the blonde-haired handy all-rounder into the world beater with the bat. It was in his previous avatar that he'd played his first-ever ODI against India, back in late 2010 at Visakhapatnam.Smith didn't bat and had bowled three expensive overs. Australia lost the match with Virat Kohli producing one of his early run-chase classics, with what was still only is third ODI ton. Just like he did in Smith's final ODI against India, even if Kohli failed to notch up a three-figure score this time around.That Vizag effort had came at a time when Kohli, probably for the only time in his ODI career was under a bit of pressure, having gone through a lean patch. It also came at a stage when Smith was still very much finding his feet in international cricket. It did however set in motion this enduring battle within a battle between Kohli and Smith, a few months after the Aussie had made his Test debut and still 8 months before the Indian would get his Test cap.And though comparisons between the two have existed throughout their lengthy Test careers, rarely have the duo been spoken of in the same breath when it comes to the 50-over format.It's probably a simple case of sample size, with Kohli having played nearly double the number of ODIs, while also accumulating a staggering record in the format, one which has few if any rivals. Smith's 50-over numbers in contrast may not be immediately eye-catching but an average of 43.28 and a strike-rate of 86.96 are quite impressive, considering the role he's played for his country. They also pale in comparison to his own Test numbers, which put him in a stratosphere of its own.Smith did have moments of brilliance, where he looked like the best ODI player in the world, especially when he scored three ODI tons on the trot in the same year against India. They did come across two separate tours of course but his back-to-back 62-ball tons in Sydney in late 2020-which came on the back of his 132-ball 131 in Bengaluru earlier in the year-were a glimpse into the elite gear that he did possess with his white-ball batting, which he hasn't always felt the need to tap into, largely because of his defined role in this setup.And while Smith the ODI batter might not be remembered with the level of reverence Smith the Test batter will be, Indian teams will rest easy and be relieved to see the back of him. You just need to go back to that moment in the 2023 World Cup final, when Smith walked away without reviewing his contentious LBW call with just four runs to show for his short stay at the crease. There were few Indian fans at the Narendra Modi Stadium that night, or around the world, who didn't start feeling a lot better about their team going on to win the World Cup. Only for Travis Head to spoil the party for a change.India, however, found a way to stop Head on Tuesday in Dubai. Just like they did to see off Smith the ODI player, in what turned into his 50-over farewell. It was only apt that he eventually bid adieu in Kohli's arms.\n",
        "\"\"\""
      ],
      "metadata": {
        "id": "UYOUuX9RX9DA"
      },
      "execution_count": 4,
      "outputs": []
    },
    {
      "cell_type": "code",
      "source": [
        "tokens = text.encode(\"utf-8\")\n",
        "tokens = list(map(int,tokens))\n",
        "\n",
        "print('----')\n",
        "print(text)\n",
        "print('length:',len(text))\n",
        "print('----')\n",
        "print(tokens)\n",
        "print('length:',len(tokens))"
      ],
      "metadata": {
        "colab": {
          "base_uri": "https://localhost:8080/"
        },
        "id": "3DkYnQj4QqX1",
        "outputId": "300c7e68-9109-410f-ccf9-835b5d93aba0"
      },
      "execution_count": 5,
      "outputs": [
        {
          "output_type": "stream",
          "name": "stdout",
          "text": [
            "----\n",
            "Shaun Pollock has a favorite story about the toss. The former South Africa captain was once advised by Malcolm Marshall to always call 'Heads', because, as the legendary West Indian pacer put it, a human doesn't have a tail. It's still unclear what Rohit Sharma has been calling, or even for that matter what the opposing captains have been choosing. What is clear, however, is that India have not won the toss in their last 14 consecutive ODIs.This marks the longest streak of toss losses in ODI history, beginning with the World Cup final in Ahmedabad on November 19, 2023. Despite this, India have managed nine wins out of the 14 matches, with four losses and one tie (against Sri Lanka). This time, there has been no decisive advantage for the chasing team - India have won one match while defending and three while chasing. This refreshing trend can largely be attributed to the absence of dew in the air or on the ground. With the weather being chilly in the nights, dew was expected to play a role in the tournament. Fortunately, it hasn't.I for one thought there would be a little bit more dew at this ground at this time of year. Fortunately there hasn't been. Therefore the toss is actually not a big factor and I think that's great, says Mike Hesson, a former New Zealand coach. Heading into a Champions Trophy final you're not worried about who wins the toss and certainly if you're an Indian fan and the fact Rohit Sharma's lost 14 in a row, it's not something you're going to lose a whole heap of sleep over.Rohit, no doubt, won't lose sleep over the toss, but he may still have a slight advantage if he wins it. According to Hesson, Varun Chakaravarthy the player of the match in the previous game against New Zealand here, would be difficult to pick under the lights. I think at the toss, from a tactical point of view, New Zealand will want to bat first and they will want to do what they did against South Africa in the semifinal. The reason why I say that is because of this man here, Varun Chakaravarthy.Kane Williamson, who hammered a century in the semifinal against South Africa in Lahore on Wednesday, agrees that the conditions would be different at DICS from Gaddafi Stadium but hopes for a good contest. The conditions are a lot different but you know that's sort of the nature of the beast. I think in any tournament that you have, conditions change a little bit throughout. For us, it was nice to have that last match against India.There's some really good bits there. India are an outstanding team and are playing really well. So, look, it's important we try and take away some learnings from that last game. Park this match, and in a final, anything can happen. And it was a great atmosphere last game and I'm sure it'll be a good one again.The former captain, however, refused to buy the argument that India have had an advantage by playing all games in Dubai. It is what it is, he said. Our focus is the next match, the location of that match, the opposition, they're all factors. Obviously, we played India once there. The conditions are different, so it's important that we try and take away some of those positives and be nice and clear in how we're trying to operate come two- or three-days' time in the final. It's the nature of it and we're looking forward to the final and excited about it.In a way, it was apt that Steve Smith's final act as an ODI cricketer was a hug and a fond chat with Virat Kohli. As close-ups would reveal later, it also happened to be the moment when Smith probably made his decision to retire from 50-over cricket public. By confiding in one of his oldest rivals, counterparts, and cricketing mates. It was a touching and poignant moment, as Smith leaned on Kohli's shoulder, and stayed there for a couple of seconds as the former Indian captain whispered some words into his eaThe fact that it came only minutes following the pretty intense celebrations in the Indian camp, led by a very animated Kohli, after they'd overcome the Australian hurdle to make the Champions Trophy final only made the brotherly embrace even sweeter.For, not only have the two era-defining right-handers been the yardsticks for greatness as contemporaries, they have also been serial adversaries on the field throughout their respective journeys when it comes to ODI cricket.The retiring 35-year-old had, after all, played more 50-over matches against Kohli than any other opposition player, 28 in all, of the 30 he appeared in overall against India.And there was a bit of irony in the fact that Smith couldn't see Australia home in what would have anyway been his final encounter versus his arch nemeses, who he's generally dominated against. Not that he didn't try his hardest to foil the Indian juggernaut, both as batter and as captain, like he'd done so often throughout his ODI career. His innings of 73 on a slow pitch was trademark Smith, one India had become all too familiar with. Both in terms of how he manipulated the fields, and also in the way he set the tempo for his team. Even if he couldn't see it through, getting out to a very un-Steve Smith like slog. Even if he couldn't go on to make a century, like he'd done 5 times previously against the Indians, all but one of which resulted in a win for Australia.Just for the record, he never went past 2 centuries against any other country and made only a solitary ton in 40 innings against England. No wonder then that the country he scored most ODI runs against was India, with 1383 runs at 53.19 in 26 innings. And no surprises that despite not being considered one of the best ODI players of his generation, purely in terms of numbers, Smith was dreaded by the best ODI team of his generation, who once too often were at the receiving end of his white-ball genius.Smith's most significant knock, without doubt, was his maiden ODI century against the Indians, on his home-ground at the SCG, to thwart India's progress in the 2015 Word Cup. It was a masterful knock that set up the semi-final win at the back end of a home summer where he'd lorded over India with the bat in the Border Gavaskar Trophy. The summer that made Steve Smith, and forever transformed him from the blonde-haired handy all-rounder into the world beater with the bat. It was in his previous avatar that he'd played his first-ever ODI against India, back in late 2010 at Visakhapatnam.Smith didn't bat and had bowled three expensive overs. Australia lost the match with Virat Kohli producing one of his early run-chase classics, with what was still only is third ODI ton. Just like he did in Smith's final ODI against India, even if Kohli failed to notch up a three-figure score this time around.That Vizag effort had came at a time when Kohli, probably for the only time in his ODI career was under a bit of pressure, having gone through a lean patch. It also came at a stage when Smith was still very much finding his feet in international cricket. It did however set in motion this enduring battle within a battle between Kohli and Smith, a few months after the Aussie had made his Test debut and still 8 months before the Indian would get his Test cap.And though comparisons between the two have existed throughout their lengthy Test careers, rarely have the duo been spoken of in the same breath when it comes to the 50-over format.It's probably a simple case of sample size, with Kohli having played nearly double the number of ODIs, while also accumulating a staggering record in the format, one which has few if any rivals. Smith's 50-over numbers in contrast may not be immediately eye-catching but an average of 43.28 and a strike-rate of 86.96 are quite impressive, considering the role he's played for his country. They also pale in comparison to his own Test numbers, which put him in a stratosphere of its own.Smith did have moments of brilliance, where he looked like the best ODI player in the world, especially when he scored three ODI tons on the trot in the same year against India. They did come across two separate tours of course but his back-to-back 62-ball tons in Sydney in late 2020-which came on the back of his 132-ball 131 in Bengaluru earlier in the year-were a glimpse into the elite gear that he did possess with his white-ball batting, which he hasn't always felt the need to tap into, largely because of his defined role in this setup.And while Smith the ODI batter might not be remembered with the level of reverence Smith the Test batter will be, Indian teams will rest easy and be relieved to see the back of him. You just need to go back to that moment in the 2023 World Cup final, when Smith walked away without reviewing his contentious LBW call with just four runs to show for his short stay at the crease. There were few Indian fans at the Narendra Modi Stadium that night, or around the world, who didn't start feeling a lot better about their team going on to win the World Cup. Only for Travis Head to spoil the party for a change.India, however, found a way to stop Head on Tuesday in Dubai. Just like they did to see off Smith the ODI player, in what turned into his 50-over farewell. It was only apt that he eventually bid adieu in Kohli's arms.\n",
            "\n",
            "length: 9179\n",
            "----\n",
            "[83, 104, 97, 117, 110, 32, 80, 111, 108, 108, 111, 99, 107, 32, 104, 97, 115, 32, 97, 32, 102, 97, 118, 111, 114, 105, 116, 101, 32, 115, 116, 111, 114, 121, 32, 97, 98, 111, 117, 116, 32, 116, 104, 101, 32, 116, 111, 115, 115, 46, 32, 84, 104, 101, 32, 102, 111, 114, 109, 101, 114, 32, 83, 111, 117, 116, 104, 32, 65, 102, 114, 105, 99, 97, 32, 99, 97, 112, 116, 97, 105, 110, 32, 119, 97, 115, 32, 111, 110, 99, 101, 32, 97, 100, 118, 105, 115, 101, 100, 32, 98, 121, 32, 77, 97, 108, 99, 111, 108, 109, 32, 77, 97, 114, 115, 104, 97, 108, 108, 32, 116, 111, 32, 97, 108, 119, 97, 121, 115, 32, 99, 97, 108, 108, 32, 39, 72, 101, 97, 100, 115, 39, 44, 32, 98, 101, 99, 97, 117, 115, 101, 44, 32, 97, 115, 32, 116, 104, 101, 32, 108, 101, 103, 101, 110, 100, 97, 114, 121, 32, 87, 101, 115, 116, 32, 73, 110, 100, 105, 97, 110, 32, 112, 97, 99, 101, 114, 32, 112, 117, 116, 32, 105, 116, 44, 32, 97, 32, 104, 117, 109, 97, 110, 32, 100, 111, 101, 115, 110, 39, 116, 32, 104, 97, 118, 101, 32, 97, 32, 116, 97, 105, 108, 46, 32, 73, 116, 39, 115, 32, 115, 116, 105, 108, 108, 32, 117, 110, 99, 108, 101, 97, 114, 32, 119, 104, 97, 116, 32, 82, 111, 104, 105, 116, 32, 83, 104, 97, 114, 109, 97, 32, 104, 97, 115, 32, 98, 101, 101, 110, 32, 99, 97, 108, 108, 105, 110, 103, 44, 32, 111, 114, 32, 101, 118, 101, 110, 32, 102, 111, 114, 32, 116, 104, 97, 116, 32, 109, 97, 116, 116, 101, 114, 32, 119, 104, 97, 116, 32, 116, 104, 101, 32, 111, 112, 112, 111, 115, 105, 110, 103, 32, 99, 97, 112, 116, 97, 105, 110, 115, 32, 104, 97, 118, 101, 32, 98, 101, 101, 110, 32, 99, 104, 111, 111, 115, 105, 110, 103, 46, 32, 87, 104, 97, 116, 32, 105, 115, 32, 99, 108, 101, 97, 114, 44, 32, 104, 111, 119, 101, 118, 101, 114, 44, 32, 105, 115, 32, 116, 104, 97, 116, 32, 73, 110, 100, 105, 97, 32, 104, 97, 118, 101, 32, 110, 111, 116, 32, 119, 111, 110, 32, 116, 104, 101, 32, 116, 111, 115, 115, 32, 105, 110, 32, 116, 104, 101, 105, 114, 32, 108, 97, 115, 116, 32, 49, 52, 32, 99, 111, 110, 115, 101, 99, 117, 116, 105, 118, 101, 32, 79, 68, 73, 115, 46, 84, 104, 105, 115, 32, 109, 97, 114, 107, 115, 32, 116, 104, 101, 32, 108, 111, 110, 103, 101, 115, 116, 32, 115, 116, 114, 101, 97, 107, 32, 111, 102, 32, 116, 111, 115, 115, 32, 108, 111, 115, 115, 101, 115, 32, 105, 110, 32, 79, 68, 73, 32, 104, 105, 115, 116, 111, 114, 121, 44, 32, 98, 101, 103, 105, 110, 110, 105, 110, 103, 32, 119, 105, 116, 104, 32, 116, 104, 101, 32, 87, 111, 114, 108, 100, 32, 67, 117, 112, 32, 102, 105, 110, 97, 108, 32, 105, 110, 32, 65, 104, 109, 101, 100, 97, 98, 97, 100, 32, 111, 110, 32, 78, 111, 118, 101, 109, 98, 101, 114, 32, 49, 57, 44, 32, 50, 48, 50, 51, 46, 32, 68, 101, 115, 112, 105, 116, 101, 32, 116, 104, 105, 115, 44, 32, 73, 110, 100, 105, 97, 32, 104, 97, 118, 101, 32, 109, 97, 110, 97, 103, 101, 100, 32, 110, 105, 110, 101, 32, 119, 105, 110, 115, 32, 111, 117, 116, 32, 111, 102, 32, 116, 104, 101, 32, 49, 52, 32, 109, 97, 116, 99, 104, 101, 115, 44, 32, 119, 105, 116, 104, 32, 102, 111, 117, 114, 32, 108, 111, 115, 115, 101, 115, 32, 97, 110, 100, 32, 111, 110, 101, 32, 116, 105, 101, 32, 40, 97, 103, 97, 105, 110, 115, 116, 32, 83, 114, 105, 32, 76, 97, 110, 107, 97, 41, 46, 32, 84, 104, 105, 115, 32, 116, 105, 109, 101, 44, 32, 116, 104, 101, 114, 101, 32, 104, 97, 115, 32, 98, 101, 101, 110, 32, 110, 111, 32, 100, 101, 99, 105, 115, 105, 118, 101, 32, 97, 100, 118, 97, 110, 116, 97, 103, 101, 32, 102, 111, 114, 32, 116, 104, 101, 32, 99, 104, 97, 115, 105, 110, 103, 32, 116, 101, 97, 109, 32, 45, 32, 73, 110, 100, 105, 97, 32, 104, 97, 118, 101, 32, 119, 111, 110, 32, 111, 110, 101, 32, 109, 97, 116, 99, 104, 32, 119, 104, 105, 108, 101, 32, 100, 101, 102, 101, 110, 100, 105, 110, 103, 32, 97, 110, 100, 32, 116, 104, 114, 101, 101, 32, 119, 104, 105, 108, 101, 32, 99, 104, 97, 115, 105, 110, 103, 46, 32, 84, 104, 105, 115, 32, 114, 101, 102, 114, 101, 115, 104, 105, 110, 103, 32, 116, 114, 101, 110, 100, 32, 99, 97, 110, 32, 108, 97, 114, 103, 101, 108, 121, 32, 98, 101, 32, 97, 116, 116, 114, 105, 98, 117, 116, 101, 100, 32, 116, 111, 32, 116, 104, 101, 32, 97, 98, 115, 101, 110, 99, 101, 32, 111, 102, 32, 100, 101, 119, 32, 105, 110, 32, 116, 104, 101, 32, 97, 105, 114, 32, 111, 114, 32, 111, 110, 32, 116, 104, 101, 32, 103, 114, 111, 117, 110, 100, 46, 32, 87, 105, 116, 104, 32, 116, 104, 101, 32, 119, 101, 97, 116, 104, 101, 114, 32, 98, 101, 105, 110, 103, 32, 99, 104, 105, 108, 108, 121, 32, 105, 110, 32, 116, 104, 101, 32, 110, 105, 103, 104, 116, 115, 44, 32, 100, 101, 119, 32, 119, 97, 115, 32, 101, 120, 112, 101, 99, 116, 101, 100, 32, 116, 111, 32, 112, 108, 97, 121, 32, 97, 32, 114, 111, 108, 101, 32, 105, 110, 32, 116, 104, 101, 32, 116, 111, 117, 114, 110, 97, 109, 101, 110, 116, 46, 32, 70, 111, 114, 116, 117, 110, 97, 116, 101, 108, 121, 44, 32, 105, 116, 32, 104, 97, 115, 110, 39, 116, 46, 73, 32, 102, 111, 114, 32, 111, 110, 101, 32, 116, 104, 111, 117, 103, 104, 116, 32, 116, 104, 101, 114, 101, 32, 119, 111, 117, 108, 100, 32, 98, 101, 32, 97, 32, 108, 105, 116, 116, 108, 101, 32, 98, 105, 116, 32, 109, 111, 114, 101, 32, 100, 101, 119, 32, 97, 116, 32, 116, 104, 105, 115, 32, 103, 114, 111, 117, 110, 100, 32, 97, 116, 32, 116, 104, 105, 115, 32, 116, 105, 109, 101, 32, 111, 102, 32, 121, 101, 97, 114, 46, 32, 70, 111, 114, 116, 117, 110, 97, 116, 101, 108, 121, 32, 116, 104, 101, 114, 101, 32, 104, 97, 115, 110, 39, 116, 32, 98, 101, 101, 110, 46, 32, 84, 104, 101, 114, 101, 102, 111, 114, 101, 32, 116, 104, 101, 32, 116, 111, 115, 115, 32, 105, 115, 32, 97, 99, 116, 117, 97, 108, 108, 121, 32, 110, 111, 116, 32, 97, 32, 98, 105, 103, 32, 102, 97, 99, 116, 111, 114, 32, 97, 110, 100, 32, 73, 32, 116, 104, 105, 110, 107, 32, 116, 104, 97, 116, 39, 115, 32, 103, 114, 101, 97, 116, 44, 32, 115, 97, 121, 115, 32, 77, 105, 107, 101, 32, 72, 101, 115, 115, 111, 110, 44, 32, 97, 32, 102, 111, 114, 109, 101, 114, 32, 78, 101, 119, 32, 90, 101, 97, 108, 97, 110, 100, 32, 99, 111, 97, 99, 104, 46, 32, 72, 101, 97, 100, 105, 110, 103, 32, 105, 110, 116, 111, 32, 97, 32, 67, 104, 97, 109, 112, 105, 111, 110, 115, 32, 84, 114, 111, 112, 104, 121, 32, 102, 105, 110, 97, 108, 32, 121, 111, 117, 39, 114, 101, 32, 110, 111, 116, 32, 119, 111, 114, 114, 105, 101, 100, 32, 97, 98, 111, 117, 116, 32, 119, 104, 111, 32, 119, 105, 110, 115, 32, 116, 104, 101, 32, 116, 111, 115, 115, 32, 97, 110, 100, 32, 99, 101, 114, 116, 97, 105, 110, 108, 121, 32, 105, 102, 32, 121, 111, 117, 39, 114, 101, 32, 97, 110, 32, 73, 110, 100, 105, 97, 110, 32, 102, 97, 110, 32, 97, 110, 100, 32, 116, 104, 101, 32, 102, 97, 99, 116, 32, 82, 111, 104, 105, 116, 32, 83, 104, 97, 114, 109, 97, 39, 115, 32, 108, 111, 115, 116, 32, 49, 52, 32, 105, 110, 32, 97, 32, 114, 111, 119, 44, 32, 105, 116, 39, 115, 32, 110, 111, 116, 32, 115, 111, 109, 101, 116, 104, 105, 110, 103, 32, 121, 111, 117, 39, 114, 101, 32, 103, 111, 105, 110, 103, 32, 116, 111, 32, 108, 111, 115, 101, 32, 97, 32, 119, 104, 111, 108, 101, 32, 104, 101, 97, 112, 32, 111, 102, 32, 115, 108, 101, 101, 112, 32, 111, 118, 101, 114, 46, 82, 111, 104, 105, 116, 44, 32, 110, 111, 32, 100, 111, 117, 98, 116, 44, 32, 119, 111, 110, 39, 116, 32, 108, 111, 115, 101, 32, 115, 108, 101, 101, 112, 32, 111, 118, 101, 114, 32, 116, 104, 101, 32, 116, 111, 115, 115, 44, 32, 98, 117, 116, 32, 104, 101, 32, 109, 97, 121, 32, 115, 116, 105, 108, 108, 32, 104, 97, 118, 101, 32, 97, 32, 115, 108, 105, 103, 104, 116, 32, 97, 100, 118, 97, 110, 116, 97, 103, 101, 32, 105, 102, 32, 104, 101, 32, 119, 105, 110, 115, 32, 105, 116, 46, 32, 65, 99, 99, 111, 114, 100, 105, 110, 103, 32, 116, 111, 32, 72, 101, 115, 115, 111, 110, 44, 32, 86, 97, 114, 117, 110, 32, 67, 104, 97, 107, 97, 114, 97, 118, 97, 114, 116, 104, 121, 32, 116, 104, 101, 32, 112, 108, 97, 121, 101, 114, 32, 111, 102, 32, 116, 104, 101, 32, 109, 97, 116, 99, 104, 32, 105, 110, 32, 116, 104, 101, 32, 112, 114, 101, 118, 105, 111, 117, 115, 32, 103, 97, 109, 101, 32, 97, 103, 97, 105, 110, 115, 116, 32, 78, 101, 119, 32, 90, 101, 97, 108, 97, 110, 100, 32, 104, 101, 114, 101, 44, 32, 119, 111, 117, 108, 100, 32, 98, 101, 32, 100, 105, 102, 102, 105, 99, 117, 108, 116, 32, 116, 111, 32, 112, 105, 99, 107, 32, 117, 110, 100, 101, 114, 32, 116, 104, 101, 32, 108, 105, 103, 104, 116, 115, 46, 32, 73, 32, 116, 104, 105, 110, 107, 32, 97, 116, 32, 116, 104, 101, 32, 116, 111, 115, 115, 44, 32, 102, 114, 111, 109, 32, 97, 32, 116, 97, 99, 116, 105, 99, 97, 108, 32, 112, 111, 105, 110, 116, 32, 111, 102, 32, 118, 105, 101, 119, 44, 32, 78, 101, 119, 32, 90, 101, 97, 108, 97, 110, 100, 32, 119, 105, 108, 108, 32, 119, 97, 110, 116, 32, 116, 111, 32, 98, 97, 116, 32, 102, 105, 114, 115, 116, 32, 97, 110, 100, 32, 116, 104, 101, 121, 32, 119, 105, 108, 108, 32, 119, 97, 110, 116, 32, 116, 111, 32, 100, 111, 32, 119, 104, 97, 116, 32, 116, 104, 101, 121, 32, 100, 105, 100, 32, 97, 103, 97, 105, 110, 115, 116, 32, 83, 111, 117, 116, 104, 32, 65, 102, 114, 105, 99, 97, 32, 105, 110, 32, 116, 104, 101, 32, 115, 101, 109, 105, 102, 105, 110, 97, 108, 46, 32, 84, 104, 101, 32, 114, 101, 97, 115, 111, 110, 32, 119, 104, 121, 32, 73, 32, 115, 97, 121, 32, 116, 104, 97, 116, 32, 105, 115, 32, 98, 101, 99, 97, 117, 115, 101, 32, 111, 102, 32, 116, 104, 105, 115, 32, 109, 97, 110, 32, 104, 101, 114, 101, 44, 32, 86, 97, 114, 117, 110, 32, 67, 104, 97, 107, 97, 114, 97, 118, 97, 114, 116, 104, 121, 46, 75, 97, 110, 101, 32, 87, 105, 108, 108, 105, 97, 109, 115, 111, 110, 44, 32, 119, 104, 111, 32, 104, 97, 109, 109, 101, 114, 101, 100, 32, 97, 32, 99, 101, 110, 116, 117, 114, 121, 32, 105, 110, 32, 116, 104, 101, 32, 115, 101, 109, 105, 102, 105, 110, 97, 108, 32, 97, 103, 97, 105, 110, 115, 116, 32, 83, 111, 117, 116, 104, 32, 65, 102, 114, 105, 99, 97, 32, 105, 110, 32, 76, 97, 104, 111, 114, 101, 32, 111, 110, 32, 87, 101, 100, 110, 101, 115, 100, 97, 121, 44, 32, 97, 103, 114, 101, 101, 115, 32, 116, 104, 97, 116, 32, 116, 104, 101, 32, 99, 111, 110, 100, 105, 116, 105, 111, 110, 115, 32, 119, 111, 117, 108, 100, 32, 98, 101, 32, 100, 105, 102, 102, 101, 114, 101, 110, 116, 32, 97, 116, 32, 68, 73, 67, 83, 32, 102, 114, 111, 109, 32, 71, 97, 100, 100, 97, 102, 105, 32, 83, 116, 97, 100, 105, 117, 109, 32, 98, 117, 116, 32, 104, 111, 112, 101, 115, 32, 102, 111, 114, 32, 97, 32, 103, 111, 111, 100, 32, 99, 111, 110, 116, 101, 115, 116, 46, 32, 84, 104, 101, 32, 99, 111, 110, 100, 105, 116, 105, 111, 110, 115, 32, 97, 114, 101, 32, 97, 32, 108, 111, 116, 32, 100, 105, 102, 102, 101, 114, 101, 110, 116, 32, 98, 117, 116, 32, 121, 111, 117, 32, 107, 110, 111, 119, 32, 116, 104, 97, 116, 39, 115, 32, 115, 111, 114, 116, 32, 111, 102, 32, 116, 104, 101, 32, 110, 97, 116, 117, 114, 101, 32, 111, 102, 32, 116, 104, 101, 32, 98, 101, 97, 115, 116, 46, 32, 73, 32, 116, 104, 105, 110, 107, 32, 105, 110, 32, 97, 110, 121, 32, 116, 111, 117, 114, 110, 97, 109, 101, 110, 116, 32, 116, 104, 97, 116, 32, 121, 111, 117, 32, 104, 97, 118, 101, 44, 32, 99, 111, 110, 100, 105, 116, 105, 111, 110, 115, 32, 99, 104, 97, 110, 103, 101, 32, 97, 32, 108, 105, 116, 116, 108, 101, 32, 98, 105, 116, 32, 116, 104, 114, 111, 117, 103, 104, 111, 117, 116, 46, 32, 70, 111, 114, 32, 117, 115, 44, 32, 105, 116, 32, 119, 97, 115, 32, 110, 105, 99, 101, 32, 116, 111, 32, 104, 97, 118, 101, 32, 116, 104, 97, 116, 32, 108, 97, 115, 116, 32, 109, 97, 116, 99, 104, 32, 97, 103, 97, 105, 110, 115, 116, 32, 73, 110, 100, 105, 97, 46, 84, 104, 101, 114, 101, 39, 115, 32, 115, 111, 109, 101, 32, 114, 101, 97, 108, 108, 121, 32, 103, 111, 111, 100, 32, 98, 105, 116, 115, 32, 116, 104, 101, 114, 101, 46, 32, 73, 110, 100, 105, 97, 32, 97, 114, 101, 32, 97, 110, 32, 111, 117, 116, 115, 116, 97, 110, 100, 105, 110, 103, 32, 116, 101, 97, 109, 32, 97, 110, 100, 32, 97, 114, 101, 32, 112, 108, 97, 121, 105, 110, 103, 32, 114, 101, 97, 108, 108, 121, 32, 119, 101, 108, 108, 46, 32, 83, 111, 44, 32, 108, 111, 111, 107, 44, 32, 105, 116, 39, 115, 32, 105, 109, 112, 111, 114, 116, 97, 110, 116, 32, 119, 101, 32, 116, 114, 121, 32, 97, 110, 100, 32, 116, 97, 107, 101, 32, 97, 119, 97, 121, 32, 115, 111, 109, 101, 32, 108, 101, 97, 114, 110, 105, 110, 103, 115, 32, 102, 114, 111, 109, 32, 116, 104, 97, 116, 32, 108, 97, 115, 116, 32, 103, 97, 109, 101, 46, 32, 80, 97, 114, 107, 32, 116, 104, 105, 115, 32, 109, 97, 116, 99, 104, 44, 32, 97, 110, 100, 32, 105, 110, 32, 97, 32, 102, 105, 110, 97, 108, 44, 32, 97, 110, 121, 116, 104, 105, 110, 103, 32, 99, 97, 110, 32, 104, 97, 112, 112, 101, 110, 46, 32, 65, 110, 100, 32, 105, 116, 32, 119, 97, 115, 32, 97, 32, 103, 114, 101, 97, 116, 32, 97, 116, 109, 111, 115, 112, 104, 101, 114, 101, 32, 108, 97, 115, 116, 32, 103, 97, 109, 101, 32, 97, 110, 100, 32, 73, 39, 109, 32, 115, 117, 114, 101, 32, 105, 116, 39, 108, 108, 32, 98, 101, 32, 97, 32, 103, 111, 111, 100, 32, 111, 110, 101, 32, 97, 103, 97, 105, 110, 46, 84, 104, 101, 32, 102, 111, 114, 109, 101, 114, 32, 99, 97, 112, 116, 97, 105, 110, 44, 32, 104, 111, 119, 101, 118, 101, 114, 44, 32, 114, 101, 102, 117, 115, 101, 100, 32, 116, 111, 32, 98, 117, 121, 32, 116, 104, 101, 32, 97, 114, 103, 117, 109, 101, 110, 116, 32, 116, 104, 97, 116, 32, 73, 110, 100, 105, 97, 32, 104, 97, 118, 101, 32, 104, 97, 100, 32, 97, 110, 32, 97, 100, 118, 97, 110, 116, 97, 103, 101, 32, 98, 121, 32, 112, 108, 97, 121, 105, 110, 103, 32, 97, 108, 108, 32, 103, 97, 109, 101, 115, 32, 105, 110, 32, 68, 117, 98, 97, 105, 46, 32, 73, 116, 32, 105, 115, 32, 119, 104, 97, 116, 32, 105, 116, 32, 105, 115, 44, 32, 104, 101, 32, 115, 97, 105, 100, 46, 32, 79, 117, 114, 32, 102, 111, 99, 117, 115, 32, 105, 115, 32, 116, 104, 101, 32, 110, 101, 120, 116, 32, 109, 97, 116, 99, 104, 44, 32, 116, 104, 101, 32, 108, 111, 99, 97, 116, 105, 111, 110, 32, 111, 102, 32, 116, 104, 97, 116, 32, 109, 97, 116, 99, 104, 44, 32, 116, 104, 101, 32, 111, 112, 112, 111, 115, 105, 116, 105, 111, 110, 44, 32, 116, 104, 101, 121, 39, 114, 101, 32, 97, 108, 108, 32, 102, 97, 99, 116, 111, 114, 115, 46, 32, 79, 98, 118, 105, 111, 117, 115, 108, 121, 44, 32, 119, 101, 32, 112, 108, 97, 121, 101, 100, 32, 73, 110, 100, 105, 97, 32, 111, 110, 99, 101, 32, 116, 104, 101, 114, 101, 46, 32, 84, 104, 101, 32, 99, 111, 110, 100, 105, 116, 105, 111, 110, 115, 32, 97, 114, 101, 32, 100, 105, 102, 102, 101, 114, 101, 110, 116, 44, 32, 115, 111, 32, 105, 116, 39, 115, 32, 105, 109, 112, 111, 114, 116, 97, 110, 116, 32, 116, 104, 97, 116, 32, 119, 101, 32, 116, 114, 121, 32, 97, 110, 100, 32, 116, 97, 107, 101, 32, 97, 119, 97, 121, 32, 115, 111, 109, 101, 32, 111, 102, 32, 116, 104, 111, 115, 101, 32, 112, 111, 115, 105, 116, 105, 118, 101, 115, 32, 97, 110, 100, 32, 98, 101, 32, 110, 105, 99, 101, 32, 97, 110, 100, 32, 99, 108, 101, 97, 114, 32, 105, 110, 32, 104, 111, 119, 32, 119, 101, 39, 114, 101, 32, 116, 114, 121, 105, 110, 103, 32, 116, 111, 32, 111, 112, 101, 114, 97, 116, 101, 32, 99, 111, 109, 101, 32, 116, 119, 111, 45, 32, 111, 114, 32, 116, 104, 114, 101, 101, 45, 100, 97, 121, 115, 39, 32, 116, 105, 109, 101, 32, 105, 110, 32, 116, 104, 101, 32, 102, 105, 110, 97, 108, 46, 32, 73, 116, 39, 115, 32, 116, 104, 101, 32, 110, 97, 116, 117, 114, 101, 32, 111, 102, 32, 105, 116, 32, 97, 110, 100, 32, 119, 101, 39, 114, 101, 32, 108, 111, 111, 107, 105, 110, 103, 32, 102, 111, 114, 119, 97, 114, 100, 32, 116, 111, 32, 116, 104, 101, 32, 102, 105, 110, 97, 108, 32, 97, 110, 100, 32, 101, 120, 99, 105, 116, 101, 100, 32, 97, 98, 111, 117, 116, 32, 105, 116, 46, 73, 110, 32, 97, 32, 119, 97, 121, 44, 32, 105, 116, 32, 119, 97, 115, 32, 97, 112, 116, 32, 116, 104, 97, 116, 32, 83, 116, 101, 118, 101, 32, 83, 109, 105, 116, 104, 39, 115, 32, 102, 105, 110, 97, 108, 32, 97, 99, 116, 32, 97, 115, 32, 97, 110, 32, 79, 68, 73, 32, 99, 114, 105, 99, 107, 101, 116, 101, 114, 32, 119, 97, 115, 32, 97, 32, 104, 117, 103, 32, 97, 110, 100, 32, 97, 32, 102, 111, 110, 100, 32, 99, 104, 97, 116, 32, 119, 105, 116, 104, 32, 86, 105, 114, 97, 116, 32, 75, 111, 104, 108, 105, 46, 32, 65, 115, 32, 99, 108, 111, 115, 101, 45, 117, 112, 115, 32, 119, 111, 117, 108, 100, 32, 114, 101, 118, 101, 97, 108, 32, 108, 97, 116, 101, 114, 44, 32, 105, 116, 32, 97, 108, 115, 111, 32, 104, 97, 112, 112, 101, 110, 101, 100, 32, 116, 111, 32, 98, 101, 32, 116, 104, 101, 32, 109, 111, 109, 101, 110, 116, 32, 119, 104, 101, 110, 32, 83, 109, 105, 116, 104, 32, 112, 114, 111, 98, 97, 98, 108, 121, 32, 109, 97, 100, 101, 32, 104, 105, 115, 32, 100, 101, 99, 105, 115, 105, 111, 110, 32, 116, 111, 32, 114, 101, 116, 105, 114, 101, 32, 102, 114, 111, 109, 32, 53, 48, 45, 111, 118, 101, 114, 32, 99, 114, 105, 99, 107, 101, 116, 32, 112, 117, 98, 108, 105, 99, 46, 32, 66, 121, 32, 99, 111, 110, 102, 105, 100, 105, 110, 103, 32, 105, 110, 32, 111, 110, 101, 32, 111, 102, 32, 104, 105, 115, 32, 111, 108, 100, 101, 115, 116, 32, 114, 105, 118, 97, 108, 115, 44, 32, 99, 111, 117, 110, 116, 101, 114, 112, 97, 114, 116, 115, 44, 32, 97, 110, 100, 32, 99, 114, 105, 99, 107, 101, 116, 105, 110, 103, 32, 109, 97, 116, 101, 115, 46, 32, 73, 116, 32, 119, 97, 115, 32, 97, 32, 116, 111, 117, 99, 104, 105, 110, 103, 32, 97, 110, 100, 32, 112, 111, 105, 103, 110, 97, 110, 116, 32, 109, 111, 109, 101, 110, 116, 44, 32, 97, 115, 32, 83, 109, 105, 116, 104, 32, 108, 101, 97, 110, 101, 100, 32, 111, 110, 32, 75, 111, 104, 108, 105, 39, 115, 32, 115, 104, 111, 117, 108, 100, 101, 114, 44, 32, 97, 110, 100, 32, 115, 116, 97, 121, 101, 100, 32, 116, 104, 101, 114, 101, 32, 102, 111, 114, 32, 97, 32, 99, 111, 117, 112, 108, 101, 32, 111, 102, 32, 115, 101, 99, 111, 110, 100, 115, 32, 97, 115, 32, 116, 104, 101, 32, 102, 111, 114, 109, 101, 114, 32, 73, 110, 100, 105, 97, 110, 32, 99, 97, 112, 116, 97, 105, 110, 32, 119, 104, 105, 115, 112, 101, 114, 101, 100, 32, 115, 111, 109, 101, 32, 119, 111, 114, 100, 115, 32, 105, 110, 116, 111, 32, 104, 105, 115, 32, 101, 97, 84, 104, 101, 32, 102, 97, 99, 116, 32, 116, 104, 97, 116, 32, 105, 116, 32, 99, 97, 109, 101, 32, 111, 110, 108, 121, 32, 109, 105, 110, 117, 116, 101, 115, 32, 102, 111, 108, 108, 111, 119, 105, 110, 103, 32, 116, 104, 101, 32, 112, 114, 101, 116, 116, 121, 32, 105, 110, 116, 101, 110, 115, 101, 32, 99, 101, 108, 101, 98, 114, 97, 116, 105, 111, 110, 115, 32, 105, 110, 32, 116, 104, 101, 32, 73, 110, 100, 105, 97, 110, 32, 99, 97, 109, 112, 44, 32, 108, 101, 100, 32, 98, 121, 32, 97, 32, 118, 101, 114, 121, 32, 97, 110, 105, 109, 97, 116, 101, 100, 32, 75, 111, 104, 108, 105, 44, 32, 97, 102, 116, 101, 114, 32, 116, 104, 101, 121, 39, 100, 32, 111, 118, 101, 114, 99, 111, 109, 101, 32, 116, 104, 101, 32, 65, 117, 115, 116, 114, 97, 108, 105, 97, 110, 32, 104, 117, 114, 100, 108, 101, 32, 116, 111, 32, 109, 97, 107, 101, 32, 116, 104, 101, 32, 67, 104, 97, 109, 112, 105, 111, 110, 115, 32, 84, 114, 111, 112, 104, 121, 32, 102, 105, 110, 97, 108, 32, 111, 110, 108, 121, 32, 109, 97, 100, 101, 32, 116, 104, 101, 32, 98, 114, 111, 116, 104, 101, 114, 108, 121, 32, 101, 109, 98, 114, 97, 99, 101, 32, 101, 118, 101, 110, 32, 115, 119, 101, 101, 116, 101, 114, 46, 70, 111, 114, 44, 32, 110, 111, 116, 32, 111, 110, 108, 121, 32, 104, 97, 118, 101, 32, 116, 104, 101, 32, 116, 119, 111, 32, 101, 114, 97, 45, 100, 101, 102, 105, 110, 105, 110, 103, 32, 114, 105, 103, 104, 116, 45, 104, 97, 110, 100, 101, 114, 115, 32, 98, 101, 101, 110, 32, 116, 104, 101, 32, 121, 97, 114, 100, 115, 116, 105, 99, 107, 115, 32, 102, 111, 114, 32, 103, 114, 101, 97, 116, 110, 101, 115, 115, 32, 97, 115, 32, 99, 111, 110, 116, 101, 109, 112, 111, 114, 97, 114, 105, 101, 115, 44, 32, 116, 104, 101, 121, 32, 104, 97, 118, 101, 32, 97, 108, 115, 111, 32, 98, 101, 101, 110, 32, 115, 101, 114, 105, 97, 108, 32, 97, 100, 118, 101, 114, 115, 97, 114, 105, 101, 115, 32, 111, 110, 32, 116, 104, 101, 32, 102, 105, 101, 108, 100, 32, 116, 104, 114, 111, 117, 103, 104, 111, 117, 116, 32, 116, 104, 101, 105, 114, 32, 114, 101, 115, 112, 101, 99, 116, 105, 118, 101, 32, 106, 111, 117, 114, 110, 101, 121, 115, 32, 119, 104, 101, 110, 32, 105, 116, 32, 99, 111, 109, 101, 115, 32, 116, 111, 32, 79, 68, 73, 32, 99, 114, 105, 99, 107, 101, 116, 46, 84, 104, 101, 32, 114, 101, 116, 105, 114, 105, 110, 103, 32, 51, 53, 45, 121, 101, 97, 114, 45, 111, 108, 100, 32, 104, 97, 100, 44, 32, 97, 102, 116, 101, 114, 32, 97, 108, 108, 44, 32, 112, 108, 97, 121, 101, 100, 32, 109, 111, 114, 101, 32, 53, 48, 45, 111, 118, 101, 114, 32, 109, 97, 116, 99, 104, 101, 115, 32, 97, 103, 97, 105, 110, 115, 116, 32, 75, 111, 104, 108, 105, 32, 116, 104, 97, 110, 32, 97, 110, 121, 32, 111, 116, 104, 101, 114, 32, 111, 112, 112, 111, 115, 105, 116, 105, 111, 110, 32, 112, 108, 97, 121, 101, 114, 44, 32, 50, 56, 32, 105, 110, 32, 97, 108, 108, 44, 32, 111, 102, 32, 116, 104, 101, 32, 51, 48, 32, 104, 101, 32, 97, 112, 112, 101, 97, 114, 101, 100, 32, 105, 110, 32, 111, 118, 101, 114, 97, 108, 108, 32, 97, 103, 97, 105, 110, 115, 116, 32, 73, 110, 100, 105, 97, 46, 65, 110, 100, 32, 116, 104, 101, 114, 101, 32, 119, 97, 115, 32, 97, 32, 98, 105, 116, 32, 111, 102, 32, 105, 114, 111, 110, 121, 32, 105, 110, 32, 116, 104, 101, 32, 102, 97, 99, 116, 32, 116, 104, 97, 116, 32, 83, 109, 105, 116, 104, 32, 99, 111, 117, 108, 100, 110, 39, 116, 32, 115, 101, 101, 32, 65, 117, 115, 116, 114, 97, 108, 105, 97, 32, 104, 111, 109, 101, 32, 105, 110, 32, 119, 104, 97, 116, 32, 119, 111, 117, 108, 100, 32, 104, 97, 118, 101, 32, 97, 110, 121, 119, 97, 121, 32, 98, 101, 101, 110, 32, 104, 105, 115, 32, 102, 105, 110, 97, 108, 32, 101, 110, 99, 111, 117, 110, 116, 101, 114, 32, 118, 101, 114, 115, 117, 115, 32, 104, 105, 115, 32, 97, 114, 99, 104, 32, 110, 101, 109, 101, 115, 101, 115, 44, 32, 119, 104, 111, 32, 104, 101, 39, 115, 32, 103, 101, 110, 101, 114, 97, 108, 108, 121, 32, 100, 111, 109, 105, 110, 97, 116, 101, 100, 32, 97, 103, 97, 105, 110, 115, 116, 46, 32, 78, 111, 116, 32, 116, 104, 97, 116, 32, 104, 101, 32, 100, 105, 100, 110, 39, 116, 32, 116, 114, 121, 32, 104, 105, 115, 32, 104, 97, 114, 100, 101, 115, 116, 32, 116, 111, 32, 102, 111, 105, 108, 32, 116, 104, 101, 32, 73, 110, 100, 105, 97, 110, 32, 106, 117, 103, 103, 101, 114, 110, 97, 117, 116, 44, 32, 98, 111, 116, 104, 32, 97, 115, 32, 98, 97, 116, 116, 101, 114, 32, 97, 110, 100, 32, 97, 115, 32, 99, 97, 112, 116, 97, 105, 110, 44, 32, 108, 105, 107, 101, 32, 104, 101, 39, 100, 32, 100, 111, 110, 101, 32, 115, 111, 32, 111, 102, 116, 101, 110, 32, 116, 104, 114, 111, 117, 103, 104, 111, 117, 116, 32, 104, 105, 115, 32, 79, 68, 73, 32, 99, 97, 114, 101, 101, 114, 46, 32, 72, 105, 115, 32, 105, 110, 110, 105, 110, 103, 115, 32, 111, 102, 32, 55, 51, 32, 111, 110, 32, 97, 32, 115, 108, 111, 119, 32, 112, 105, 116, 99, 104, 32, 119, 97, 115, 32, 116, 114, 97, 100, 101, 109, 97, 114, 107, 32, 83, 109, 105, 116, 104, 44, 32, 111, 110, 101, 32, 73, 110, 100, 105, 97, 32, 104, 97, 100, 32, 98, 101, 99, 111, 109, 101, 32, 97, 108, 108, 32, 116, 111, 111, 32, 102, 97, 109, 105, 108, 105, 97, 114, 32, 119, 105, 116, 104, 46, 32, 66, 111, 116, 104, 32, 105, 110, 32, 116, 101, 114, 109, 115, 32, 111, 102, 32, 104, 111, 119, 32, 104, 101, 32, 109, 97, 110, 105, 112, 117, 108, 97, 116, 101, 100, 32, 116, 104, 101, 32, 102, 105, 101, 108, 100, 115, 44, 32, 97, 110, 100, 32, 97, 108, 115, 111, 32, 105, 110, 32, 116, 104, 101, 32, 119, 97, 121, 32, 104, 101, 32, 115, 101, 116, 32, 116, 104, 101, 32, 116, 101, 109, 112, 111, 32, 102, 111, 114, 32, 104, 105, 115, 32, 116, 101, 97, 109, 46, 32, 69, 118, 101, 110, 32, 105, 102, 32, 104, 101, 32, 99, 111, 117, 108, 100, 110, 39, 116, 32, 115, 101, 101, 32, 105, 116, 32, 116, 104, 114, 111, 117, 103, 104, 44, 32, 103, 101, 116, 116, 105, 110, 103, 32, 111, 117, 116, 32, 116, 111, 32, 97, 32, 118, 101, 114, 121, 32, 117, 110, 45, 83, 116, 101, 118, 101, 32, 83, 109, 105, 116, 104, 32, 108, 105, 107, 101, 32, 115, 108, 111, 103, 46, 32, 69, 118, 101, 110, 32, 105, 102, 32, 104, 101, 32, 99, 111, 117, 108, 100, 110, 39, 116, 32, 103, 111, 32, 111, 110, 32, 116, 111, 32, 109, 97, 107, 101, 32, 97, 32, 99, 101, 110, 116, 117, 114, 121, 44, 32, 108, 105, 107, 101, 32, 104, 101, 39, 100, 32, 100, 111, 110, 101, 32, 53, 32, 116, 105, 109, 101, 115, 32, 112, 114, 101, 118, 105, 111, 117, 115, 108, 121, 32, 97, 103, 97, 105, 110, 115, 116, 32, 116, 104, 101, 32, 73, 110, 100, 105, 97, 110, 115, 44, 32, 97, 108, 108, 32, 98, 117, 116, 32, 111, 110, 101, 32, 111, 102, 32, 119, 104, 105, 99, 104, 32, 114, 101, 115, 117, 108, 116, 101, 100, 32, 105, 110, 32, 97, 32, 119, 105, 110, 32, 102, 111, 114, 32, 65, 117, 115, 116, 114, 97, 108, 105, 97, 46, 74, 117, 115, 116, 32, 102, 111, 114, 32, 116, 104, 101, 32, 114, 101, 99, 111, 114, 100, 44, 32, 104, 101, 32, 110, 101, 118, 101, 114, 32, 119, 101, 110, 116, 32, 112, 97, 115, 116, 32, 50, 32, 99, 101, 110, 116, 117, 114, 105, 101, 115, 32, 97, 103, 97, 105, 110, 115, 116, 32, 97, 110, 121, 32, 111, 116, 104, 101, 114, 32, 99, 111, 117, 110, 116, 114, 121, 32, 97, 110, 100, 32, 109, 97, 100, 101, 32, 111, 110, 108, 121, 32, 97, 32, 115, 111, 108, 105, 116, 97, 114, 121, 32, 116, 111, 110, 32, 105, 110, 32, 52, 48, 32, 105, 110, 110, 105, 110, 103, 115, 32, 97, 103, 97, 105, 110, 115, 116, 32, 69, 110, 103, 108, 97, 110, 100, 46, 32, 78, 111, 32, 119, 111, 110, 100, 101, 114, 32, 116, 104, 101, 110, 32, 116, 104, 97, 116, 32, 116, 104, 101, 32, 99, 111, 117, 110, 116, 114, 121, 32, 104, 101, 32, 115, 99, 111, 114, 101, 100, 32, 109, 111, 115, 116, 32, 79, 68, 73, 32, 114, 117, 110, 115, 32, 97, 103, 97, 105, 110, 115, 116, 32, 119, 97, 115, 32, 73, 110, 100, 105, 97, 44, 32, 119, 105, 116, 104, 32, 49, 51, 56, 51, 32, 114, 117, 110, 115, 32, 97, 116, 32, 53, 51, 46, 49, 57, 32, 105, 110, 32, 50, 54, 32, 105, 110, 110, 105, 110, 103, 115, 46, 32, 65, 110, 100, 32, 110, 111, 32, 115, 117, 114, 112, 114, 105, 115, 101, 115, 32, 116, 104, 97, 116, 32, 100, 101, 115, 112, 105, 116, 101, 32, 110, 111, 116, 32, 98, 101, 105, 110, 103, 32, 99, 111, 110, 115, 105, 100, 101, 114, 101, 100, 32, 111, 110, 101, 32, 111, 102, 32, 116, 104, 101, 32, 98, 101, 115, 116, 32, 79, 68, 73, 32, 112, 108, 97, 121, 101, 114, 115, 32, 111, 102, 32, 104, 105, 115, 32, 103, 101, 110, 101, 114, 97, 116, 105, 111, 110, 44, 32, 112, 117, 114, 101, 108, 121, 32, 105, 110, 32, 116, 101, 114, 109, 115, 32, 111, 102, 32, 110, 117, 109, 98, 101, 114, 115, 44, 32, 83, 109, 105, 116, 104, 32, 119, 97, 115, 32, 100, 114, 101, 97, 100, 101, 100, 32, 98, 121, 32, 116, 104, 101, 32, 98, 101, 115, 116, 32, 79, 68, 73, 32, 116, 101, 97, 109, 32, 111, 102, 32, 104, 105, 115, 32, 103, 101, 110, 101, 114, 97, 116, 105, 111, 110, 44, 32, 119, 104, 111, 32, 111, 110, 99, 101, 32, 116, 111, 111, 32, 111, 102, 116, 101, 110, 32, 119, 101, 114, 101, 32, 97, 116, 32, 116, 104, 101, 32, 114, 101, 99, 101, 105, 118, 105, 110, 103, 32, 101, 110, 100, 32, 111, 102, 32, 104, 105, 115, 32, 119, 104, 105, 116, 101, 45, 98, 97, 108, 108, 32, 103, 101, 110, 105, 117, 115, 46, 83, 109, 105, 116, 104, 39, 115, 32, 109, 111, 115, 116, 32, 115, 105, 103, 110, 105, 102, 105, 99, 97, 110, 116, 32, 107, 110, 111, 99, 107, 44, 32, 119, 105, 116, 104, 111, 117, 116, 32, 100, 111, 117, 98, 116, 44, 32, 119, 97, 115, 32, 104, 105, 115, 32, 109, 97, 105, 100, 101, 110, 32, 79, 68, 73, 32, 99, 101, 110, 116, 117, 114, 121, 32, 97, 103, 97, 105, 110, 115, 116, 32, 116, 104, 101, 32, 73, 110, 100, 105, 97, 110, 115, 44, 32, 111, 110, 32, 104, 105, 115, 32, 104, 111, 109, 101, 45, 103, 114, 111, 117, 110, 100, 32, 97, 116, 32, 116, 104, 101, 32, 83, 67, 71, 44, 32, 116, 111, 32, 116, 104, 119, 97, 114, 116, 32, 73, 110, 100, 105, 97, 39, 115, 32, 112, 114, 111, 103, 114, 101, 115, 115, 32, 105, 110, 32, 116, 104, 101, 32, 50, 48, 49, 53, 32, 87, 111, 114, 100, 32, 67, 117, 112, 46, 32, 73, 116, 32, 119, 97, 115, 32, 97, 32, 109, 97, 115, 116, 101, 114, 102, 117, 108, 32, 107, 110, 111, 99, 107, 32, 116, 104, 97, 116, 32, 115, 101, 116, 32, 117, 112, 32, 116, 104, 101, 32, 115, 101, 109, 105, 45, 102, 105, 110, 97, 108, 32, 119, 105, 110, 32, 97, 116, 32, 116, 104, 101, 32, 98, 97, 99, 107, 32, 101, 110, 100, 32, 111, 102, 32, 97, 32, 104, 111, 109, 101, 32, 115, 117, 109, 109, 101, 114, 32, 119, 104, 101, 114, 101, 32, 104, 101, 39, 100, 32, 108, 111, 114, 100, 101, 100, 32, 111, 118, 101, 114, 32, 73, 110, 100, 105, 97, 32, 119, 105, 116, 104, 32, 116, 104, 101, 32, 98, 97, 116, 32, 105, 110, 32, 116, 104, 101, 32, 66, 111, 114, 100, 101, 114, 32, 71, 97, 118, 97, 115, 107, 97, 114, 32, 84, 114, 111, 112, 104, 121, 46, 32, 84, 104, 101, 32, 115, 117, 109, 109, 101, 114, 32, 116, 104, 97, 116, 32, 109, 97, 100, 101, 32, 83, 116, 101, 118, 101, 32, 83, 109, 105, 116, 104, 44, 32, 97, 110, 100, 32, 102, 111, 114, 101, 118, 101, 114, 32, 116, 114, 97, 110, 115, 102, 111, 114, 109, 101, 100, 32, 104, 105, 109, 32, 102, 114, 111, 109, 32, 116, 104, 101, 32, 98, 108, 111, 110, 100, 101, 45, 104, 97, 105, 114, 101, 100, 32, 104, 97, 110, 100, 121, 32, 97, 108, 108, 45, 114, 111, 117, 110, 100, 101, 114, 32, 105, 110, 116, 111, 32, 116, 104, 101, 32, 119, 111, 114, 108, 100, 32, 98, 101, 97, 116, 101, 114, 32, 119, 105, 116, 104, 32, 116, 104, 101, 32, 98, 97, 116, 46, 32, 73, 116, 32, 119, 97, 115, 32, 105, 110, 32, 104, 105, 115, 32, 112, 114, 101, 118, 105, 111, 117, 115, 32, 97, 118, 97, 116, 97, 114, 32, 116, 104, 97, 116, 32, 104, 101, 39, 100, 32, 112, 108, 97, 121, 101, 100, 32, 104, 105, 115, 32, 102, 105, 114, 115, 116, 45, 101, 118, 101, 114, 32, 79, 68, 73, 32, 97, 103, 97, 105, 110, 115, 116, 32, 73, 110, 100, 105, 97, 44, 32, 98, 97, 99, 107, 32, 105, 110, 32, 108, 97, 116, 101, 32, 50, 48, 49, 48, 32, 97, 116, 32, 86, 105, 115, 97, 107, 104, 97, 112, 97, 116, 110, 97, 109, 46, 83, 109, 105, 116, 104, 32, 100, 105, 100, 110, 39, 116, 32, 98, 97, 116, 32, 97, 110, 100, 32, 104, 97, 100, 32, 98, 111, 119, 108, 101, 100, 32, 116, 104, 114, 101, 101, 32, 101, 120, 112, 101, 110, 115, 105, 118, 101, 32, 111, 118, 101, 114, 115, 46, 32, 65, 117, 115, 116, 114, 97, 108, 105, 97, 32, 108, 111, 115, 116, 32, 116, 104, 101, 32, 109, 97, 116, 99, 104, 32, 119, 105, 116, 104, 32, 86, 105, 114, 97, 116, 32, 75, 111, 104, 108, 105, 32, 112, 114, 111, 100, 117, 99, 105, 110, 103, 32, 111, 110, 101, 32, 111, 102, 32, 104, 105, 115, 32, 101, 97, 114, 108, 121, 32, 114, 117, 110, 45, 99, 104, 97, 115, 101, 32, 99, 108, 97, 115, 115, 105, 99, 115, 44, 32, 119, 105, 116, 104, 32, 119, 104, 97, 116, 32, 119, 97, 115, 32, 115, 116, 105, 108, 108, 32, 111, 110, 108, 121, 32, 105, 115, 32, 116, 104, 105, 114, 100, 32, 79, 68, 73, 32, 116, 111, 110, 46, 32, 74, 117, 115, 116, 32, 108, 105, 107, 101, 32, 104, 101, 32, 100, 105, 100, 32, 105, 110, 32, 83, 109, 105, 116, 104, 39, 115, 32, 102, 105, 110, 97, 108, 32, 79, 68, 73, 32, 97, 103, 97, 105, 110, 115, 116, 32, 73, 110, 100, 105, 97, 44, 32, 101, 118, 101, 110, 32, 105, 102, 32, 75, 111, 104, 108, 105, 32, 102, 97, 105, 108, 101, 100, 32, 116, 111, 32, 110, 111, 116, 99, 104, 32, 117, 112, 32, 97, 32, 116, 104, 114, 101, 101, 45, 102, 105, 103, 117, 114, 101, 32, 115, 99, 111, 114, 101, 32, 116, 104, 105, 115, 32, 116, 105, 109, 101, 32, 97, 114, 111, 117, 110, 100, 46, 84, 104, 97, 116, 32, 86, 105, 122, 97, 103, 32, 101, 102, 102, 111, 114, 116, 32, 104, 97, 100, 32, 99, 97, 109, 101, 32, 97, 116, 32, 97, 32, 116, 105, 109, 101, 32, 119, 104, 101, 110, 32, 75, 111, 104, 108, 105, 44, 32, 112, 114, 111, 98, 97, 98, 108, 121, 32, 102, 111, 114, 32, 116, 104, 101, 32, 111, 110, 108, 121, 32, 116, 105, 109, 101, 32, 105, 110, 32, 104, 105, 115, 32, 79, 68, 73, 32, 99, 97, 114, 101, 101, 114, 32, 119, 97, 115, 32, 117, 110, 100, 101, 114, 32, 97, 32, 98, 105, 116, 32, 111, 102, 32, 112, 114, 101, 115, 115, 117, 114, 101, 44, 32, 104, 97, 118, 105, 110, 103, 32, 103, 111, 110, 101, 32, 116, 104, 114, 111, 117, 103, 104, 32, 97, 32, 108, 101, 97, 110, 32, 112, 97, 116, 99, 104, 46, 32, 73, 116, 32, 97, 108, 115, 111, 32, 99, 97, 109, 101, 32, 97, 116, 32, 97, 32, 115, 116, 97, 103, 101, 32, 119, 104, 101, 110, 32, 83, 109, 105, 116, 104, 32, 119, 97, 115, 32, 115, 116, 105, 108, 108, 32, 118, 101, 114, 121, 32, 109, 117, 99, 104, 32, 102, 105, 110, 100, 105, 110, 103, 32, 104, 105, 115, 32, 102, 101, 101, 116, 32, 105, 110, 32, 105, 110, 116, 101, 114, 110, 97, 116, 105, 111, 110, 97, 108, 32, 99, 114, 105, 99, 107, 101, 116, 46, 32, 73, 116, 32, 100, 105, 100, 32, 104, 111, 119, 101, 118, 101, 114, 32, 115, 101, 116, 32, 105, 110, 32, 109, 111, 116, 105, 111, 110, 32, 116, 104, 105, 115, 32, 101, 110, 100, 117, 114, 105, 110, 103, 32, 98, 97, 116, 116, 108, 101, 32, 119, 105, 116, 104, 105, 110, 32, 97, 32, 98, 97, 116, 116, 108, 101, 32, 98, 101, 116, 119, 101, 101, 110, 32, 75, 111, 104, 108, 105, 32, 97, 110, 100, 32, 83, 109, 105, 116, 104, 44, 32, 97, 32, 102, 101, 119, 32, 109, 111, 110, 116, 104, 115, 32, 97, 102, 116, 101, 114, 32, 116, 104, 101, 32, 65, 117, 115, 115, 105, 101, 32, 104, 97, 100, 32, 109, 97, 100, 101, 32, 104, 105, 115, 32, 84, 101, 115, 116, 32, 100, 101, 98, 117, 116, 32, 97, 110, 100, 32, 115, 116, 105, 108, 108, 32, 56, 32, 109, 111, 110, 116, 104, 115, 32, 98, 101, 102, 111, 114, 101, 32, 116, 104, 101, 32, 73, 110, 100, 105, 97, 110, 32, 119, 111, 117, 108, 100, 32, 103, 101, 116, 32, 104, 105, 115, 32, 84, 101, 115, 116, 32, 99, 97, 112, 46, 65, 110, 100, 32, 116, 104, 111, 117, 103, 104, 32, 99, 111, 109, 112, 97, 114, 105, 115, 111, 110, 115, 32, 98, 101, 116, 119, 101, 101, 110, 32, 116, 104, 101, 32, 116, 119, 111, 32, 104, 97, 118, 101, 32, 101, 120, 105, 115, 116, 101, 100, 32, 116, 104, 114, 111, 117, 103, 104, 111, 117, 116, 32, 116, 104, 101, 105, 114, 32, 108, 101, 110, 103, 116, 104, 121, 32, 84, 101, 115, 116, 32, 99, 97, 114, 101, 101, 114, 115, 44, 32, 114, 97, 114, 101, 108, 121, 32, 104, 97, 118, 101, 32, 116, 104, 101, 32, 100, 117, 111, 32, 98, 101, 101, 110, 32, 115, 112, 111, 107, 101, 110, 32, 111, 102, 32, 105, 110, 32, 116, 104, 101, 32, 115, 97, 109, 101, 32, 98, 114, 101, 97, 116, 104, 32, 119, 104, 101, 110, 32, 105, 116, 32, 99, 111, 109, 101, 115, 32, 116, 111, 32, 116, 104, 101, 32, 53, 48, 45, 111, 118, 101, 114, 32, 102, 111, 114, 109, 97, 116, 46, 73, 116, 39, 115, 32, 112, 114, 111, 98, 97, 98, 108, 121, 32, 97, 32, 115, 105, 109, 112, 108, 101, 32, 99, 97, 115, 101, 32, 111, 102, 32, 115, 97, 109, 112, 108, 101, 32, 115, 105, 122, 101, 44, 32, 119, 105, 116, 104, 32, 75, 111, 104, 108, 105, 32, 104, 97, 118, 105, 110, 103, 32, 112, 108, 97, 121, 101, 100, 32, 110, 101, 97, 114, 108, 121, 32, 100, 111, 117, 98, 108, 101, 32, 116, 104, 101, 32, 110, 117, 109, 98, 101, 114, 32, 111, 102, 32, 79, 68, 73, 115, 44, 32, 119, 104, 105, 108, 101, 32, 97, 108, 115, 111, 32, 97, 99, 99, 117, 109, 117, 108, 97, 116, 105, 110, 103, 32, 97, 32, 115, 116, 97, 103, 103, 101, 114, 105, 110, 103, 32, 114, 101, 99, 111, 114, 100, 32, 105, 110, 32, 116, 104, 101, 32, 102, 111, 114, 109, 97, 116, 44, 32, 111, 110, 101, 32, 119, 104, 105, 99, 104, 32, 104, 97, 115, 32, 102, 101, 119, 32, 105, 102, 32, 97, 110, 121, 32, 114, 105, 118, 97, 108, 115, 46, 32, 83, 109, 105, 116, 104, 39, 115, 32, 53, 48, 45, 111, 118, 101, 114, 32, 110, 117, 109, 98, 101, 114, 115, 32, 105, 110, 32, 99, 111, 110, 116, 114, 97, 115, 116, 32, 109, 97, 121, 32, 110, 111, 116, 32, 98, 101, 32, 105, 109, 109, 101, 100, 105, 97, 116, 101, 108, 121, 32, 101, 121, 101, 45, 99, 97, 116, 99, 104, 105, 110, 103, 32, 98, 117, 116, 32, 97, 110, 32, 97, 118, 101, 114, 97, 103, 101, 32, 111, 102, 32, 52, 51, 46, 50, 56, 32, 97, 110, 100, 32, 97, 32, 115, 116, 114, 105, 107, 101, 45, 114, 97, 116, 101, 32, 111, 102, 32, 56, 54, 46, 57, 54, 32, 97, 114, 101, 32, 113, 117, 105, 116, 101, 32, 105, 109, 112, 114, 101, 115, 115, 105, 118, 101, 44, 32, 99, 111, 110, 115, 105, 100, 101, 114, 105, 110, 103, 32, 116, 104, 101, 32, 114, 111, 108, 101, 32, 104, 101, 39, 115, 32, 112, 108, 97, 121, 101, 100, 32, 102, 111, 114, 32, 104, 105, 115, 32, 99, 111, 117, 110, 116, 114, 121, 46, 32, 84, 104, 101, 121, 32, 97, 108, 115, 111, 32, 112, 97, 108, 101, 32, 105, 110, 32, 99, 111, 109, 112, 97, 114, 105, 115, 111, 110, 32, 116, 111, 32, 104, 105, 115, 32, 111, 119, 110, 32, 84, 101, 115, 116, 32, 110, 117, 109, 98, 101, 114, 115, 44, 32, 119, 104, 105, 99, 104, 32, 112, 117, 116, 32, 104, 105, 109, 32, 105, 110, 32, 97, 32, 115, 116, 114, 97, 116, 111, 115, 112, 104, 101, 114, 101, 32, 111, 102, 32, 105, 116, 115, 32, 111, 119, 110, 46, 83, 109, 105, 116, 104, 32, 100, 105, 100, 32, 104, 97, 118, 101, 32, 109, 111, 109, 101, 110, 116, 115, 32, 111, 102, 32, 98, 114, 105, 108, 108, 105, 97, 110, 99, 101, 44, 32, 119, 104, 101, 114, 101, 32, 104, 101, 32, 108, 111, 111, 107, 101, 100, 32, 108, 105, 107, 101, 32, 116, 104, 101, 32, 98, 101, 115, 116, 32, 79, 68, 73, 32, 112, 108, 97, 121, 101, 114, 32, 105, 110, 32, 116, 104, 101, 32, 119, 111, 114, 108, 100, 44, 32, 101, 115, 112, 101, 99, 105, 97, 108, 108, 121, 32, 119, 104, 101, 110, 32, 104, 101, 32, 115, 99, 111, 114, 101, 100, 32, 116, 104, 114, 101, 101, 32, 79, 68, 73, 32, 116, 111, 110, 115, 32, 111, 110, 32, 116, 104, 101, 32, 116, 114, 111, 116, 32, 105, 110, 32, 116, 104, 101, 32, 115, 97, 109, 101, 32, 121, 101, 97, 114, 32, 97, 103, 97, 105, 110, 115, 116, 32, 73, 110, 100, 105, 97, 46, 32, 84, 104, 101, 121, 32, 100, 105, 100, 32, 99, 111, 109, 101, 32, 97, 99, 114, 111, 115, 115, 32, 116, 119, 111, 32, 115, 101, 112, 97, 114, 97, 116, 101, 32, 116, 111, 117, 114, 115, 32, 111, 102, 32, 99, 111, 117, 114, 115, 101, 32, 98, 117, 116, 32, 104, 105, 115, 32, 98, 97, 99, 107, 45, 116, 111, 45, 98, 97, 99, 107, 32, 54, 50, 45, 98, 97, 108, 108, 32, 116, 111, 110, 115, 32, 105, 110, 32, 83, 121, 100, 110, 101, 121, 32, 105, 110, 32, 108, 97, 116, 101, 32, 50, 48, 50, 48, 45, 119, 104, 105, 99, 104, 32, 99, 97, 109, 101, 32, 111, 110, 32, 116, 104, 101, 32, 98, 97, 99, 107, 32, 111, 102, 32, 104, 105, 115, 32, 49, 51, 50, 45, 98, 97, 108, 108, 32, 49, 51, 49, 32, 105, 110, 32, 66, 101, 110, 103, 97, 108, 117, 114, 117, 32, 101, 97, 114, 108, 105, 101, 114, 32, 105, 110, 32, 116, 104, 101, 32, 121, 101, 97, 114, 45, 119, 101, 114, 101, 32, 97, 32, 103, 108, 105, 109, 112, 115, 101, 32, 105, 110, 116, 111, 32, 116, 104, 101, 32, 101, 108, 105, 116, 101, 32, 103, 101, 97, 114, 32, 116, 104, 97, 116, 32, 104, 101, 32, 100, 105, 100, 32, 112, 111, 115, 115, 101, 115, 115, 32, 119, 105, 116, 104, 32, 104, 105, 115, 32, 119, 104, 105, 116, 101, 45, 98, 97, 108, 108, 32, 98, 97, 116, 116, 105, 110, 103, 44, 32, 119, 104, 105, 99, 104, 32, 104, 101, 32, 104, 97, 115, 110, 39, 116, 32, 97, 108, 119, 97, 121, 115, 32, 102, 101, 108, 116, 32, 116, 104, 101, 32, 110, 101, 101, 100, 32, 116, 111, 32, 116, 97, 112, 32, 105, 110, 116, 111, 44, 32, 108, 97, 114, 103, 101, 108, 121, 32, 98, 101, 99, 97, 117, 115, 101, 32, 111, 102, 32, 104, 105, 115, 32, 100, 101, 102, 105, 110, 101, 100, 32, 114, 111, 108, 101, 32, 105, 110, 32, 116, 104, 105, 115, 32, 115, 101, 116, 117, 112, 46, 65, 110, 100, 32, 119, 104, 105, 108, 101, 32, 83, 109, 105, 116, 104, 32, 116, 104, 101, 32, 79, 68, 73, 32, 98, 97, 116, 116, 101, 114, 32, 109, 105, 103, 104, 116, 32, 110, 111, 116, 32, 98, 101, 32, 114, 101, 109, 101, 109, 98, 101, 114, 101, 100, 32, 119, 105, 116, 104, 32, 116, 104, 101, 32, 108, 101, 118, 101, 108, 32, 111, 102, 32, 114, 101, 118, 101, 114, 101, 110, 99, 101, 32, 83, 109, 105, 116, 104, 32, 116, 104, 101, 32, 84, 101, 115, 116, 32, 98, 97, 116, 116, 101, 114, 32, 119, 105, 108, 108, 32, 98, 101, 44, 32, 73, 110, 100, 105, 97, 110, 32, 116, 101, 97, 109, 115, 32, 119, 105, 108, 108, 32, 114, 101, 115, 116, 32, 101, 97, 115, 121, 32, 97, 110, 100, 32, 98, 101, 32, 114, 101, 108, 105, 101, 118, 101, 100, 32, 116, 111, 32, 115, 101, 101, 32, 116, 104, 101, 32, 98, 97, 99, 107, 32, 111, 102, 32, 104, 105, 109, 46, 32, 89, 111, 117, 32, 106, 117, 115, 116, 32, 110, 101, 101, 100, 32, 116, 111, 32, 103, 111, 32, 98, 97, 99, 107, 32, 116, 111, 32, 116, 104, 97, 116, 32, 109, 111, 109, 101, 110, 116, 32, 105, 110, 32, 116, 104, 101, 32, 50, 48, 50, 51, 32, 87, 111, 114, 108, 100, 32, 67, 117, 112, 32, 102, 105, 110, 97, 108, 44, 32, 119, 104, 101, 110, 32, 83, 109, 105, 116, 104, 32, 119, 97, 108, 107, 101, 100, 32, 97, 119, 97, 121, 32, 119, 105, 116, 104, 111, 117, 116, 32, 114, 101, 118, 105, 101, 119, 105, 110, 103, 32, 104, 105, 115, 32, 99, 111, 110, 116, 101, 110, 116, 105, 111, 117, 115, 32, 76, 66, 87, 32, 99, 97, 108, 108, 32, 119, 105, 116, 104, 32, 106, 117, 115, 116, 32, 102, 111, 117, 114, 32, 114, 117, 110, 115, 32, 116, 111, 32, 115, 104, 111, 119, 32, 102, 111, 114, 32, 104, 105, 115, 32, 115, 104, 111, 114, 116, 32, 115, 116, 97, 121, 32, 97, 116, 32, 116, 104, 101, 32, 99, 114, 101, 97, 115, 101, 46, 32, 84, 104, 101, 114, 101, 32, 119, 101, 114, 101, 32, 102, 101, 119, 32, 73, 110, 100, 105, 97, 110, 32, 102, 97, 110, 115, 32, 97, 116, 32, 116, 104, 101, 32, 78, 97, 114, 101, 110, 100, 114, 97, 32, 77, 111, 100, 105, 32, 83, 116, 97, 100, 105, 117, 109, 32, 116, 104, 97, 116, 32, 110, 105, 103, 104, 116, 44, 32, 111, 114, 32, 97, 114, 111, 117, 110, 100, 32, 116, 104, 101, 32, 119, 111, 114, 108, 100, 44, 32, 119, 104, 111, 32, 100, 105, 100, 110, 39, 116, 32, 115, 116, 97, 114, 116, 32, 102, 101, 101, 108, 105, 110, 103, 32, 97, 32, 108, 111, 116, 32, 98, 101, 116, 116, 101, 114, 32, 97, 98, 111, 117, 116, 32, 116, 104, 101, 105, 114, 32, 116, 101, 97, 109, 32, 103, 111, 105, 110, 103, 32, 111, 110, 32, 116, 111, 32, 119, 105, 110, 32, 116, 104, 101, 32, 87, 111, 114, 108, 100, 32, 67, 117, 112, 46, 32, 79, 110, 108, 121, 32, 102, 111, 114, 32, 84, 114, 97, 118, 105, 115, 32, 72, 101, 97, 100, 32, 116, 111, 32, 115, 112, 111, 105, 108, 32, 116, 104, 101, 32, 112, 97, 114, 116, 121, 32, 102, 111, 114, 32, 97, 32, 99, 104, 97, 110, 103, 101, 46, 73, 110, 100, 105, 97, 44, 32, 104, 111, 119, 101, 118, 101, 114, 44, 32, 102, 111, 117, 110, 100, 32, 97, 32, 119, 97, 121, 32, 116, 111, 32, 115, 116, 111, 112, 32, 72, 101, 97, 100, 32, 111, 110, 32, 84, 117, 101, 115, 100, 97, 121, 32, 105, 110, 32, 68, 117, 98, 97, 105, 46, 32, 74, 117, 115, 116, 32, 108, 105, 107, 101, 32, 116, 104, 101, 121, 32, 100, 105, 100, 32, 116, 111, 32, 115, 101, 101, 32, 111, 102, 102, 32, 83, 109, 105, 116, 104, 32, 116, 104, 101, 32, 79, 68, 73, 32, 112, 108, 97, 121, 101, 114, 44, 32, 105, 110, 32, 119, 104, 97, 116, 32, 116, 117, 114, 110, 101, 100, 32, 105, 110, 116, 111, 32, 104, 105, 115, 32, 53, 48, 45, 111, 118, 101, 114, 32, 102, 97, 114, 101, 119, 101, 108, 108, 46, 32, 73, 116, 32, 119, 97, 115, 32, 111, 110, 108, 121, 32, 97, 112, 116, 32, 116, 104, 97, 116, 32, 104, 101, 32, 101, 118, 101, 110, 116, 117, 97, 108, 108, 121, 32, 98, 105, 100, 32, 97, 100, 105, 101, 117, 32, 105, 110, 32, 75, 111, 104, 108, 105, 39, 115, 32, 97, 114, 109, 115, 46, 10]\n",
            "length: 9179\n"
          ]
        }
      ]
    },
    {
      "cell_type": "markdown",
      "source": [
        "#Now we find the pair of bites that occure most frequently, because we are going to merge it."
      ],
      "metadata": {
        "id": "bOCPECr4cfE2"
      }
    },
    {
      "cell_type": "code",
      "source": [
        "def get_stats(ids):\n",
        "  counts = {}\n",
        "  for pair in zip(ids,ids[1:]):\n",
        "    counts[pair] = counts.get(pair,0)+1\n",
        "  return counts\n",
        "\n",
        "\n",
        "stats = get_stats(tokens)\n",
        "#print(stats)\n",
        "#print(sorted(((v,k) for k,v in stats.items()),reverse = True))\n"
      ],
      "metadata": {
        "id": "rD_tLYQlXRy-"
      },
      "execution_count": 6,
      "outputs": []
    },
    {
      "cell_type": "code",
      "source": [
        "chr(101),chr(32)"
      ],
      "metadata": {
        "colab": {
          "base_uri": "https://localhost:8080/"
        },
        "id": "Du6A0Kh_d9LE",
        "outputId": "9f335672-84db-4e64-f775-e72c03871143"
      },
      "execution_count": 7,
      "outputs": [
        {
          "output_type": "execute_result",
          "data": {
            "text/plain": [
              "('e', ' ')"
            ]
          },
          "metadata": {},
          "execution_count": 7
        }
      ]
    },
    {
      "cell_type": "code",
      "source": [
        "top_pair = max(stats,key=stats.get)\n",
        "top_pair"
      ],
      "metadata": {
        "colab": {
          "base_uri": "https://localhost:8080/"
        },
        "id": "FJYzdgiMg4Cx",
        "outputId": "08465323-7764-4fa3-8257-ed4ed4ef2c82"
      },
      "execution_count": 8,
      "outputs": [
        {
          "output_type": "execute_result",
          "data": {
            "text/plain": [
              "(101, 32)"
            ]
          },
          "metadata": {},
          "execution_count": 8
        }
      ]
    },
    {
      "cell_type": "code",
      "source": [
        "def merge(ids,pair,idx):\n",
        "  newids = []\n",
        "  i = 0\n",
        "  while i < len(ids):\n",
        "    if i < len(ids) - 1 and ids[i] == pair[0] and ids[i+1] == pair[1]:\n",
        "      newids.append(idx)\n",
        "      i += 2\n",
        "    else:\n",
        "      newids.append(ids[i])\n",
        "      i+=1\n",
        "  return newids\n",
        "\n",
        "print(merge([5,6,6,7,9,1],(6, 7),99))\n",
        "token2 = merge(tokens,top_pair,256)\n",
        "print(token2)\n",
        "print(\"lenght:\",len(token2))"
      ],
      "metadata": {
        "colab": {
          "base_uri": "https://localhost:8080/"
        },
        "id": "Wtv-B7ZVdWqg",
        "outputId": "b9236e41-32c5-4a06-e5e4-ebbfb1c5a2f0"
      },
      "execution_count": 9,
      "outputs": [
        {
          "output_type": "stream",
          "name": "stdout",
          "text": [
            "[5, 6, 99, 9, 1]\n",
            "[83, 104, 97, 117, 110, 32, 80, 111, 108, 108, 111, 99, 107, 32, 104, 97, 115, 32, 97, 32, 102, 97, 118, 111, 114, 105, 116, 256, 115, 116, 111, 114, 121, 32, 97, 98, 111, 117, 116, 32, 116, 104, 256, 116, 111, 115, 115, 46, 32, 84, 104, 256, 102, 111, 114, 109, 101, 114, 32, 83, 111, 117, 116, 104, 32, 65, 102, 114, 105, 99, 97, 32, 99, 97, 112, 116, 97, 105, 110, 32, 119, 97, 115, 32, 111, 110, 99, 256, 97, 100, 118, 105, 115, 101, 100, 32, 98, 121, 32, 77, 97, 108, 99, 111, 108, 109, 32, 77, 97, 114, 115, 104, 97, 108, 108, 32, 116, 111, 32, 97, 108, 119, 97, 121, 115, 32, 99, 97, 108, 108, 32, 39, 72, 101, 97, 100, 115, 39, 44, 32, 98, 101, 99, 97, 117, 115, 101, 44, 32, 97, 115, 32, 116, 104, 256, 108, 101, 103, 101, 110, 100, 97, 114, 121, 32, 87, 101, 115, 116, 32, 73, 110, 100, 105, 97, 110, 32, 112, 97, 99, 101, 114, 32, 112, 117, 116, 32, 105, 116, 44, 32, 97, 32, 104, 117, 109, 97, 110, 32, 100, 111, 101, 115, 110, 39, 116, 32, 104, 97, 118, 256, 97, 32, 116, 97, 105, 108, 46, 32, 73, 116, 39, 115, 32, 115, 116, 105, 108, 108, 32, 117, 110, 99, 108, 101, 97, 114, 32, 119, 104, 97, 116, 32, 82, 111, 104, 105, 116, 32, 83, 104, 97, 114, 109, 97, 32, 104, 97, 115, 32, 98, 101, 101, 110, 32, 99, 97, 108, 108, 105, 110, 103, 44, 32, 111, 114, 32, 101, 118, 101, 110, 32, 102, 111, 114, 32, 116, 104, 97, 116, 32, 109, 97, 116, 116, 101, 114, 32, 119, 104, 97, 116, 32, 116, 104, 256, 111, 112, 112, 111, 115, 105, 110, 103, 32, 99, 97, 112, 116, 97, 105, 110, 115, 32, 104, 97, 118, 256, 98, 101, 101, 110, 32, 99, 104, 111, 111, 115, 105, 110, 103, 46, 32, 87, 104, 97, 116, 32, 105, 115, 32, 99, 108, 101, 97, 114, 44, 32, 104, 111, 119, 101, 118, 101, 114, 44, 32, 105, 115, 32, 116, 104, 97, 116, 32, 73, 110, 100, 105, 97, 32, 104, 97, 118, 256, 110, 111, 116, 32, 119, 111, 110, 32, 116, 104, 256, 116, 111, 115, 115, 32, 105, 110, 32, 116, 104, 101, 105, 114, 32, 108, 97, 115, 116, 32, 49, 52, 32, 99, 111, 110, 115, 101, 99, 117, 116, 105, 118, 256, 79, 68, 73, 115, 46, 84, 104, 105, 115, 32, 109, 97, 114, 107, 115, 32, 116, 104, 256, 108, 111, 110, 103, 101, 115, 116, 32, 115, 116, 114, 101, 97, 107, 32, 111, 102, 32, 116, 111, 115, 115, 32, 108, 111, 115, 115, 101, 115, 32, 105, 110, 32, 79, 68, 73, 32, 104, 105, 115, 116, 111, 114, 121, 44, 32, 98, 101, 103, 105, 110, 110, 105, 110, 103, 32, 119, 105, 116, 104, 32, 116, 104, 256, 87, 111, 114, 108, 100, 32, 67, 117, 112, 32, 102, 105, 110, 97, 108, 32, 105, 110, 32, 65, 104, 109, 101, 100, 97, 98, 97, 100, 32, 111, 110, 32, 78, 111, 118, 101, 109, 98, 101, 114, 32, 49, 57, 44, 32, 50, 48, 50, 51, 46, 32, 68, 101, 115, 112, 105, 116, 256, 116, 104, 105, 115, 44, 32, 73, 110, 100, 105, 97, 32, 104, 97, 118, 256, 109, 97, 110, 97, 103, 101, 100, 32, 110, 105, 110, 256, 119, 105, 110, 115, 32, 111, 117, 116, 32, 111, 102, 32, 116, 104, 256, 49, 52, 32, 109, 97, 116, 99, 104, 101, 115, 44, 32, 119, 105, 116, 104, 32, 102, 111, 117, 114, 32, 108, 111, 115, 115, 101, 115, 32, 97, 110, 100, 32, 111, 110, 256, 116, 105, 256, 40, 97, 103, 97, 105, 110, 115, 116, 32, 83, 114, 105, 32, 76, 97, 110, 107, 97, 41, 46, 32, 84, 104, 105, 115, 32, 116, 105, 109, 101, 44, 32, 116, 104, 101, 114, 256, 104, 97, 115, 32, 98, 101, 101, 110, 32, 110, 111, 32, 100, 101, 99, 105, 115, 105, 118, 256, 97, 100, 118, 97, 110, 116, 97, 103, 256, 102, 111, 114, 32, 116, 104, 256, 99, 104, 97, 115, 105, 110, 103, 32, 116, 101, 97, 109, 32, 45, 32, 73, 110, 100, 105, 97, 32, 104, 97, 118, 256, 119, 111, 110, 32, 111, 110, 256, 109, 97, 116, 99, 104, 32, 119, 104, 105, 108, 256, 100, 101, 102, 101, 110, 100, 105, 110, 103, 32, 97, 110, 100, 32, 116, 104, 114, 101, 256, 119, 104, 105, 108, 256, 99, 104, 97, 115, 105, 110, 103, 46, 32, 84, 104, 105, 115, 32, 114, 101, 102, 114, 101, 115, 104, 105, 110, 103, 32, 116, 114, 101, 110, 100, 32, 99, 97, 110, 32, 108, 97, 114, 103, 101, 108, 121, 32, 98, 256, 97, 116, 116, 114, 105, 98, 117, 116, 101, 100, 32, 116, 111, 32, 116, 104, 256, 97, 98, 115, 101, 110, 99, 256, 111, 102, 32, 100, 101, 119, 32, 105, 110, 32, 116, 104, 256, 97, 105, 114, 32, 111, 114, 32, 111, 110, 32, 116, 104, 256, 103, 114, 111, 117, 110, 100, 46, 32, 87, 105, 116, 104, 32, 116, 104, 256, 119, 101, 97, 116, 104, 101, 114, 32, 98, 101, 105, 110, 103, 32, 99, 104, 105, 108, 108, 121, 32, 105, 110, 32, 116, 104, 256, 110, 105, 103, 104, 116, 115, 44, 32, 100, 101, 119, 32, 119, 97, 115, 32, 101, 120, 112, 101, 99, 116, 101, 100, 32, 116, 111, 32, 112, 108, 97, 121, 32, 97, 32, 114, 111, 108, 256, 105, 110, 32, 116, 104, 256, 116, 111, 117, 114, 110, 97, 109, 101, 110, 116, 46, 32, 70, 111, 114, 116, 117, 110, 97, 116, 101, 108, 121, 44, 32, 105, 116, 32, 104, 97, 115, 110, 39, 116, 46, 73, 32, 102, 111, 114, 32, 111, 110, 256, 116, 104, 111, 117, 103, 104, 116, 32, 116, 104, 101, 114, 256, 119, 111, 117, 108, 100, 32, 98, 256, 97, 32, 108, 105, 116, 116, 108, 256, 98, 105, 116, 32, 109, 111, 114, 256, 100, 101, 119, 32, 97, 116, 32, 116, 104, 105, 115, 32, 103, 114, 111, 117, 110, 100, 32, 97, 116, 32, 116, 104, 105, 115, 32, 116, 105, 109, 256, 111, 102, 32, 121, 101, 97, 114, 46, 32, 70, 111, 114, 116, 117, 110, 97, 116, 101, 108, 121, 32, 116, 104, 101, 114, 256, 104, 97, 115, 110, 39, 116, 32, 98, 101, 101, 110, 46, 32, 84, 104, 101, 114, 101, 102, 111, 114, 256, 116, 104, 256, 116, 111, 115, 115, 32, 105, 115, 32, 97, 99, 116, 117, 97, 108, 108, 121, 32, 110, 111, 116, 32, 97, 32, 98, 105, 103, 32, 102, 97, 99, 116, 111, 114, 32, 97, 110, 100, 32, 73, 32, 116, 104, 105, 110, 107, 32, 116, 104, 97, 116, 39, 115, 32, 103, 114, 101, 97, 116, 44, 32, 115, 97, 121, 115, 32, 77, 105, 107, 256, 72, 101, 115, 115, 111, 110, 44, 32, 97, 32, 102, 111, 114, 109, 101, 114, 32, 78, 101, 119, 32, 90, 101, 97, 108, 97, 110, 100, 32, 99, 111, 97, 99, 104, 46, 32, 72, 101, 97, 100, 105, 110, 103, 32, 105, 110, 116, 111, 32, 97, 32, 67, 104, 97, 109, 112, 105, 111, 110, 115, 32, 84, 114, 111, 112, 104, 121, 32, 102, 105, 110, 97, 108, 32, 121, 111, 117, 39, 114, 256, 110, 111, 116, 32, 119, 111, 114, 114, 105, 101, 100, 32, 97, 98, 111, 117, 116, 32, 119, 104, 111, 32, 119, 105, 110, 115, 32, 116, 104, 256, 116, 111, 115, 115, 32, 97, 110, 100, 32, 99, 101, 114, 116, 97, 105, 110, 108, 121, 32, 105, 102, 32, 121, 111, 117, 39, 114, 256, 97, 110, 32, 73, 110, 100, 105, 97, 110, 32, 102, 97, 110, 32, 97, 110, 100, 32, 116, 104, 256, 102, 97, 99, 116, 32, 82, 111, 104, 105, 116, 32, 83, 104, 97, 114, 109, 97, 39, 115, 32, 108, 111, 115, 116, 32, 49, 52, 32, 105, 110, 32, 97, 32, 114, 111, 119, 44, 32, 105, 116, 39, 115, 32, 110, 111, 116, 32, 115, 111, 109, 101, 116, 104, 105, 110, 103, 32, 121, 111, 117, 39, 114, 256, 103, 111, 105, 110, 103, 32, 116, 111, 32, 108, 111, 115, 256, 97, 32, 119, 104, 111, 108, 256, 104, 101, 97, 112, 32, 111, 102, 32, 115, 108, 101, 101, 112, 32, 111, 118, 101, 114, 46, 82, 111, 104, 105, 116, 44, 32, 110, 111, 32, 100, 111, 117, 98, 116, 44, 32, 119, 111, 110, 39, 116, 32, 108, 111, 115, 256, 115, 108, 101, 101, 112, 32, 111, 118, 101, 114, 32, 116, 104, 256, 116, 111, 115, 115, 44, 32, 98, 117, 116, 32, 104, 256, 109, 97, 121, 32, 115, 116, 105, 108, 108, 32, 104, 97, 118, 256, 97, 32, 115, 108, 105, 103, 104, 116, 32, 97, 100, 118, 97, 110, 116, 97, 103, 256, 105, 102, 32, 104, 256, 119, 105, 110, 115, 32, 105, 116, 46, 32, 65, 99, 99, 111, 114, 100, 105, 110, 103, 32, 116, 111, 32, 72, 101, 115, 115, 111, 110, 44, 32, 86, 97, 114, 117, 110, 32, 67, 104, 97, 107, 97, 114, 97, 118, 97, 114, 116, 104, 121, 32, 116, 104, 256, 112, 108, 97, 121, 101, 114, 32, 111, 102, 32, 116, 104, 256, 109, 97, 116, 99, 104, 32, 105, 110, 32, 116, 104, 256, 112, 114, 101, 118, 105, 111, 117, 115, 32, 103, 97, 109, 256, 97, 103, 97, 105, 110, 115, 116, 32, 78, 101, 119, 32, 90, 101, 97, 108, 97, 110, 100, 32, 104, 101, 114, 101, 44, 32, 119, 111, 117, 108, 100, 32, 98, 256, 100, 105, 102, 102, 105, 99, 117, 108, 116, 32, 116, 111, 32, 112, 105, 99, 107, 32, 117, 110, 100, 101, 114, 32, 116, 104, 256, 108, 105, 103, 104, 116, 115, 46, 32, 73, 32, 116, 104, 105, 110, 107, 32, 97, 116, 32, 116, 104, 256, 116, 111, 115, 115, 44, 32, 102, 114, 111, 109, 32, 97, 32, 116, 97, 99, 116, 105, 99, 97, 108, 32, 112, 111, 105, 110, 116, 32, 111, 102, 32, 118, 105, 101, 119, 44, 32, 78, 101, 119, 32, 90, 101, 97, 108, 97, 110, 100, 32, 119, 105, 108, 108, 32, 119, 97, 110, 116, 32, 116, 111, 32, 98, 97, 116, 32, 102, 105, 114, 115, 116, 32, 97, 110, 100, 32, 116, 104, 101, 121, 32, 119, 105, 108, 108, 32, 119, 97, 110, 116, 32, 116, 111, 32, 100, 111, 32, 119, 104, 97, 116, 32, 116, 104, 101, 121, 32, 100, 105, 100, 32, 97, 103, 97, 105, 110, 115, 116, 32, 83, 111, 117, 116, 104, 32, 65, 102, 114, 105, 99, 97, 32, 105, 110, 32, 116, 104, 256, 115, 101, 109, 105, 102, 105, 110, 97, 108, 46, 32, 84, 104, 256, 114, 101, 97, 115, 111, 110, 32, 119, 104, 121, 32, 73, 32, 115, 97, 121, 32, 116, 104, 97, 116, 32, 105, 115, 32, 98, 101, 99, 97, 117, 115, 256, 111, 102, 32, 116, 104, 105, 115, 32, 109, 97, 110, 32, 104, 101, 114, 101, 44, 32, 86, 97, 114, 117, 110, 32, 67, 104, 97, 107, 97, 114, 97, 118, 97, 114, 116, 104, 121, 46, 75, 97, 110, 256, 87, 105, 108, 108, 105, 97, 109, 115, 111, 110, 44, 32, 119, 104, 111, 32, 104, 97, 109, 109, 101, 114, 101, 100, 32, 97, 32, 99, 101, 110, 116, 117, 114, 121, 32, 105, 110, 32, 116, 104, 256, 115, 101, 109, 105, 102, 105, 110, 97, 108, 32, 97, 103, 97, 105, 110, 115, 116, 32, 83, 111, 117, 116, 104, 32, 65, 102, 114, 105, 99, 97, 32, 105, 110, 32, 76, 97, 104, 111, 114, 256, 111, 110, 32, 87, 101, 100, 110, 101, 115, 100, 97, 121, 44, 32, 97, 103, 114, 101, 101, 115, 32, 116, 104, 97, 116, 32, 116, 104, 256, 99, 111, 110, 100, 105, 116, 105, 111, 110, 115, 32, 119, 111, 117, 108, 100, 32, 98, 256, 100, 105, 102, 102, 101, 114, 101, 110, 116, 32, 97, 116, 32, 68, 73, 67, 83, 32, 102, 114, 111, 109, 32, 71, 97, 100, 100, 97, 102, 105, 32, 83, 116, 97, 100, 105, 117, 109, 32, 98, 117, 116, 32, 104, 111, 112, 101, 115, 32, 102, 111, 114, 32, 97, 32, 103, 111, 111, 100, 32, 99, 111, 110, 116, 101, 115, 116, 46, 32, 84, 104, 256, 99, 111, 110, 100, 105, 116, 105, 111, 110, 115, 32, 97, 114, 256, 97, 32, 108, 111, 116, 32, 100, 105, 102, 102, 101, 114, 101, 110, 116, 32, 98, 117, 116, 32, 121, 111, 117, 32, 107, 110, 111, 119, 32, 116, 104, 97, 116, 39, 115, 32, 115, 111, 114, 116, 32, 111, 102, 32, 116, 104, 256, 110, 97, 116, 117, 114, 256, 111, 102, 32, 116, 104, 256, 98, 101, 97, 115, 116, 46, 32, 73, 32, 116, 104, 105, 110, 107, 32, 105, 110, 32, 97, 110, 121, 32, 116, 111, 117, 114, 110, 97, 109, 101, 110, 116, 32, 116, 104, 97, 116, 32, 121, 111, 117, 32, 104, 97, 118, 101, 44, 32, 99, 111, 110, 100, 105, 116, 105, 111, 110, 115, 32, 99, 104, 97, 110, 103, 256, 97, 32, 108, 105, 116, 116, 108, 256, 98, 105, 116, 32, 116, 104, 114, 111, 117, 103, 104, 111, 117, 116, 46, 32, 70, 111, 114, 32, 117, 115, 44, 32, 105, 116, 32, 119, 97, 115, 32, 110, 105, 99, 256, 116, 111, 32, 104, 97, 118, 256, 116, 104, 97, 116, 32, 108, 97, 115, 116, 32, 109, 97, 116, 99, 104, 32, 97, 103, 97, 105, 110, 115, 116, 32, 73, 110, 100, 105, 97, 46, 84, 104, 101, 114, 101, 39, 115, 32, 115, 111, 109, 256, 114, 101, 97, 108, 108, 121, 32, 103, 111, 111, 100, 32, 98, 105, 116, 115, 32, 116, 104, 101, 114, 101, 46, 32, 73, 110, 100, 105, 97, 32, 97, 114, 256, 97, 110, 32, 111, 117, 116, 115, 116, 97, 110, 100, 105, 110, 103, 32, 116, 101, 97, 109, 32, 97, 110, 100, 32, 97, 114, 256, 112, 108, 97, 121, 105, 110, 103, 32, 114, 101, 97, 108, 108, 121, 32, 119, 101, 108, 108, 46, 32, 83, 111, 44, 32, 108, 111, 111, 107, 44, 32, 105, 116, 39, 115, 32, 105, 109, 112, 111, 114, 116, 97, 110, 116, 32, 119, 256, 116, 114, 121, 32, 97, 110, 100, 32, 116, 97, 107, 256, 97, 119, 97, 121, 32, 115, 111, 109, 256, 108, 101, 97, 114, 110, 105, 110, 103, 115, 32, 102, 114, 111, 109, 32, 116, 104, 97, 116, 32, 108, 97, 115, 116, 32, 103, 97, 109, 101, 46, 32, 80, 97, 114, 107, 32, 116, 104, 105, 115, 32, 109, 97, 116, 99, 104, 44, 32, 97, 110, 100, 32, 105, 110, 32, 97, 32, 102, 105, 110, 97, 108, 44, 32, 97, 110, 121, 116, 104, 105, 110, 103, 32, 99, 97, 110, 32, 104, 97, 112, 112, 101, 110, 46, 32, 65, 110, 100, 32, 105, 116, 32, 119, 97, 115, 32, 97, 32, 103, 114, 101, 97, 116, 32, 97, 116, 109, 111, 115, 112, 104, 101, 114, 256, 108, 97, 115, 116, 32, 103, 97, 109, 256, 97, 110, 100, 32, 73, 39, 109, 32, 115, 117, 114, 256, 105, 116, 39, 108, 108, 32, 98, 256, 97, 32, 103, 111, 111, 100, 32, 111, 110, 256, 97, 103, 97, 105, 110, 46, 84, 104, 256, 102, 111, 114, 109, 101, 114, 32, 99, 97, 112, 116, 97, 105, 110, 44, 32, 104, 111, 119, 101, 118, 101, 114, 44, 32, 114, 101, 102, 117, 115, 101, 100, 32, 116, 111, 32, 98, 117, 121, 32, 116, 104, 256, 97, 114, 103, 117, 109, 101, 110, 116, 32, 116, 104, 97, 116, 32, 73, 110, 100, 105, 97, 32, 104, 97, 118, 256, 104, 97, 100, 32, 97, 110, 32, 97, 100, 118, 97, 110, 116, 97, 103, 256, 98, 121, 32, 112, 108, 97, 121, 105, 110, 103, 32, 97, 108, 108, 32, 103, 97, 109, 101, 115, 32, 105, 110, 32, 68, 117, 98, 97, 105, 46, 32, 73, 116, 32, 105, 115, 32, 119, 104, 97, 116, 32, 105, 116, 32, 105, 115, 44, 32, 104, 256, 115, 97, 105, 100, 46, 32, 79, 117, 114, 32, 102, 111, 99, 117, 115, 32, 105, 115, 32, 116, 104, 256, 110, 101, 120, 116, 32, 109, 97, 116, 99, 104, 44, 32, 116, 104, 256, 108, 111, 99, 97, 116, 105, 111, 110, 32, 111, 102, 32, 116, 104, 97, 116, 32, 109, 97, 116, 99, 104, 44, 32, 116, 104, 256, 111, 112, 112, 111, 115, 105, 116, 105, 111, 110, 44, 32, 116, 104, 101, 121, 39, 114, 256, 97, 108, 108, 32, 102, 97, 99, 116, 111, 114, 115, 46, 32, 79, 98, 118, 105, 111, 117, 115, 108, 121, 44, 32, 119, 256, 112, 108, 97, 121, 101, 100, 32, 73, 110, 100, 105, 97, 32, 111, 110, 99, 256, 116, 104, 101, 114, 101, 46, 32, 84, 104, 256, 99, 111, 110, 100, 105, 116, 105, 111, 110, 115, 32, 97, 114, 256, 100, 105, 102, 102, 101, 114, 101, 110, 116, 44, 32, 115, 111, 32, 105, 116, 39, 115, 32, 105, 109, 112, 111, 114, 116, 97, 110, 116, 32, 116, 104, 97, 116, 32, 119, 256, 116, 114, 121, 32, 97, 110, 100, 32, 116, 97, 107, 256, 97, 119, 97, 121, 32, 115, 111, 109, 256, 111, 102, 32, 116, 104, 111, 115, 256, 112, 111, 115, 105, 116, 105, 118, 101, 115, 32, 97, 110, 100, 32, 98, 256, 110, 105, 99, 256, 97, 110, 100, 32, 99, 108, 101, 97, 114, 32, 105, 110, 32, 104, 111, 119, 32, 119, 101, 39, 114, 256, 116, 114, 121, 105, 110, 103, 32, 116, 111, 32, 111, 112, 101, 114, 97, 116, 256, 99, 111, 109, 256, 116, 119, 111, 45, 32, 111, 114, 32, 116, 104, 114, 101, 101, 45, 100, 97, 121, 115, 39, 32, 116, 105, 109, 256, 105, 110, 32, 116, 104, 256, 102, 105, 110, 97, 108, 46, 32, 73, 116, 39, 115, 32, 116, 104, 256, 110, 97, 116, 117, 114, 256, 111, 102, 32, 105, 116, 32, 97, 110, 100, 32, 119, 101, 39, 114, 256, 108, 111, 111, 107, 105, 110, 103, 32, 102, 111, 114, 119, 97, 114, 100, 32, 116, 111, 32, 116, 104, 256, 102, 105, 110, 97, 108, 32, 97, 110, 100, 32, 101, 120, 99, 105, 116, 101, 100, 32, 97, 98, 111, 117, 116, 32, 105, 116, 46, 73, 110, 32, 97, 32, 119, 97, 121, 44, 32, 105, 116, 32, 119, 97, 115, 32, 97, 112, 116, 32, 116, 104, 97, 116, 32, 83, 116, 101, 118, 256, 83, 109, 105, 116, 104, 39, 115, 32, 102, 105, 110, 97, 108, 32, 97, 99, 116, 32, 97, 115, 32, 97, 110, 32, 79, 68, 73, 32, 99, 114, 105, 99, 107, 101, 116, 101, 114, 32, 119, 97, 115, 32, 97, 32, 104, 117, 103, 32, 97, 110, 100, 32, 97, 32, 102, 111, 110, 100, 32, 99, 104, 97, 116, 32, 119, 105, 116, 104, 32, 86, 105, 114, 97, 116, 32, 75, 111, 104, 108, 105, 46, 32, 65, 115, 32, 99, 108, 111, 115, 101, 45, 117, 112, 115, 32, 119, 111, 117, 108, 100, 32, 114, 101, 118, 101, 97, 108, 32, 108, 97, 116, 101, 114, 44, 32, 105, 116, 32, 97, 108, 115, 111, 32, 104, 97, 112, 112, 101, 110, 101, 100, 32, 116, 111, 32, 98, 256, 116, 104, 256, 109, 111, 109, 101, 110, 116, 32, 119, 104, 101, 110, 32, 83, 109, 105, 116, 104, 32, 112, 114, 111, 98, 97, 98, 108, 121, 32, 109, 97, 100, 256, 104, 105, 115, 32, 100, 101, 99, 105, 115, 105, 111, 110, 32, 116, 111, 32, 114, 101, 116, 105, 114, 256, 102, 114, 111, 109, 32, 53, 48, 45, 111, 118, 101, 114, 32, 99, 114, 105, 99, 107, 101, 116, 32, 112, 117, 98, 108, 105, 99, 46, 32, 66, 121, 32, 99, 111, 110, 102, 105, 100, 105, 110, 103, 32, 105, 110, 32, 111, 110, 256, 111, 102, 32, 104, 105, 115, 32, 111, 108, 100, 101, 115, 116, 32, 114, 105, 118, 97, 108, 115, 44, 32, 99, 111, 117, 110, 116, 101, 114, 112, 97, 114, 116, 115, 44, 32, 97, 110, 100, 32, 99, 114, 105, 99, 107, 101, 116, 105, 110, 103, 32, 109, 97, 116, 101, 115, 46, 32, 73, 116, 32, 119, 97, 115, 32, 97, 32, 116, 111, 117, 99, 104, 105, 110, 103, 32, 97, 110, 100, 32, 112, 111, 105, 103, 110, 97, 110, 116, 32, 109, 111, 109, 101, 110, 116, 44, 32, 97, 115, 32, 83, 109, 105, 116, 104, 32, 108, 101, 97, 110, 101, 100, 32, 111, 110, 32, 75, 111, 104, 108, 105, 39, 115, 32, 115, 104, 111, 117, 108, 100, 101, 114, 44, 32, 97, 110, 100, 32, 115, 116, 97, 121, 101, 100, 32, 116, 104, 101, 114, 256, 102, 111, 114, 32, 97, 32, 99, 111, 117, 112, 108, 256, 111, 102, 32, 115, 101, 99, 111, 110, 100, 115, 32, 97, 115, 32, 116, 104, 256, 102, 111, 114, 109, 101, 114, 32, 73, 110, 100, 105, 97, 110, 32, 99, 97, 112, 116, 97, 105, 110, 32, 119, 104, 105, 115, 112, 101, 114, 101, 100, 32, 115, 111, 109, 256, 119, 111, 114, 100, 115, 32, 105, 110, 116, 111, 32, 104, 105, 115, 32, 101, 97, 84, 104, 256, 102, 97, 99, 116, 32, 116, 104, 97, 116, 32, 105, 116, 32, 99, 97, 109, 256, 111, 110, 108, 121, 32, 109, 105, 110, 117, 116, 101, 115, 32, 102, 111, 108, 108, 111, 119, 105, 110, 103, 32, 116, 104, 256, 112, 114, 101, 116, 116, 121, 32, 105, 110, 116, 101, 110, 115, 256, 99, 101, 108, 101, 98, 114, 97, 116, 105, 111, 110, 115, 32, 105, 110, 32, 116, 104, 256, 73, 110, 100, 105, 97, 110, 32, 99, 97, 109, 112, 44, 32, 108, 101, 100, 32, 98, 121, 32, 97, 32, 118, 101, 114, 121, 32, 97, 110, 105, 109, 97, 116, 101, 100, 32, 75, 111, 104, 108, 105, 44, 32, 97, 102, 116, 101, 114, 32, 116, 104, 101, 121, 39, 100, 32, 111, 118, 101, 114, 99, 111, 109, 256, 116, 104, 256, 65, 117, 115, 116, 114, 97, 108, 105, 97, 110, 32, 104, 117, 114, 100, 108, 256, 116, 111, 32, 109, 97, 107, 256, 116, 104, 256, 67, 104, 97, 109, 112, 105, 111, 110, 115, 32, 84, 114, 111, 112, 104, 121, 32, 102, 105, 110, 97, 108, 32, 111, 110, 108, 121, 32, 109, 97, 100, 256, 116, 104, 256, 98, 114, 111, 116, 104, 101, 114, 108, 121, 32, 101, 109, 98, 114, 97, 99, 256, 101, 118, 101, 110, 32, 115, 119, 101, 101, 116, 101, 114, 46, 70, 111, 114, 44, 32, 110, 111, 116, 32, 111, 110, 108, 121, 32, 104, 97, 118, 256, 116, 104, 256, 116, 119, 111, 32, 101, 114, 97, 45, 100, 101, 102, 105, 110, 105, 110, 103, 32, 114, 105, 103, 104, 116, 45, 104, 97, 110, 100, 101, 114, 115, 32, 98, 101, 101, 110, 32, 116, 104, 256, 121, 97, 114, 100, 115, 116, 105, 99, 107, 115, 32, 102, 111, 114, 32, 103, 114, 101, 97, 116, 110, 101, 115, 115, 32, 97, 115, 32, 99, 111, 110, 116, 101, 109, 112, 111, 114, 97, 114, 105, 101, 115, 44, 32, 116, 104, 101, 121, 32, 104, 97, 118, 256, 97, 108, 115, 111, 32, 98, 101, 101, 110, 32, 115, 101, 114, 105, 97, 108, 32, 97, 100, 118, 101, 114, 115, 97, 114, 105, 101, 115, 32, 111, 110, 32, 116, 104, 256, 102, 105, 101, 108, 100, 32, 116, 104, 114, 111, 117, 103, 104, 111, 117, 116, 32, 116, 104, 101, 105, 114, 32, 114, 101, 115, 112, 101, 99, 116, 105, 118, 256, 106, 111, 117, 114, 110, 101, 121, 115, 32, 119, 104, 101, 110, 32, 105, 116, 32, 99, 111, 109, 101, 115, 32, 116, 111, 32, 79, 68, 73, 32, 99, 114, 105, 99, 107, 101, 116, 46, 84, 104, 256, 114, 101, 116, 105, 114, 105, 110, 103, 32, 51, 53, 45, 121, 101, 97, 114, 45, 111, 108, 100, 32, 104, 97, 100, 44, 32, 97, 102, 116, 101, 114, 32, 97, 108, 108, 44, 32, 112, 108, 97, 121, 101, 100, 32, 109, 111, 114, 256, 53, 48, 45, 111, 118, 101, 114, 32, 109, 97, 116, 99, 104, 101, 115, 32, 97, 103, 97, 105, 110, 115, 116, 32, 75, 111, 104, 108, 105, 32, 116, 104, 97, 110, 32, 97, 110, 121, 32, 111, 116, 104, 101, 114, 32, 111, 112, 112, 111, 115, 105, 116, 105, 111, 110, 32, 112, 108, 97, 121, 101, 114, 44, 32, 50, 56, 32, 105, 110, 32, 97, 108, 108, 44, 32, 111, 102, 32, 116, 104, 256, 51, 48, 32, 104, 256, 97, 112, 112, 101, 97, 114, 101, 100, 32, 105, 110, 32, 111, 118, 101, 114, 97, 108, 108, 32, 97, 103, 97, 105, 110, 115, 116, 32, 73, 110, 100, 105, 97, 46, 65, 110, 100, 32, 116, 104, 101, 114, 256, 119, 97, 115, 32, 97, 32, 98, 105, 116, 32, 111, 102, 32, 105, 114, 111, 110, 121, 32, 105, 110, 32, 116, 104, 256, 102, 97, 99, 116, 32, 116, 104, 97, 116, 32, 83, 109, 105, 116, 104, 32, 99, 111, 117, 108, 100, 110, 39, 116, 32, 115, 101, 256, 65, 117, 115, 116, 114, 97, 108, 105, 97, 32, 104, 111, 109, 256, 105, 110, 32, 119, 104, 97, 116, 32, 119, 111, 117, 108, 100, 32, 104, 97, 118, 256, 97, 110, 121, 119, 97, 121, 32, 98, 101, 101, 110, 32, 104, 105, 115, 32, 102, 105, 110, 97, 108, 32, 101, 110, 99, 111, 117, 110, 116, 101, 114, 32, 118, 101, 114, 115, 117, 115, 32, 104, 105, 115, 32, 97, 114, 99, 104, 32, 110, 101, 109, 101, 115, 101, 115, 44, 32, 119, 104, 111, 32, 104, 101, 39, 115, 32, 103, 101, 110, 101, 114, 97, 108, 108, 121, 32, 100, 111, 109, 105, 110, 97, 116, 101, 100, 32, 97, 103, 97, 105, 110, 115, 116, 46, 32, 78, 111, 116, 32, 116, 104, 97, 116, 32, 104, 256, 100, 105, 100, 110, 39, 116, 32, 116, 114, 121, 32, 104, 105, 115, 32, 104, 97, 114, 100, 101, 115, 116, 32, 116, 111, 32, 102, 111, 105, 108, 32, 116, 104, 256, 73, 110, 100, 105, 97, 110, 32, 106, 117, 103, 103, 101, 114, 110, 97, 117, 116, 44, 32, 98, 111, 116, 104, 32, 97, 115, 32, 98, 97, 116, 116, 101, 114, 32, 97, 110, 100, 32, 97, 115, 32, 99, 97, 112, 116, 97, 105, 110, 44, 32, 108, 105, 107, 256, 104, 101, 39, 100, 32, 100, 111, 110, 256, 115, 111, 32, 111, 102, 116, 101, 110, 32, 116, 104, 114, 111, 117, 103, 104, 111, 117, 116, 32, 104, 105, 115, 32, 79, 68, 73, 32, 99, 97, 114, 101, 101, 114, 46, 32, 72, 105, 115, 32, 105, 110, 110, 105, 110, 103, 115, 32, 111, 102, 32, 55, 51, 32, 111, 110, 32, 97, 32, 115, 108, 111, 119, 32, 112, 105, 116, 99, 104, 32, 119, 97, 115, 32, 116, 114, 97, 100, 101, 109, 97, 114, 107, 32, 83, 109, 105, 116, 104, 44, 32, 111, 110, 256, 73, 110, 100, 105, 97, 32, 104, 97, 100, 32, 98, 101, 99, 111, 109, 256, 97, 108, 108, 32, 116, 111, 111, 32, 102, 97, 109, 105, 108, 105, 97, 114, 32, 119, 105, 116, 104, 46, 32, 66, 111, 116, 104, 32, 105, 110, 32, 116, 101, 114, 109, 115, 32, 111, 102, 32, 104, 111, 119, 32, 104, 256, 109, 97, 110, 105, 112, 117, 108, 97, 116, 101, 100, 32, 116, 104, 256, 102, 105, 101, 108, 100, 115, 44, 32, 97, 110, 100, 32, 97, 108, 115, 111, 32, 105, 110, 32, 116, 104, 256, 119, 97, 121, 32, 104, 256, 115, 101, 116, 32, 116, 104, 256, 116, 101, 109, 112, 111, 32, 102, 111, 114, 32, 104, 105, 115, 32, 116, 101, 97, 109, 46, 32, 69, 118, 101, 110, 32, 105, 102, 32, 104, 256, 99, 111, 117, 108, 100, 110, 39, 116, 32, 115, 101, 256, 105, 116, 32, 116, 104, 114, 111, 117, 103, 104, 44, 32, 103, 101, 116, 116, 105, 110, 103, 32, 111, 117, 116, 32, 116, 111, 32, 97, 32, 118, 101, 114, 121, 32, 117, 110, 45, 83, 116, 101, 118, 256, 83, 109, 105, 116, 104, 32, 108, 105, 107, 256, 115, 108, 111, 103, 46, 32, 69, 118, 101, 110, 32, 105, 102, 32, 104, 256, 99, 111, 117, 108, 100, 110, 39, 116, 32, 103, 111, 32, 111, 110, 32, 116, 111, 32, 109, 97, 107, 256, 97, 32, 99, 101, 110, 116, 117, 114, 121, 44, 32, 108, 105, 107, 256, 104, 101, 39, 100, 32, 100, 111, 110, 256, 53, 32, 116, 105, 109, 101, 115, 32, 112, 114, 101, 118, 105, 111, 117, 115, 108, 121, 32, 97, 103, 97, 105, 110, 115, 116, 32, 116, 104, 256, 73, 110, 100, 105, 97, 110, 115, 44, 32, 97, 108, 108, 32, 98, 117, 116, 32, 111, 110, 256, 111, 102, 32, 119, 104, 105, 99, 104, 32, 114, 101, 115, 117, 108, 116, 101, 100, 32, 105, 110, 32, 97, 32, 119, 105, 110, 32, 102, 111, 114, 32, 65, 117, 115, 116, 114, 97, 108, 105, 97, 46, 74, 117, 115, 116, 32, 102, 111, 114, 32, 116, 104, 256, 114, 101, 99, 111, 114, 100, 44, 32, 104, 256, 110, 101, 118, 101, 114, 32, 119, 101, 110, 116, 32, 112, 97, 115, 116, 32, 50, 32, 99, 101, 110, 116, 117, 114, 105, 101, 115, 32, 97, 103, 97, 105, 110, 115, 116, 32, 97, 110, 121, 32, 111, 116, 104, 101, 114, 32, 99, 111, 117, 110, 116, 114, 121, 32, 97, 110, 100, 32, 109, 97, 100, 256, 111, 110, 108, 121, 32, 97, 32, 115, 111, 108, 105, 116, 97, 114, 121, 32, 116, 111, 110, 32, 105, 110, 32, 52, 48, 32, 105, 110, 110, 105, 110, 103, 115, 32, 97, 103, 97, 105, 110, 115, 116, 32, 69, 110, 103, 108, 97, 110, 100, 46, 32, 78, 111, 32, 119, 111, 110, 100, 101, 114, 32, 116, 104, 101, 110, 32, 116, 104, 97, 116, 32, 116, 104, 256, 99, 111, 117, 110, 116, 114, 121, 32, 104, 256, 115, 99, 111, 114, 101, 100, 32, 109, 111, 115, 116, 32, 79, 68, 73, 32, 114, 117, 110, 115, 32, 97, 103, 97, 105, 110, 115, 116, 32, 119, 97, 115, 32, 73, 110, 100, 105, 97, 44, 32, 119, 105, 116, 104, 32, 49, 51, 56, 51, 32, 114, 117, 110, 115, 32, 97, 116, 32, 53, 51, 46, 49, 57, 32, 105, 110, 32, 50, 54, 32, 105, 110, 110, 105, 110, 103, 115, 46, 32, 65, 110, 100, 32, 110, 111, 32, 115, 117, 114, 112, 114, 105, 115, 101, 115, 32, 116, 104, 97, 116, 32, 100, 101, 115, 112, 105, 116, 256, 110, 111, 116, 32, 98, 101, 105, 110, 103, 32, 99, 111, 110, 115, 105, 100, 101, 114, 101, 100, 32, 111, 110, 256, 111, 102, 32, 116, 104, 256, 98, 101, 115, 116, 32, 79, 68, 73, 32, 112, 108, 97, 121, 101, 114, 115, 32, 111, 102, 32, 104, 105, 115, 32, 103, 101, 110, 101, 114, 97, 116, 105, 111, 110, 44, 32, 112, 117, 114, 101, 108, 121, 32, 105, 110, 32, 116, 101, 114, 109, 115, 32, 111, 102, 32, 110, 117, 109, 98, 101, 114, 115, 44, 32, 83, 109, 105, 116, 104, 32, 119, 97, 115, 32, 100, 114, 101, 97, 100, 101, 100, 32, 98, 121, 32, 116, 104, 256, 98, 101, 115, 116, 32, 79, 68, 73, 32, 116, 101, 97, 109, 32, 111, 102, 32, 104, 105, 115, 32, 103, 101, 110, 101, 114, 97, 116, 105, 111, 110, 44, 32, 119, 104, 111, 32, 111, 110, 99, 256, 116, 111, 111, 32, 111, 102, 116, 101, 110, 32, 119, 101, 114, 256, 97, 116, 32, 116, 104, 256, 114, 101, 99, 101, 105, 118, 105, 110, 103, 32, 101, 110, 100, 32, 111, 102, 32, 104, 105, 115, 32, 119, 104, 105, 116, 101, 45, 98, 97, 108, 108, 32, 103, 101, 110, 105, 117, 115, 46, 83, 109, 105, 116, 104, 39, 115, 32, 109, 111, 115, 116, 32, 115, 105, 103, 110, 105, 102, 105, 99, 97, 110, 116, 32, 107, 110, 111, 99, 107, 44, 32, 119, 105, 116, 104, 111, 117, 116, 32, 100, 111, 117, 98, 116, 44, 32, 119, 97, 115, 32, 104, 105, 115, 32, 109, 97, 105, 100, 101, 110, 32, 79, 68, 73, 32, 99, 101, 110, 116, 117, 114, 121, 32, 97, 103, 97, 105, 110, 115, 116, 32, 116, 104, 256, 73, 110, 100, 105, 97, 110, 115, 44, 32, 111, 110, 32, 104, 105, 115, 32, 104, 111, 109, 101, 45, 103, 114, 111, 117, 110, 100, 32, 97, 116, 32, 116, 104, 256, 83, 67, 71, 44, 32, 116, 111, 32, 116, 104, 119, 97, 114, 116, 32, 73, 110, 100, 105, 97, 39, 115, 32, 112, 114, 111, 103, 114, 101, 115, 115, 32, 105, 110, 32, 116, 104, 256, 50, 48, 49, 53, 32, 87, 111, 114, 100, 32, 67, 117, 112, 46, 32, 73, 116, 32, 119, 97, 115, 32, 97, 32, 109, 97, 115, 116, 101, 114, 102, 117, 108, 32, 107, 110, 111, 99, 107, 32, 116, 104, 97, 116, 32, 115, 101, 116, 32, 117, 112, 32, 116, 104, 256, 115, 101, 109, 105, 45, 102, 105, 110, 97, 108, 32, 119, 105, 110, 32, 97, 116, 32, 116, 104, 256, 98, 97, 99, 107, 32, 101, 110, 100, 32, 111, 102, 32, 97, 32, 104, 111, 109, 256, 115, 117, 109, 109, 101, 114, 32, 119, 104, 101, 114, 256, 104, 101, 39, 100, 32, 108, 111, 114, 100, 101, 100, 32, 111, 118, 101, 114, 32, 73, 110, 100, 105, 97, 32, 119, 105, 116, 104, 32, 116, 104, 256, 98, 97, 116, 32, 105, 110, 32, 116, 104, 256, 66, 111, 114, 100, 101, 114, 32, 71, 97, 118, 97, 115, 107, 97, 114, 32, 84, 114, 111, 112, 104, 121, 46, 32, 84, 104, 256, 115, 117, 109, 109, 101, 114, 32, 116, 104, 97, 116, 32, 109, 97, 100, 256, 83, 116, 101, 118, 256, 83, 109, 105, 116, 104, 44, 32, 97, 110, 100, 32, 102, 111, 114, 101, 118, 101, 114, 32, 116, 114, 97, 110, 115, 102, 111, 114, 109, 101, 100, 32, 104, 105, 109, 32, 102, 114, 111, 109, 32, 116, 104, 256, 98, 108, 111, 110, 100, 101, 45, 104, 97, 105, 114, 101, 100, 32, 104, 97, 110, 100, 121, 32, 97, 108, 108, 45, 114, 111, 117, 110, 100, 101, 114, 32, 105, 110, 116, 111, 32, 116, 104, 256, 119, 111, 114, 108, 100, 32, 98, 101, 97, 116, 101, 114, 32, 119, 105, 116, 104, 32, 116, 104, 256, 98, 97, 116, 46, 32, 73, 116, 32, 119, 97, 115, 32, 105, 110, 32, 104, 105, 115, 32, 112, 114, 101, 118, 105, 111, 117, 115, 32, 97, 118, 97, 116, 97, 114, 32, 116, 104, 97, 116, 32, 104, 101, 39, 100, 32, 112, 108, 97, 121, 101, 100, 32, 104, 105, 115, 32, 102, 105, 114, 115, 116, 45, 101, 118, 101, 114, 32, 79, 68, 73, 32, 97, 103, 97, 105, 110, 115, 116, 32, 73, 110, 100, 105, 97, 44, 32, 98, 97, 99, 107, 32, 105, 110, 32, 108, 97, 116, 256, 50, 48, 49, 48, 32, 97, 116, 32, 86, 105, 115, 97, 107, 104, 97, 112, 97, 116, 110, 97, 109, 46, 83, 109, 105, 116, 104, 32, 100, 105, 100, 110, 39, 116, 32, 98, 97, 116, 32, 97, 110, 100, 32, 104, 97, 100, 32, 98, 111, 119, 108, 101, 100, 32, 116, 104, 114, 101, 256, 101, 120, 112, 101, 110, 115, 105, 118, 256, 111, 118, 101, 114, 115, 46, 32, 65, 117, 115, 116, 114, 97, 108, 105, 97, 32, 108, 111, 115, 116, 32, 116, 104, 256, 109, 97, 116, 99, 104, 32, 119, 105, 116, 104, 32, 86, 105, 114, 97, 116, 32, 75, 111, 104, 108, 105, 32, 112, 114, 111, 100, 117, 99, 105, 110, 103, 32, 111, 110, 256, 111, 102, 32, 104, 105, 115, 32, 101, 97, 114, 108, 121, 32, 114, 117, 110, 45, 99, 104, 97, 115, 256, 99, 108, 97, 115, 115, 105, 99, 115, 44, 32, 119, 105, 116, 104, 32, 119, 104, 97, 116, 32, 119, 97, 115, 32, 115, 116, 105, 108, 108, 32, 111, 110, 108, 121, 32, 105, 115, 32, 116, 104, 105, 114, 100, 32, 79, 68, 73, 32, 116, 111, 110, 46, 32, 74, 117, 115, 116, 32, 108, 105, 107, 256, 104, 256, 100, 105, 100, 32, 105, 110, 32, 83, 109, 105, 116, 104, 39, 115, 32, 102, 105, 110, 97, 108, 32, 79, 68, 73, 32, 97, 103, 97, 105, 110, 115, 116, 32, 73, 110, 100, 105, 97, 44, 32, 101, 118, 101, 110, 32, 105, 102, 32, 75, 111, 104, 108, 105, 32, 102, 97, 105, 108, 101, 100, 32, 116, 111, 32, 110, 111, 116, 99, 104, 32, 117, 112, 32, 97, 32, 116, 104, 114, 101, 101, 45, 102, 105, 103, 117, 114, 256, 115, 99, 111, 114, 256, 116, 104, 105, 115, 32, 116, 105, 109, 256, 97, 114, 111, 117, 110, 100, 46, 84, 104, 97, 116, 32, 86, 105, 122, 97, 103, 32, 101, 102, 102, 111, 114, 116, 32, 104, 97, 100, 32, 99, 97, 109, 256, 97, 116, 32, 97, 32, 116, 105, 109, 256, 119, 104, 101, 110, 32, 75, 111, 104, 108, 105, 44, 32, 112, 114, 111, 98, 97, 98, 108, 121, 32, 102, 111, 114, 32, 116, 104, 256, 111, 110, 108, 121, 32, 116, 105, 109, 256, 105, 110, 32, 104, 105, 115, 32, 79, 68, 73, 32, 99, 97, 114, 101, 101, 114, 32, 119, 97, 115, 32, 117, 110, 100, 101, 114, 32, 97, 32, 98, 105, 116, 32, 111, 102, 32, 112, 114, 101, 115, 115, 117, 114, 101, 44, 32, 104, 97, 118, 105, 110, 103, 32, 103, 111, 110, 256, 116, 104, 114, 111, 117, 103, 104, 32, 97, 32, 108, 101, 97, 110, 32, 112, 97, 116, 99, 104, 46, 32, 73, 116, 32, 97, 108, 115, 111, 32, 99, 97, 109, 256, 97, 116, 32, 97, 32, 115, 116, 97, 103, 256, 119, 104, 101, 110, 32, 83, 109, 105, 116, 104, 32, 119, 97, 115, 32, 115, 116, 105, 108, 108, 32, 118, 101, 114, 121, 32, 109, 117, 99, 104, 32, 102, 105, 110, 100, 105, 110, 103, 32, 104, 105, 115, 32, 102, 101, 101, 116, 32, 105, 110, 32, 105, 110, 116, 101, 114, 110, 97, 116, 105, 111, 110, 97, 108, 32, 99, 114, 105, 99, 107, 101, 116, 46, 32, 73, 116, 32, 100, 105, 100, 32, 104, 111, 119, 101, 118, 101, 114, 32, 115, 101, 116, 32, 105, 110, 32, 109, 111, 116, 105, 111, 110, 32, 116, 104, 105, 115, 32, 101, 110, 100, 117, 114, 105, 110, 103, 32, 98, 97, 116, 116, 108, 256, 119, 105, 116, 104, 105, 110, 32, 97, 32, 98, 97, 116, 116, 108, 256, 98, 101, 116, 119, 101, 101, 110, 32, 75, 111, 104, 108, 105, 32, 97, 110, 100, 32, 83, 109, 105, 116, 104, 44, 32, 97, 32, 102, 101, 119, 32, 109, 111, 110, 116, 104, 115, 32, 97, 102, 116, 101, 114, 32, 116, 104, 256, 65, 117, 115, 115, 105, 256, 104, 97, 100, 32, 109, 97, 100, 256, 104, 105, 115, 32, 84, 101, 115, 116, 32, 100, 101, 98, 117, 116, 32, 97, 110, 100, 32, 115, 116, 105, 108, 108, 32, 56, 32, 109, 111, 110, 116, 104, 115, 32, 98, 101, 102, 111, 114, 256, 116, 104, 256, 73, 110, 100, 105, 97, 110, 32, 119, 111, 117, 108, 100, 32, 103, 101, 116, 32, 104, 105, 115, 32, 84, 101, 115, 116, 32, 99, 97, 112, 46, 65, 110, 100, 32, 116, 104, 111, 117, 103, 104, 32, 99, 111, 109, 112, 97, 114, 105, 115, 111, 110, 115, 32, 98, 101, 116, 119, 101, 101, 110, 32, 116, 104, 256, 116, 119, 111, 32, 104, 97, 118, 256, 101, 120, 105, 115, 116, 101, 100, 32, 116, 104, 114, 111, 117, 103, 104, 111, 117, 116, 32, 116, 104, 101, 105, 114, 32, 108, 101, 110, 103, 116, 104, 121, 32, 84, 101, 115, 116, 32, 99, 97, 114, 101, 101, 114, 115, 44, 32, 114, 97, 114, 101, 108, 121, 32, 104, 97, 118, 256, 116, 104, 256, 100, 117, 111, 32, 98, 101, 101, 110, 32, 115, 112, 111, 107, 101, 110, 32, 111, 102, 32, 105, 110, 32, 116, 104, 256, 115, 97, 109, 256, 98, 114, 101, 97, 116, 104, 32, 119, 104, 101, 110, 32, 105, 116, 32, 99, 111, 109, 101, 115, 32, 116, 111, 32, 116, 104, 256, 53, 48, 45, 111, 118, 101, 114, 32, 102, 111, 114, 109, 97, 116, 46, 73, 116, 39, 115, 32, 112, 114, 111, 98, 97, 98, 108, 121, 32, 97, 32, 115, 105, 109, 112, 108, 256, 99, 97, 115, 256, 111, 102, 32, 115, 97, 109, 112, 108, 256, 115, 105, 122, 101, 44, 32, 119, 105, 116, 104, 32, 75, 111, 104, 108, 105, 32, 104, 97, 118, 105, 110, 103, 32, 112, 108, 97, 121, 101, 100, 32, 110, 101, 97, 114, 108, 121, 32, 100, 111, 117, 98, 108, 256, 116, 104, 256, 110, 117, 109, 98, 101, 114, 32, 111, 102, 32, 79, 68, 73, 115, 44, 32, 119, 104, 105, 108, 256, 97, 108, 115, 111, 32, 97, 99, 99, 117, 109, 117, 108, 97, 116, 105, 110, 103, 32, 97, 32, 115, 116, 97, 103, 103, 101, 114, 105, 110, 103, 32, 114, 101, 99, 111, 114, 100, 32, 105, 110, 32, 116, 104, 256, 102, 111, 114, 109, 97, 116, 44, 32, 111, 110, 256, 119, 104, 105, 99, 104, 32, 104, 97, 115, 32, 102, 101, 119, 32, 105, 102, 32, 97, 110, 121, 32, 114, 105, 118, 97, 108, 115, 46, 32, 83, 109, 105, 116, 104, 39, 115, 32, 53, 48, 45, 111, 118, 101, 114, 32, 110, 117, 109, 98, 101, 114, 115, 32, 105, 110, 32, 99, 111, 110, 116, 114, 97, 115, 116, 32, 109, 97, 121, 32, 110, 111, 116, 32, 98, 256, 105, 109, 109, 101, 100, 105, 97, 116, 101, 108, 121, 32, 101, 121, 101, 45, 99, 97, 116, 99, 104, 105, 110, 103, 32, 98, 117, 116, 32, 97, 110, 32, 97, 118, 101, 114, 97, 103, 256, 111, 102, 32, 52, 51, 46, 50, 56, 32, 97, 110, 100, 32, 97, 32, 115, 116, 114, 105, 107, 101, 45, 114, 97, 116, 256, 111, 102, 32, 56, 54, 46, 57, 54, 32, 97, 114, 256, 113, 117, 105, 116, 256, 105, 109, 112, 114, 101, 115, 115, 105, 118, 101, 44, 32, 99, 111, 110, 115, 105, 100, 101, 114, 105, 110, 103, 32, 116, 104, 256, 114, 111, 108, 256, 104, 101, 39, 115, 32, 112, 108, 97, 121, 101, 100, 32, 102, 111, 114, 32, 104, 105, 115, 32, 99, 111, 117, 110, 116, 114, 121, 46, 32, 84, 104, 101, 121, 32, 97, 108, 115, 111, 32, 112, 97, 108, 256, 105, 110, 32, 99, 111, 109, 112, 97, 114, 105, 115, 111, 110, 32, 116, 111, 32, 104, 105, 115, 32, 111, 119, 110, 32, 84, 101, 115, 116, 32, 110, 117, 109, 98, 101, 114, 115, 44, 32, 119, 104, 105, 99, 104, 32, 112, 117, 116, 32, 104, 105, 109, 32, 105, 110, 32, 97, 32, 115, 116, 114, 97, 116, 111, 115, 112, 104, 101, 114, 256, 111, 102, 32, 105, 116, 115, 32, 111, 119, 110, 46, 83, 109, 105, 116, 104, 32, 100, 105, 100, 32, 104, 97, 118, 256, 109, 111, 109, 101, 110, 116, 115, 32, 111, 102, 32, 98, 114, 105, 108, 108, 105, 97, 110, 99, 101, 44, 32, 119, 104, 101, 114, 256, 104, 256, 108, 111, 111, 107, 101, 100, 32, 108, 105, 107, 256, 116, 104, 256, 98, 101, 115, 116, 32, 79, 68, 73, 32, 112, 108, 97, 121, 101, 114, 32, 105, 110, 32, 116, 104, 256, 119, 111, 114, 108, 100, 44, 32, 101, 115, 112, 101, 99, 105, 97, 108, 108, 121, 32, 119, 104, 101, 110, 32, 104, 256, 115, 99, 111, 114, 101, 100, 32, 116, 104, 114, 101, 256, 79, 68, 73, 32, 116, 111, 110, 115, 32, 111, 110, 32, 116, 104, 256, 116, 114, 111, 116, 32, 105, 110, 32, 116, 104, 256, 115, 97, 109, 256, 121, 101, 97, 114, 32, 97, 103, 97, 105, 110, 115, 116, 32, 73, 110, 100, 105, 97, 46, 32, 84, 104, 101, 121, 32, 100, 105, 100, 32, 99, 111, 109, 256, 97, 99, 114, 111, 115, 115, 32, 116, 119, 111, 32, 115, 101, 112, 97, 114, 97, 116, 256, 116, 111, 117, 114, 115, 32, 111, 102, 32, 99, 111, 117, 114, 115, 256, 98, 117, 116, 32, 104, 105, 115, 32, 98, 97, 99, 107, 45, 116, 111, 45, 98, 97, 99, 107, 32, 54, 50, 45, 98, 97, 108, 108, 32, 116, 111, 110, 115, 32, 105, 110, 32, 83, 121, 100, 110, 101, 121, 32, 105, 110, 32, 108, 97, 116, 256, 50, 48, 50, 48, 45, 119, 104, 105, 99, 104, 32, 99, 97, 109, 256, 111, 110, 32, 116, 104, 256, 98, 97, 99, 107, 32, 111, 102, 32, 104, 105, 115, 32, 49, 51, 50, 45, 98, 97, 108, 108, 32, 49, 51, 49, 32, 105, 110, 32, 66, 101, 110, 103, 97, 108, 117, 114, 117, 32, 101, 97, 114, 108, 105, 101, 114, 32, 105, 110, 32, 116, 104, 256, 121, 101, 97, 114, 45, 119, 101, 114, 256, 97, 32, 103, 108, 105, 109, 112, 115, 256, 105, 110, 116, 111, 32, 116, 104, 256, 101, 108, 105, 116, 256, 103, 101, 97, 114, 32, 116, 104, 97, 116, 32, 104, 256, 100, 105, 100, 32, 112, 111, 115, 115, 101, 115, 115, 32, 119, 105, 116, 104, 32, 104, 105, 115, 32, 119, 104, 105, 116, 101, 45, 98, 97, 108, 108, 32, 98, 97, 116, 116, 105, 110, 103, 44, 32, 119, 104, 105, 99, 104, 32, 104, 256, 104, 97, 115, 110, 39, 116, 32, 97, 108, 119, 97, 121, 115, 32, 102, 101, 108, 116, 32, 116, 104, 256, 110, 101, 101, 100, 32, 116, 111, 32, 116, 97, 112, 32, 105, 110, 116, 111, 44, 32, 108, 97, 114, 103, 101, 108, 121, 32, 98, 101, 99, 97, 117, 115, 256, 111, 102, 32, 104, 105, 115, 32, 100, 101, 102, 105, 110, 101, 100, 32, 114, 111, 108, 256, 105, 110, 32, 116, 104, 105, 115, 32, 115, 101, 116, 117, 112, 46, 65, 110, 100, 32, 119, 104, 105, 108, 256, 83, 109, 105, 116, 104, 32, 116, 104, 256, 79, 68, 73, 32, 98, 97, 116, 116, 101, 114, 32, 109, 105, 103, 104, 116, 32, 110, 111, 116, 32, 98, 256, 114, 101, 109, 101, 109, 98, 101, 114, 101, 100, 32, 119, 105, 116, 104, 32, 116, 104, 256, 108, 101, 118, 101, 108, 32, 111, 102, 32, 114, 101, 118, 101, 114, 101, 110, 99, 256, 83, 109, 105, 116, 104, 32, 116, 104, 256, 84, 101, 115, 116, 32, 98, 97, 116, 116, 101, 114, 32, 119, 105, 108, 108, 32, 98, 101, 44, 32, 73, 110, 100, 105, 97, 110, 32, 116, 101, 97, 109, 115, 32, 119, 105, 108, 108, 32, 114, 101, 115, 116, 32, 101, 97, 115, 121, 32, 97, 110, 100, 32, 98, 256, 114, 101, 108, 105, 101, 118, 101, 100, 32, 116, 111, 32, 115, 101, 256, 116, 104, 256, 98, 97, 99, 107, 32, 111, 102, 32, 104, 105, 109, 46, 32, 89, 111, 117, 32, 106, 117, 115, 116, 32, 110, 101, 101, 100, 32, 116, 111, 32, 103, 111, 32, 98, 97, 99, 107, 32, 116, 111, 32, 116, 104, 97, 116, 32, 109, 111, 109, 101, 110, 116, 32, 105, 110, 32, 116, 104, 256, 50, 48, 50, 51, 32, 87, 111, 114, 108, 100, 32, 67, 117, 112, 32, 102, 105, 110, 97, 108, 44, 32, 119, 104, 101, 110, 32, 83, 109, 105, 116, 104, 32, 119, 97, 108, 107, 101, 100, 32, 97, 119, 97, 121, 32, 119, 105, 116, 104, 111, 117, 116, 32, 114, 101, 118, 105, 101, 119, 105, 110, 103, 32, 104, 105, 115, 32, 99, 111, 110, 116, 101, 110, 116, 105, 111, 117, 115, 32, 76, 66, 87, 32, 99, 97, 108, 108, 32, 119, 105, 116, 104, 32, 106, 117, 115, 116, 32, 102, 111, 117, 114, 32, 114, 117, 110, 115, 32, 116, 111, 32, 115, 104, 111, 119, 32, 102, 111, 114, 32, 104, 105, 115, 32, 115, 104, 111, 114, 116, 32, 115, 116, 97, 121, 32, 97, 116, 32, 116, 104, 256, 99, 114, 101, 97, 115, 101, 46, 32, 84, 104, 101, 114, 256, 119, 101, 114, 256, 102, 101, 119, 32, 73, 110, 100, 105, 97, 110, 32, 102, 97, 110, 115, 32, 97, 116, 32, 116, 104, 256, 78, 97, 114, 101, 110, 100, 114, 97, 32, 77, 111, 100, 105, 32, 83, 116, 97, 100, 105, 117, 109, 32, 116, 104, 97, 116, 32, 110, 105, 103, 104, 116, 44, 32, 111, 114, 32, 97, 114, 111, 117, 110, 100, 32, 116, 104, 256, 119, 111, 114, 108, 100, 44, 32, 119, 104, 111, 32, 100, 105, 100, 110, 39, 116, 32, 115, 116, 97, 114, 116, 32, 102, 101, 101, 108, 105, 110, 103, 32, 97, 32, 108, 111, 116, 32, 98, 101, 116, 116, 101, 114, 32, 97, 98, 111, 117, 116, 32, 116, 104, 101, 105, 114, 32, 116, 101, 97, 109, 32, 103, 111, 105, 110, 103, 32, 111, 110, 32, 116, 111, 32, 119, 105, 110, 32, 116, 104, 256, 87, 111, 114, 108, 100, 32, 67, 117, 112, 46, 32, 79, 110, 108, 121, 32, 102, 111, 114, 32, 84, 114, 97, 118, 105, 115, 32, 72, 101, 97, 100, 32, 116, 111, 32, 115, 112, 111, 105, 108, 32, 116, 104, 256, 112, 97, 114, 116, 121, 32, 102, 111, 114, 32, 97, 32, 99, 104, 97, 110, 103, 101, 46, 73, 110, 100, 105, 97, 44, 32, 104, 111, 119, 101, 118, 101, 114, 44, 32, 102, 111, 117, 110, 100, 32, 97, 32, 119, 97, 121, 32, 116, 111, 32, 115, 116, 111, 112, 32, 72, 101, 97, 100, 32, 111, 110, 32, 84, 117, 101, 115, 100, 97, 121, 32, 105, 110, 32, 68, 117, 98, 97, 105, 46, 32, 74, 117, 115, 116, 32, 108, 105, 107, 256, 116, 104, 101, 121, 32, 100, 105, 100, 32, 116, 111, 32, 115, 101, 256, 111, 102, 102, 32, 83, 109, 105, 116, 104, 32, 116, 104, 256, 79, 68, 73, 32, 112, 108, 97, 121, 101, 114, 44, 32, 105, 110, 32, 119, 104, 97, 116, 32, 116, 117, 114, 110, 101, 100, 32, 105, 110, 116, 111, 32, 104, 105, 115, 32, 53, 48, 45, 111, 118, 101, 114, 32, 102, 97, 114, 101, 119, 101, 108, 108, 46, 32, 73, 116, 32, 119, 97, 115, 32, 111, 110, 108, 121, 32, 97, 112, 116, 32, 116, 104, 97, 116, 32, 104, 256, 101, 118, 101, 110, 116, 117, 97, 108, 108, 121, 32, 98, 105, 100, 32, 97, 100, 105, 101, 117, 32, 105, 110, 32, 75, 111, 104, 108, 105, 39, 115, 32, 97, 114, 109, 115, 46, 10]\n",
            "lenght: 8873\n"
          ]
        }
      ]
    },
    {
      "cell_type": "code",
      "source": [
        "vocab_size = 276\n",
        "num_merges = vocab_size - 256\n",
        "ids = list(tokens)\n",
        "\n",
        "merges = {}\n",
        "for i in range(num_merges):\n",
        "  stats = get_stats(ids)\n",
        "  pair = max(stats,key=stats.get)\n",
        "  idx = 256 + i\n",
        "  print(f\"merging {pair} into a new token{idx}\")\n",
        "  ids = merge(ids,pair,idx)\n",
        "  merges[pair] = idx\n"
      ],
      "metadata": {
        "colab": {
          "base_uri": "https://localhost:8080/"
        },
        "id": "f57AgFRihxXp",
        "outputId": "f37cd5da-ae4b-4288-b0a9-9e3f070f973b"
      },
      "execution_count": 10,
      "outputs": [
        {
          "output_type": "stream",
          "name": "stdout",
          "text": [
            "merging (101, 32) into a new token256\n",
            "merging (116, 104) into a new token257\n",
            "merging (116, 32) into a new token258\n",
            "merging (115, 32) into a new token259\n",
            "merging (105, 110) into a new token260\n",
            "merging (100, 32) into a new token261\n",
            "merging (101, 114) into a new token262\n",
            "merging (257, 256) into a new token263\n",
            "merging (44, 32) into a new token264\n",
            "merging (97, 110) into a new token265\n",
            "merging (111, 110) into a new token266\n",
            "merging (121, 32) into a new token267\n",
            "merging (111, 117) into a new token268\n",
            "merging (111, 114) into a new token269\n",
            "merging (111, 32) into a new token270\n",
            "merging (101, 110) into a new token271\n",
            "merging (97, 32) into a new token272\n",
            "merging (97, 108) into a new token273\n",
            "merging (97, 114) into a new token274\n",
            "merging (260, 32) into a new token275\n"
          ]
        }
      ]
    },
    {
      "cell_type": "code",
      "source": [
        "print(\"tokens length:\",len(tokens))\n",
        "print(\"ids length(After merging):\",len(ids))\n",
        "print(f\"compression ratio:{len(tokens)/len(ids):2f}X\")"
      ],
      "metadata": {
        "colab": {
          "base_uri": "https://localhost:8080/"
        },
        "id": "-PaxFIJplirc",
        "outputId": "7faf2a02-ea21-4b0d-9518-23c706785254"
      },
      "execution_count": 11,
      "outputs": [
        {
          "output_type": "stream",
          "name": "stdout",
          "text": [
            "tokens length: 9179\n",
            "ids length(After merging): 6947\n",
            "compression ratio:1.321290X\n"
          ]
        }
      ]
    },
    {
      "cell_type": "markdown",
      "source": [
        "#Decoding\n",
        "- Given a string of integer in the range [0,vocab_size],what is the text?"
      ],
      "metadata": {
        "id": "0PFzS_F7sN4G"
      }
    },
    {
      "cell_type": "code",
      "source": [
        "vocab = {idx: bytes([idx]) for idx in range(256)}\n",
        "for (p0,p1),idx in merges.items():\n",
        "  vocab[idx] = vocab[p0] + vocab[p1]\n",
        "\n",
        "def decode(ids):\n",
        "  tokens = b\"\".join(vocab[idx] for idx in ids)\n",
        "  text = tokens.decode(\"utf-8\",errors=\"replace\")\n",
        "  return text\n",
        "\n",
        "print(decode([129]))"
      ],
      "metadata": {
        "id": "u34MM8GUmZuU",
        "colab": {
          "base_uri": "https://localhost:8080/"
        },
        "outputId": "accfc154-dad8-431d-f46f-68c217c70594"
      },
      "execution_count": 12,
      "outputs": [
        {
          "output_type": "stream",
          "name": "stdout",
          "text": [
            "�\n"
          ]
        }
      ]
    },
    {
      "cell_type": "code",
      "source": [
        "merges"
      ],
      "metadata": {
        "colab": {
          "base_uri": "https://localhost:8080/"
        },
        "id": "r5VfbaWm_cw0",
        "outputId": "a8dbbd0e-3255-4afb-d1ae-a412d51e5be6"
      },
      "execution_count": 13,
      "outputs": [
        {
          "output_type": "execute_result",
          "data": {
            "text/plain": [
              "{(101, 32): 256,\n",
              " (116, 104): 257,\n",
              " (116, 32): 258,\n",
              " (115, 32): 259,\n",
              " (105, 110): 260,\n",
              " (100, 32): 261,\n",
              " (101, 114): 262,\n",
              " (257, 256): 263,\n",
              " (44, 32): 264,\n",
              " (97, 110): 265,\n",
              " (111, 110): 266,\n",
              " (121, 32): 267,\n",
              " (111, 117): 268,\n",
              " (111, 114): 269,\n",
              " (111, 32): 270,\n",
              " (101, 110): 271,\n",
              " (97, 32): 272,\n",
              " (97, 108): 273,\n",
              " (97, 114): 274,\n",
              " (260, 32): 275}"
            ]
          },
          "metadata": {},
          "execution_count": 13
        }
      ]
    },
    {
      "cell_type": "markdown",
      "source": [
        "#encoding\n",
        "- The other way around Given a sting, what are the tokens?"
      ],
      "metadata": {
        "id": "biIrpsTP_IWS"
      }
    },
    {
      "cell_type": "code",
      "source": [
        "def encode(text):\n",
        "  tokens = list(text.encode(\"utf-8\"))\n",
        "  while len(tokens) >= 2:\n",
        "    stats = get_stats(tokens)\n",
        "    pair = min(stats,key=lambda p: merges.get(p,float(\"inf\")))\n",
        "    if pair not in merges:\n",
        "      break\n",
        "    idx = merges[pair]\n",
        "    tokens= merge(tokens,pair,idx)\n",
        "  return tokens\n",
        "\n",
        "print(encode(\"h\"))\n"
      ],
      "metadata": {
        "colab": {
          "base_uri": "https://localhost:8080/"
        },
        "id": "uoUmF-zH-s3l",
        "outputId": "76d3cc3b-9cea-402b-f930-b3bafdd386b7"
      },
      "execution_count": 14,
      "outputs": [
        {
          "output_type": "stream",
          "name": "stdout",
          "text": [
            "[104]\n"
          ]
        }
      ]
    },
    {
      "cell_type": "code",
      "source": [
        "print(decode(encode(\"hello world\")))"
      ],
      "metadata": {
        "colab": {
          "base_uri": "https://localhost:8080/"
        },
        "id": "AhgIlutAAWDH",
        "outputId": "58a0b85d-d51a-48d5-ccb7-12c3d9a91233"
      },
      "execution_count": 15,
      "outputs": [
        {
          "output_type": "stream",
          "name": "stdout",
          "text": [
            "hello world\n"
          ]
        }
      ]
    },
    {
      "cell_type": "code",
      "source": [
        "text2 = decode(encode(text))\n",
        "print(text2 == text)"
      ],
      "metadata": {
        "colab": {
          "base_uri": "https://localhost:8080/"
        },
        "id": "0X9e0c1LAlb7",
        "outputId": "f7118eaf-5821-45f2-eb6a-621aad4823f1"
      },
      "execution_count": 16,
      "outputs": [
        {
          "output_type": "stream",
          "name": "stdout",
          "text": [
            "True\n"
          ]
        }
      ]
    },
    {
      "cell_type": "markdown",
      "source": [
        "#Forced splits using regex pattern(GPT series)\n",
        "- It firstly split the text into list of text and all these elements are processed independently by the tokenizer, and all of the results are simply concatenated.\n",
        "\n",
        "- One main point here is the upper-case alphabets and lower-case alphabets are work differently."
      ],
      "metadata": {
        "id": "sCMY7JnU0QvL"
      }
    },
    {
      "cell_type": "code",
      "source": [
        "import regex as re\n",
        "#Exprressing used in GPT-2\n",
        "gpt2pat = re.compile(r\"\"\"'s|'t|'re|'ve|'m|'ll|'d| ?\\p{L}+| ?\\p{N}+| ?[^\\s\\p{L}\\p{N}]+|\\s+(?!\\S)|\\s+\"\"\") #this line from gpt2 and used for that what part of text were never be mearge for sure.\n",
        "\n",
        "print(re.findall(gpt2pat,\"Hello188.17781 world how's HOW'S evrything going!!\"))"
      ],
      "metadata": {
        "id": "yY_4UX0kAtpq",
        "colab": {
          "base_uri": "https://localhost:8080/"
        },
        "outputId": "3a4461f6-ee77-49af-c3dc-46cdd157679e"
      },
      "execution_count": 17,
      "outputs": [
        {
          "output_type": "stream",
          "name": "stdout",
          "text": [
            "['Hello', '188', '.', '17781', ' world', ' how', \"'s\", ' HOW', \"'\", 'S', ' evrything', ' going', '!!']\n"
          ]
        }
      ]
    },
    {
      "cell_type": "markdown",
      "source": [
        "#Tiktoken"
      ],
      "metadata": {
        "id": "TC6GNwC57u_t"
      }
    },
    {
      "cell_type": "code",
      "source": [
        "!pip install tiktoken"
      ],
      "metadata": {
        "colab": {
          "base_uri": "https://localhost:8080/"
        },
        "id": "51Fh1tYm8toi",
        "outputId": "1d5081d1-3fd1-4d4a-f342-cda4d065ee56"
      },
      "execution_count": 18,
      "outputs": [
        {
          "output_type": "stream",
          "name": "stdout",
          "text": [
            "Collecting tiktoken\n",
            "  Downloading tiktoken-0.9.0-cp311-cp311-manylinux_2_17_x86_64.manylinux2014_x86_64.whl.metadata (6.7 kB)\n",
            "Requirement already satisfied: regex>=2022.1.18 in /usr/local/lib/python3.11/dist-packages (from tiktoken) (2024.11.6)\n",
            "Requirement already satisfied: requests>=2.26.0 in /usr/local/lib/python3.11/dist-packages (from tiktoken) (2.32.3)\n",
            "Requirement already satisfied: charset-normalizer<4,>=2 in /usr/local/lib/python3.11/dist-packages (from requests>=2.26.0->tiktoken) (3.4.1)\n",
            "Requirement already satisfied: idna<4,>=2.5 in /usr/local/lib/python3.11/dist-packages (from requests>=2.26.0->tiktoken) (3.10)\n",
            "Requirement already satisfied: urllib3<3,>=1.21.1 in /usr/local/lib/python3.11/dist-packages (from requests>=2.26.0->tiktoken) (2.3.0)\n",
            "Requirement already satisfied: certifi>=2017.4.17 in /usr/local/lib/python3.11/dist-packages (from requests>=2.26.0->tiktoken) (2025.1.31)\n",
            "Downloading tiktoken-0.9.0-cp311-cp311-manylinux_2_17_x86_64.manylinux2014_x86_64.whl (1.2 MB)\n",
            "\u001b[2K   \u001b[90m━━━━━━━━━━━━━━━━━━━━━━━━━━━━━━━━━━━━━━━━\u001b[0m \u001b[32m1.2/1.2 MB\u001b[0m \u001b[31m10.5 MB/s\u001b[0m eta \u001b[36m0:00:00\u001b[0m\n",
            "\u001b[?25hInstalling collected packages: tiktoken\n",
            "Successfully installed tiktoken-0.9.0\n"
          ]
        }
      ]
    },
    {
      "cell_type": "code",
      "source": [
        "import tiktoken\n",
        "\n",
        "#Gpt2 (does not merge spaces)\n",
        "enc = tiktoken.get_encoding(\"gpt2\")\n",
        "print(enc.encode(\"    hello world!!!\"))\n",
        "\n",
        "#Gpt-4(merge spaces)\n",
        "enc = tiktoken.get_encoding(\"cl100k_base\")\n",
        "print(enc.encode(\"    hello world!!!\"))\n",
        "#As we clearly see in Gpt-4 the white spaces are merged."
      ],
      "metadata": {
        "colab": {
          "base_uri": "https://localhost:8080/"
        },
        "id": "dORwWciL18Al",
        "outputId": "104b88a7-f46f-4d94-c9e6-3305482d8a15"
      },
      "execution_count": 19,
      "outputs": [
        {
          "output_type": "stream",
          "name": "stdout",
          "text": [
            "[220, 220, 220, 23748, 995, 10185]\n",
            "[262, 24748, 1917, 12340]\n"
          ]
        }
      ]
    },
    {
      "cell_type": "code",
      "source": [
        "!wget https://openaipublic.blob.core.windows.net/gpt-2/models/1558M/vocab.bpe\n",
        "!wget https://openaipublic.blob.core.windows.net/gpt-2/models/1558M/encoder.json"
      ],
      "metadata": {
        "colab": {
          "base_uri": "https://localhost:8080/"
        },
        "id": "WKiXwFSFJHgL",
        "outputId": "c07cd965-c11a-4e64-8846-1c3bded13cc6"
      },
      "execution_count": 20,
      "outputs": [
        {
          "output_type": "stream",
          "name": "stdout",
          "text": [
            "--2025-03-09 11:39:18--  https://openaipublic.blob.core.windows.net/gpt-2/models/1558M/vocab.bpe\n",
            "Resolving openaipublic.blob.core.windows.net (openaipublic.blob.core.windows.net)... 57.150.97.129\n",
            "Connecting to openaipublic.blob.core.windows.net (openaipublic.blob.core.windows.net)|57.150.97.129|:443... connected.\n",
            "HTTP request sent, awaiting response... 200 OK\n",
            "Length: 456318 (446K) [application/octet-stream]\n",
            "Saving to: ‘vocab.bpe’\n",
            "\n",
            "vocab.bpe           100%[===================>] 445.62K  1.28MB/s    in 0.3s    \n",
            "\n",
            "2025-03-09 11:39:18 (1.28 MB/s) - ‘vocab.bpe’ saved [456318/456318]\n",
            "\n",
            "--2025-03-09 11:39:18--  https://openaipublic.blob.core.windows.net/gpt-2/models/1558M/encoder.json\n",
            "Resolving openaipublic.blob.core.windows.net (openaipublic.blob.core.windows.net)... 57.150.97.129\n",
            "Connecting to openaipublic.blob.core.windows.net (openaipublic.blob.core.windows.net)|57.150.97.129|:443... connected.\n",
            "HTTP request sent, awaiting response... 200 OK\n",
            "Length: 1042301 (1018K) [application/json]\n",
            "Saving to: ‘encoder.json’\n",
            "\n",
            "encoder.json        100%[===================>]   1018K  2.28MB/s    in 0.4s    \n",
            "\n",
            "2025-03-09 11:39:19 (2.28 MB/s) - ‘encoder.json’ saved [1042301/1042301]\n",
            "\n"
          ]
        }
      ]
    },
    {
      "cell_type": "code",
      "source": [
        "import os,json"
      ],
      "metadata": {
        "id": "OVOR2MYO8Vbb"
      },
      "execution_count": 21,
      "outputs": []
    },
    {
      "cell_type": "code",
      "source": [
        "with open('encoder.json','r') as f:\n",
        "  encoder = json.load(f)\n",
        "\n",
        "with open('vocab.bpe','r',encoding=\"utf-8\") as f:\n",
        "  bpe_data = f.read()\n",
        "bpe_merges = [tuple(merge_str.split()) for merge_str in bpe_data.split('\\n')[1:-1]]"
      ],
      "metadata": {
        "id": "jIH4wV2KILkf"
      },
      "execution_count": 22,
      "outputs": []
    },
    {
      "cell_type": "code",
      "source": [
        "len(encoder)"
      ],
      "metadata": {
        "id": "PLqUEbc1Iycz",
        "colab": {
          "base_uri": "https://localhost:8080/"
        },
        "outputId": "da5ceaee-0315-4a31-cfb7-c395c708c1cd"
      },
      "execution_count": 23,
      "outputs": [
        {
          "output_type": "execute_result",
          "data": {
            "text/plain": [
              "50257"
            ]
          },
          "metadata": {},
          "execution_count": 23
        }
      ]
    },
    {
      "cell_type": "code",
      "source": [
        "encoder"
      ],
      "metadata": {
        "colab": {
          "base_uri": "https://localhost:8080/"
        },
        "id": "F2nnhe3tgxY3",
        "outputId": "8e454c02-a771-4be2-a9b1-eafc3462318a"
      },
      "execution_count": 24,
      "outputs": [
        {
          "output_type": "execute_result",
          "data": {
            "text/plain": [
              "{'!': 0,\n",
              " '\"': 1,\n",
              " '#': 2,\n",
              " '$': 3,\n",
              " '%': 4,\n",
              " '&': 5,\n",
              " \"'\": 6,\n",
              " '(': 7,\n",
              " ')': 8,\n",
              " '*': 9,\n",
              " '+': 10,\n",
              " ',': 11,\n",
              " '-': 12,\n",
              " '.': 13,\n",
              " '/': 14,\n",
              " '0': 15,\n",
              " '1': 16,\n",
              " '2': 17,\n",
              " '3': 18,\n",
              " '4': 19,\n",
              " '5': 20,\n",
              " '6': 21,\n",
              " '7': 22,\n",
              " '8': 23,\n",
              " '9': 24,\n",
              " ':': 25,\n",
              " ';': 26,\n",
              " '<': 27,\n",
              " '=': 28,\n",
              " '>': 29,\n",
              " '?': 30,\n",
              " '@': 31,\n",
              " 'A': 32,\n",
              " 'B': 33,\n",
              " 'C': 34,\n",
              " 'D': 35,\n",
              " 'E': 36,\n",
              " 'F': 37,\n",
              " 'G': 38,\n",
              " 'H': 39,\n",
              " 'I': 40,\n",
              " 'J': 41,\n",
              " 'K': 42,\n",
              " 'L': 43,\n",
              " 'M': 44,\n",
              " 'N': 45,\n",
              " 'O': 46,\n",
              " 'P': 47,\n",
              " 'Q': 48,\n",
              " 'R': 49,\n",
              " 'S': 50,\n",
              " 'T': 51,\n",
              " 'U': 52,\n",
              " 'V': 53,\n",
              " 'W': 54,\n",
              " 'X': 55,\n",
              " 'Y': 56,\n",
              " 'Z': 57,\n",
              " '[': 58,\n",
              " '\\\\': 59,\n",
              " ']': 60,\n",
              " '^': 61,\n",
              " '_': 62,\n",
              " '`': 63,\n",
              " 'a': 64,\n",
              " 'b': 65,\n",
              " 'c': 66,\n",
              " 'd': 67,\n",
              " 'e': 68,\n",
              " 'f': 69,\n",
              " 'g': 70,\n",
              " 'h': 71,\n",
              " 'i': 72,\n",
              " 'j': 73,\n",
              " 'k': 74,\n",
              " 'l': 75,\n",
              " 'm': 76,\n",
              " 'n': 77,\n",
              " 'o': 78,\n",
              " 'p': 79,\n",
              " 'q': 80,\n",
              " 'r': 81,\n",
              " 's': 82,\n",
              " 't': 83,\n",
              " 'u': 84,\n",
              " 'v': 85,\n",
              " 'w': 86,\n",
              " 'x': 87,\n",
              " 'y': 88,\n",
              " 'z': 89,\n",
              " '{': 90,\n",
              " '|': 91,\n",
              " '}': 92,\n",
              " '~': 93,\n",
              " '¡': 94,\n",
              " '¢': 95,\n",
              " '£': 96,\n",
              " '¤': 97,\n",
              " '¥': 98,\n",
              " '¦': 99,\n",
              " '§': 100,\n",
              " '¨': 101,\n",
              " '©': 102,\n",
              " 'ª': 103,\n",
              " '«': 104,\n",
              " '¬': 105,\n",
              " '®': 106,\n",
              " '¯': 107,\n",
              " '°': 108,\n",
              " '±': 109,\n",
              " '²': 110,\n",
              " '³': 111,\n",
              " '´': 112,\n",
              " 'µ': 113,\n",
              " '¶': 114,\n",
              " '·': 115,\n",
              " '¸': 116,\n",
              " '¹': 117,\n",
              " 'º': 118,\n",
              " '»': 119,\n",
              " '¼': 120,\n",
              " '½': 121,\n",
              " '¾': 122,\n",
              " '¿': 123,\n",
              " 'À': 124,\n",
              " 'Á': 125,\n",
              " 'Â': 126,\n",
              " 'Ã': 127,\n",
              " 'Ä': 128,\n",
              " 'Å': 129,\n",
              " 'Æ': 130,\n",
              " 'Ç': 131,\n",
              " 'È': 132,\n",
              " 'É': 133,\n",
              " 'Ê': 134,\n",
              " 'Ë': 135,\n",
              " 'Ì': 136,\n",
              " 'Í': 137,\n",
              " 'Î': 138,\n",
              " 'Ï': 139,\n",
              " 'Ð': 140,\n",
              " 'Ñ': 141,\n",
              " 'Ò': 142,\n",
              " 'Ó': 143,\n",
              " 'Ô': 144,\n",
              " 'Õ': 145,\n",
              " 'Ö': 146,\n",
              " '×': 147,\n",
              " 'Ø': 148,\n",
              " 'Ù': 149,\n",
              " 'Ú': 150,\n",
              " 'Û': 151,\n",
              " 'Ü': 152,\n",
              " 'Ý': 153,\n",
              " 'Þ': 154,\n",
              " 'ß': 155,\n",
              " 'à': 156,\n",
              " 'á': 157,\n",
              " 'â': 158,\n",
              " 'ã': 159,\n",
              " 'ä': 160,\n",
              " 'å': 161,\n",
              " 'æ': 162,\n",
              " 'ç': 163,\n",
              " 'è': 164,\n",
              " 'é': 165,\n",
              " 'ê': 166,\n",
              " 'ë': 167,\n",
              " 'ì': 168,\n",
              " 'í': 169,\n",
              " 'î': 170,\n",
              " 'ï': 171,\n",
              " 'ð': 172,\n",
              " 'ñ': 173,\n",
              " 'ò': 174,\n",
              " 'ó': 175,\n",
              " 'ô': 176,\n",
              " 'õ': 177,\n",
              " 'ö': 178,\n",
              " '÷': 179,\n",
              " 'ø': 180,\n",
              " 'ù': 181,\n",
              " 'ú': 182,\n",
              " 'û': 183,\n",
              " 'ü': 184,\n",
              " 'ý': 185,\n",
              " 'þ': 186,\n",
              " 'ÿ': 187,\n",
              " 'Ā': 188,\n",
              " 'ā': 189,\n",
              " 'Ă': 190,\n",
              " 'ă': 191,\n",
              " 'Ą': 192,\n",
              " 'ą': 193,\n",
              " 'Ć': 194,\n",
              " 'ć': 195,\n",
              " 'Ĉ': 196,\n",
              " 'ĉ': 197,\n",
              " 'Ċ': 198,\n",
              " 'ċ': 199,\n",
              " 'Č': 200,\n",
              " 'č': 201,\n",
              " 'Ď': 202,\n",
              " 'ď': 203,\n",
              " 'Đ': 204,\n",
              " 'đ': 205,\n",
              " 'Ē': 206,\n",
              " 'ē': 207,\n",
              " 'Ĕ': 208,\n",
              " 'ĕ': 209,\n",
              " 'Ė': 210,\n",
              " 'ė': 211,\n",
              " 'Ę': 212,\n",
              " 'ę': 213,\n",
              " 'Ě': 214,\n",
              " 'ě': 215,\n",
              " 'Ĝ': 216,\n",
              " 'ĝ': 217,\n",
              " 'Ğ': 218,\n",
              " 'ğ': 219,\n",
              " 'Ġ': 220,\n",
              " 'ġ': 221,\n",
              " 'Ģ': 222,\n",
              " 'ģ': 223,\n",
              " 'Ĥ': 224,\n",
              " 'ĥ': 225,\n",
              " 'Ħ': 226,\n",
              " 'ħ': 227,\n",
              " 'Ĩ': 228,\n",
              " 'ĩ': 229,\n",
              " 'Ī': 230,\n",
              " 'ī': 231,\n",
              " 'Ĭ': 232,\n",
              " 'ĭ': 233,\n",
              " 'Į': 234,\n",
              " 'į': 235,\n",
              " 'İ': 236,\n",
              " 'ı': 237,\n",
              " 'Ĳ': 238,\n",
              " 'ĳ': 239,\n",
              " 'Ĵ': 240,\n",
              " 'ĵ': 241,\n",
              " 'Ķ': 242,\n",
              " 'ķ': 243,\n",
              " 'ĸ': 244,\n",
              " 'Ĺ': 245,\n",
              " 'ĺ': 246,\n",
              " 'Ļ': 247,\n",
              " 'ļ': 248,\n",
              " 'Ľ': 249,\n",
              " 'ľ': 250,\n",
              " 'Ŀ': 251,\n",
              " 'ŀ': 252,\n",
              " 'Ł': 253,\n",
              " 'ł': 254,\n",
              " 'Ń': 255,\n",
              " 'Ġt': 256,\n",
              " 'Ġa': 257,\n",
              " 'he': 258,\n",
              " 'in': 259,\n",
              " 're': 260,\n",
              " 'on': 261,\n",
              " 'Ġthe': 262,\n",
              " 'er': 263,\n",
              " 'Ġs': 264,\n",
              " 'at': 265,\n",
              " 'Ġw': 266,\n",
              " 'Ġo': 267,\n",
              " 'en': 268,\n",
              " 'Ġc': 269,\n",
              " 'it': 270,\n",
              " 'is': 271,\n",
              " 'an': 272,\n",
              " 'or': 273,\n",
              " 'es': 274,\n",
              " 'Ġb': 275,\n",
              " 'ed': 276,\n",
              " 'Ġf': 277,\n",
              " 'ing': 278,\n",
              " 'Ġp': 279,\n",
              " 'ou': 280,\n",
              " 'Ġan': 281,\n",
              " 'al': 282,\n",
              " 'ar': 283,\n",
              " 'Ġto': 284,\n",
              " 'Ġm': 285,\n",
              " 'Ġof': 286,\n",
              " 'Ġin': 287,\n",
              " 'Ġd': 288,\n",
              " 'Ġh': 289,\n",
              " 'Ġand': 290,\n",
              " 'ic': 291,\n",
              " 'as': 292,\n",
              " 'le': 293,\n",
              " 'Ġth': 294,\n",
              " 'ion': 295,\n",
              " 'om': 296,\n",
              " 'll': 297,\n",
              " 'ent': 298,\n",
              " 'Ġn': 299,\n",
              " 'Ġl': 300,\n",
              " 'st': 301,\n",
              " 'Ġre': 302,\n",
              " 've': 303,\n",
              " 'Ġe': 304,\n",
              " 'ro': 305,\n",
              " 'ly': 306,\n",
              " 'Ġbe': 307,\n",
              " 'Ġg': 308,\n",
              " 'ĠT': 309,\n",
              " 'ct': 310,\n",
              " 'ĠS': 311,\n",
              " 'id': 312,\n",
              " 'ot': 313,\n",
              " 'ĠI': 314,\n",
              " 'ut': 315,\n",
              " 'et': 316,\n",
              " 'ĠA': 317,\n",
              " 'Ġis': 318,\n",
              " 'Ġon': 319,\n",
              " 'im': 320,\n",
              " 'am': 321,\n",
              " 'ow': 322,\n",
              " 'ay': 323,\n",
              " 'ad': 324,\n",
              " 'se': 325,\n",
              " 'Ġthat': 326,\n",
              " 'ĠC': 327,\n",
              " 'ig': 328,\n",
              " 'Ġfor': 329,\n",
              " 'ac': 330,\n",
              " 'Ġy': 331,\n",
              " 'ver': 332,\n",
              " 'ur': 333,\n",
              " 'Ġu': 334,\n",
              " 'ld': 335,\n",
              " 'Ġst': 336,\n",
              " 'ĠM': 337,\n",
              " \"'s\": 338,\n",
              " 'Ġhe': 339,\n",
              " 'Ġit': 340,\n",
              " 'ation': 341,\n",
              " 'ith': 342,\n",
              " 'ir': 343,\n",
              " 'ce': 344,\n",
              " 'Ġyou': 345,\n",
              " 'il': 346,\n",
              " 'ĠB': 347,\n",
              " 'Ġwh': 348,\n",
              " 'ol': 349,\n",
              " 'ĠP': 350,\n",
              " 'Ġwith': 351,\n",
              " 'Ġ1': 352,\n",
              " 'ter': 353,\n",
              " 'ch': 354,\n",
              " 'Ġas': 355,\n",
              " 'Ġwe': 356,\n",
              " 'Ġ(': 357,\n",
              " 'nd': 358,\n",
              " 'ill': 359,\n",
              " 'ĠD': 360,\n",
              " 'if': 361,\n",
              " 'Ġ2': 362,\n",
              " 'ag': 363,\n",
              " 'ers': 364,\n",
              " 'ke': 365,\n",
              " 'Ġ\"': 366,\n",
              " 'ĠH': 367,\n",
              " 'em': 368,\n",
              " 'Ġcon': 369,\n",
              " 'ĠW': 370,\n",
              " 'ĠR': 371,\n",
              " 'her': 372,\n",
              " 'Ġwas': 373,\n",
              " 'Ġr': 374,\n",
              " 'od': 375,\n",
              " 'ĠF': 376,\n",
              " 'ul': 377,\n",
              " 'ate': 378,\n",
              " 'Ġat': 379,\n",
              " 'ri': 380,\n",
              " 'pp': 381,\n",
              " 'ore': 382,\n",
              " 'ĠThe': 383,\n",
              " 'Ġse': 384,\n",
              " 'us': 385,\n",
              " 'Ġpro': 386,\n",
              " 'Ġha': 387,\n",
              " 'um': 388,\n",
              " 'Ġare': 389,\n",
              " 'Ġde': 390,\n",
              " 'ain': 391,\n",
              " 'and': 392,\n",
              " 'Ġor': 393,\n",
              " 'igh': 394,\n",
              " 'est': 395,\n",
              " 'ist': 396,\n",
              " 'ab': 397,\n",
              " 'rom': 398,\n",
              " 'ĠN': 399,\n",
              " 'th': 400,\n",
              " 'Ġcom': 401,\n",
              " 'ĠG': 402,\n",
              " 'un': 403,\n",
              " 'op': 404,\n",
              " '00': 405,\n",
              " 'ĠL': 406,\n",
              " 'Ġnot': 407,\n",
              " 'ess': 408,\n",
              " 'Ġex': 409,\n",
              " 'Ġv': 410,\n",
              " 'res': 411,\n",
              " 'ĠE': 412,\n",
              " 'ew': 413,\n",
              " 'ity': 414,\n",
              " 'ant': 415,\n",
              " 'Ġby': 416,\n",
              " 'el': 417,\n",
              " 'os': 418,\n",
              " 'ort': 419,\n",
              " 'oc': 420,\n",
              " 'qu': 421,\n",
              " 'Ġfrom': 422,\n",
              " 'Ġhave': 423,\n",
              " 'Ġsu': 424,\n",
              " 'ive': 425,\n",
              " 'ould': 426,\n",
              " 'Ġsh': 427,\n",
              " 'Ġthis': 428,\n",
              " 'nt': 429,\n",
              " 'ra': 430,\n",
              " 'pe': 431,\n",
              " 'ight': 432,\n",
              " 'art': 433,\n",
              " 'ment': 434,\n",
              " 'Ġal': 435,\n",
              " 'ust': 436,\n",
              " 'end': 437,\n",
              " '--': 438,\n",
              " 'all': 439,\n",
              " 'ĠO': 440,\n",
              " 'ack': 441,\n",
              " 'Ġch': 442,\n",
              " 'Ġle': 443,\n",
              " 'ies': 444,\n",
              " 'red': 445,\n",
              " 'ard': 446,\n",
              " 'âĢ': 447,\n",
              " 'out': 448,\n",
              " 'ĠJ': 449,\n",
              " 'Ġab': 450,\n",
              " 'ear': 451,\n",
              " 'iv': 452,\n",
              " 'ally': 453,\n",
              " 'our': 454,\n",
              " 'ost': 455,\n",
              " 'gh': 456,\n",
              " 'pt': 457,\n",
              " 'Ġpl': 458,\n",
              " 'ast': 459,\n",
              " 'Ġcan': 460,\n",
              " 'ak': 461,\n",
              " 'ome': 462,\n",
              " 'ud': 463,\n",
              " 'The': 464,\n",
              " 'Ġhis': 465,\n",
              " 'Ġdo': 466,\n",
              " 'Ġgo': 467,\n",
              " 'Ġhas': 468,\n",
              " 'ge': 469,\n",
              " \"'t\": 470,\n",
              " 'ĠU': 471,\n",
              " 'rou': 472,\n",
              " 'Ġsa': 473,\n",
              " 'Ġj': 474,\n",
              " 'Ġbut': 475,\n",
              " 'Ġwor': 476,\n",
              " 'Ġall': 477,\n",
              " 'ect': 478,\n",
              " 'Ġk': 479,\n",
              " 'ame': 480,\n",
              " 'Ġwill': 481,\n",
              " 'ok': 482,\n",
              " 'Ġwhe': 483,\n",
              " 'Ġthey': 484,\n",
              " 'ide': 485,\n",
              " '01': 486,\n",
              " 'ff': 487,\n",
              " 'ich': 488,\n",
              " 'pl': 489,\n",
              " 'ther': 490,\n",
              " 'Ġtr': 491,\n",
              " '..': 492,\n",
              " 'Ġint': 493,\n",
              " 'ie': 494,\n",
              " 'ure': 495,\n",
              " 'age': 496,\n",
              " 'Ġne': 497,\n",
              " 'ial': 498,\n",
              " 'ap': 499,\n",
              " 'ine': 500,\n",
              " 'ice': 501,\n",
              " 'Ġme': 502,\n",
              " 'Ġout': 503,\n",
              " 'ans': 504,\n",
              " 'one': 505,\n",
              " 'ong': 506,\n",
              " 'ions': 507,\n",
              " 'Ġwho': 508,\n",
              " 'ĠK': 509,\n",
              " 'Ġup': 510,\n",
              " 'Ġtheir': 511,\n",
              " 'Ġad': 512,\n",
              " 'Ġ3': 513,\n",
              " 'Ġus': 514,\n",
              " 'ated': 515,\n",
              " 'ous': 516,\n",
              " 'Ġmore': 517,\n",
              " 'ue': 518,\n",
              " 'og': 519,\n",
              " 'ĠSt': 520,\n",
              " 'ind': 521,\n",
              " 'ike': 522,\n",
              " 'Ġso': 523,\n",
              " 'ime': 524,\n",
              " 'per': 525,\n",
              " '.\"': 526,\n",
              " 'ber': 527,\n",
              " 'iz': 528,\n",
              " 'act': 529,\n",
              " 'Ġone': 530,\n",
              " 'Ġsaid': 531,\n",
              " 'Ġ-': 532,\n",
              " 'are': 533,\n",
              " 'Ġyour': 534,\n",
              " 'cc': 535,\n",
              " 'ĠTh': 536,\n",
              " 'Ġcl': 537,\n",
              " 'ep': 538,\n",
              " 'ake': 539,\n",
              " 'able': 540,\n",
              " 'ip': 541,\n",
              " 'Ġcont': 542,\n",
              " 'Ġwhich': 543,\n",
              " 'ia': 544,\n",
              " 'Ġim': 545,\n",
              " 'Ġabout': 546,\n",
              " 'Ġwere': 547,\n",
              " 'very': 548,\n",
              " 'ub': 549,\n",
              " 'Ġhad': 550,\n",
              " 'Ġen': 551,\n",
              " 'Ġcomp': 552,\n",
              " ',\"': 553,\n",
              " 'ĠIn': 554,\n",
              " 'Ġun': 555,\n",
              " 'Ġag': 556,\n",
              " 'ire': 557,\n",
              " 'ace': 558,\n",
              " 'au': 559,\n",
              " 'ary': 560,\n",
              " 'Ġwould': 561,\n",
              " 'ass': 562,\n",
              " 'ry': 563,\n",
              " 'ĠâĢ': 564,\n",
              " 'cl': 565,\n",
              " 'ook': 566,\n",
              " 'ere': 567,\n",
              " 'so': 568,\n",
              " 'ĠV': 569,\n",
              " 'ign': 570,\n",
              " 'ib': 571,\n",
              " 'Ġoff': 572,\n",
              " 'Ġte': 573,\n",
              " 'ven': 574,\n",
              " 'ĠY': 575,\n",
              " 'ile': 576,\n",
              " 'ose': 577,\n",
              " 'ite': 578,\n",
              " 'orm': 579,\n",
              " 'Ġ201': 580,\n",
              " 'Ġres': 581,\n",
              " 'Ġman': 582,\n",
              " 'Ġper': 583,\n",
              " 'Ġother': 584,\n",
              " 'ord': 585,\n",
              " 'ult': 586,\n",
              " 'Ġbeen': 587,\n",
              " 'Ġlike': 588,\n",
              " 'ase': 589,\n",
              " 'ance': 590,\n",
              " 'ks': 591,\n",
              " 'ays': 592,\n",
              " 'own': 593,\n",
              " 'ence': 594,\n",
              " 'Ġdis': 595,\n",
              " 'ction': 596,\n",
              " 'Ġany': 597,\n",
              " 'Ġapp': 598,\n",
              " 'Ġsp': 599,\n",
              " 'int': 600,\n",
              " 'ress': 601,\n",
              " 'ations': 602,\n",
              " 'ail': 603,\n",
              " 'Ġ4': 604,\n",
              " 'ical': 605,\n",
              " 'Ġthem': 606,\n",
              " 'Ġher': 607,\n",
              " 'ount': 608,\n",
              " 'ĠCh': 609,\n",
              " 'Ġar': 610,\n",
              " 'Ġif': 611,\n",
              " 'Ġthere': 612,\n",
              " 'Ġpe': 613,\n",
              " 'Ġyear': 614,\n",
              " 'av': 615,\n",
              " 'Ġmy': 616,\n",
              " 'Ġsome': 617,\n",
              " 'Ġwhen': 618,\n",
              " 'ough': 619,\n",
              " 'ach': 620,\n",
              " 'Ġthan': 621,\n",
              " 'ru': 622,\n",
              " 'ond': 623,\n",
              " 'ick': 624,\n",
              " 'Ġover': 625,\n",
              " 'vel': 626,\n",
              " 'Ġqu': 627,\n",
              " 'ĊĊ': 628,\n",
              " 'Ġsc': 629,\n",
              " 'reat': 630,\n",
              " 'ree': 631,\n",
              " 'ĠIt': 632,\n",
              " 'ound': 633,\n",
              " 'port': 634,\n",
              " 'Ġalso': 635,\n",
              " 'Ġpart': 636,\n",
              " 'fter': 637,\n",
              " 'Ġkn': 638,\n",
              " 'Ġbec': 639,\n",
              " 'Ġtime': 640,\n",
              " 'ens': 641,\n",
              " 'Ġ5': 642,\n",
              " 'ople': 643,\n",
              " 'Ġwhat': 644,\n",
              " 'Ġno': 645,\n",
              " 'du': 646,\n",
              " 'mer': 647,\n",
              " 'ang': 648,\n",
              " 'Ġnew': 649,\n",
              " '----': 650,\n",
              " 'Ġget': 651,\n",
              " 'ory': 652,\n",
              " 'ition': 653,\n",
              " 'ings': 654,\n",
              " 'Ġjust': 655,\n",
              " 'Ġinto': 656,\n",
              " 'Ġ0': 657,\n",
              " 'ents': 658,\n",
              " 'ove': 659,\n",
              " 'te': 660,\n",
              " 'Ġpeople': 661,\n",
              " 'Ġpre': 662,\n",
              " 'Ġits': 663,\n",
              " 'Ġrec': 664,\n",
              " 'Ġtw': 665,\n",
              " 'ian': 666,\n",
              " 'irst': 667,\n",
              " 'ark': 668,\n",
              " 'ors': 669,\n",
              " 'Ġwork': 670,\n",
              " 'ade': 671,\n",
              " 'ob': 672,\n",
              " 'Ġshe': 673,\n",
              " 'Ġour': 674,\n",
              " 'wn': 675,\n",
              " 'ink': 676,\n",
              " 'lic': 677,\n",
              " 'Ġ19': 678,\n",
              " 'ĠHe': 679,\n",
              " 'ish': 680,\n",
              " 'nder': 681,\n",
              " 'ause': 682,\n",
              " 'Ġhim': 683,\n",
              " 'ons': 684,\n",
              " 'Ġ[': 685,\n",
              " 'Ġro': 686,\n",
              " 'form': 687,\n",
              " 'ild': 688,\n",
              " 'ates': 689,\n",
              " 'vers': 690,\n",
              " 'Ġonly': 691,\n",
              " 'oll': 692,\n",
              " 'Ġspe': 693,\n",
              " 'ck': 694,\n",
              " 'ell': 695,\n",
              " 'amp': 696,\n",
              " 'Ġacc': 697,\n",
              " 'Ġbl': 698,\n",
              " 'ious': 699,\n",
              " 'urn': 700,\n",
              " 'ft': 701,\n",
              " 'ood': 702,\n",
              " 'Ġhow': 703,\n",
              " 'hed': 704,\n",
              " \"Ġ'\": 705,\n",
              " 'Ġafter': 706,\n",
              " 'aw': 707,\n",
              " 'Ġatt': 708,\n",
              " 'ov': 709,\n",
              " 'ne': 710,\n",
              " 'Ġplay': 711,\n",
              " 'erv': 712,\n",
              " 'ict': 713,\n",
              " 'Ġcould': 714,\n",
              " 'itt': 715,\n",
              " 'Ġam': 716,\n",
              " 'Ġfirst': 717,\n",
              " 'Ġ6': 718,\n",
              " 'Ġact': 719,\n",
              " 'Ġ$': 720,\n",
              " 'ec': 721,\n",
              " 'hing': 722,\n",
              " 'ual': 723,\n",
              " 'ull': 724,\n",
              " 'Ġcomm': 725,\n",
              " 'oy': 726,\n",
              " 'old': 727,\n",
              " 'ces': 728,\n",
              " 'ater': 729,\n",
              " 'Ġfe': 730,\n",
              " 'Ġbet': 731,\n",
              " 'we': 732,\n",
              " 'iff': 733,\n",
              " 'Ġtwo': 734,\n",
              " 'ock': 735,\n",
              " 'Ġback': 736,\n",
              " ').': 737,\n",
              " 'ident': 738,\n",
              " 'Ġunder': 739,\n",
              " 'rough': 740,\n",
              " 'sel': 741,\n",
              " 'xt': 742,\n",
              " 'Ġmay': 743,\n",
              " 'round': 744,\n",
              " 'Ġpo': 745,\n",
              " 'ph': 746,\n",
              " 'iss': 747,\n",
              " 'Ġdes': 748,\n",
              " 'Ġmost': 749,\n",
              " 'Ġdid': 750,\n",
              " 'Ġadd': 751,\n",
              " 'ject': 752,\n",
              " 'Ġinc': 753,\n",
              " 'fore': 754,\n",
              " 'Ġpol': 755,\n",
              " 'ont': 756,\n",
              " 'Ġagain': 757,\n",
              " 'clud': 758,\n",
              " 'tern': 759,\n",
              " 'Ġknow': 760,\n",
              " 'Ġneed': 761,\n",
              " 'Ġcons': 762,\n",
              " 'Ġco': 763,\n",
              " 'Ġ.': 764,\n",
              " 'Ġwant': 765,\n",
              " 'Ġsee': 766,\n",
              " 'Ġ7': 767,\n",
              " 'ning': 768,\n",
              " 'iew': 769,\n",
              " 'ĠThis': 770,\n",
              " 'ced': 771,\n",
              " 'Ġeven': 772,\n",
              " 'Ġind': 773,\n",
              " 'ty': 774,\n",
              " 'ĠWe': 775,\n",
              " 'ath': 776,\n",
              " 'Ġthese': 777,\n",
              " 'Ġpr': 778,\n",
              " 'Ġuse': 779,\n",
              " 'Ġbecause': 780,\n",
              " 'Ġfl': 781,\n",
              " 'ng': 782,\n",
              " 'Ġnow': 783,\n",
              " 'ĠâĢĵ': 784,\n",
              " 'com': 785,\n",
              " 'ise': 786,\n",
              " 'Ġmake': 787,\n",
              " 'Ġthen': 788,\n",
              " 'ower': 789,\n",
              " 'Ġevery': 790,\n",
              " 'ĠUn': 791,\n",
              " 'Ġsec': 792,\n",
              " 'oss': 793,\n",
              " 'uch': 794,\n",
              " 'Ġem': 795,\n",
              " 'Ġ=': 796,\n",
              " 'ĠRe': 797,\n",
              " 'ied': 798,\n",
              " 'rit': 799,\n",
              " 'Ġinv': 800,\n",
              " 'lect': 801,\n",
              " 'Ġsupp': 802,\n",
              " 'ating': 803,\n",
              " 'Ġlook': 804,\n",
              " 'man': 805,\n",
              " 'pect': 806,\n",
              " 'Ġ8': 807,\n",
              " 'row': 808,\n",
              " 'Ġbu': 809,\n",
              " 'Ġwhere': 810,\n",
              " 'ific': 811,\n",
              " 'Ġyears': 812,\n",
              " 'ily': 813,\n",
              " 'Ġdiff': 814,\n",
              " 'Ġshould': 815,\n",
              " 'Ġrem': 816,\n",
              " 'Th': 817,\n",
              " 'In': 818,\n",
              " 'Ġev': 819,\n",
              " 'day': 820,\n",
              " \"'re\": 821,\n",
              " 'rib': 822,\n",
              " 'Ġrel': 823,\n",
              " 'ss': 824,\n",
              " 'Ġdef': 825,\n",
              " 'Ġright': 826,\n",
              " 'Ġsy': 827,\n",
              " '),': 828,\n",
              " 'les': 829,\n",
              " '000': 830,\n",
              " 'hen': 831,\n",
              " 'Ġthrough': 832,\n",
              " 'ĠTr': 833,\n",
              " '__': 834,\n",
              " 'Ġway': 835,\n",
              " 'Ġdon': 836,\n",
              " 'Ġ,': 837,\n",
              " 'Ġ10': 838,\n",
              " 'ased': 839,\n",
              " 'Ġass': 840,\n",
              " 'ublic': 841,\n",
              " 'Ġreg': 842,\n",
              " 'ĠAnd': 843,\n",
              " 'ix': 844,\n",
              " 'Ġvery': 845,\n",
              " 'Ġinclud': 846,\n",
              " 'other': 847,\n",
              " 'Ġimp': 848,\n",
              " 'oth': 849,\n",
              " 'Ġsub': 850,\n",
              " 'ĠâĢĶ': 851,\n",
              " 'Ġbeing': 852,\n",
              " 'arg': 853,\n",
              " 'ĠWh': 854,\n",
              " '==': 855,\n",
              " 'ible': 856,\n",
              " 'Ġdoes': 857,\n",
              " 'ange': 858,\n",
              " 'ram': 859,\n",
              " 'Ġ9': 860,\n",
              " 'ert': 861,\n",
              " 'ps': 862,\n",
              " 'ited': 863,\n",
              " 'ational': 864,\n",
              " 'Ġbr': 865,\n",
              " 'Ġdown': 866,\n",
              " 'Ġmany': 867,\n",
              " 'aking': 868,\n",
              " 'Ġcall': 869,\n",
              " 'uring': 870,\n",
              " 'ities': 871,\n",
              " 'Ġph': 872,\n",
              " 'ics': 873,\n",
              " 'als': 874,\n",
              " 'Ġdec': 875,\n",
              " 'ative': 876,\n",
              " 'ener': 877,\n",
              " 'Ġbefore': 878,\n",
              " 'ility': 879,\n",
              " 'Ġwell': 880,\n",
              " 'Ġmuch': 881,\n",
              " 'erson': 882,\n",
              " 'Ġthose': 883,\n",
              " 'Ġsuch': 884,\n",
              " 'Ġke': 885,\n",
              " 'Ġend': 886,\n",
              " 'ĠBut': 887,\n",
              " 'ason': 888,\n",
              " 'ting': 889,\n",
              " 'Ġlong': 890,\n",
              " 'ef': 891,\n",
              " 'Ġthink': 892,\n",
              " 'ys': 893,\n",
              " 'Ġbel': 894,\n",
              " 'Ġsm': 895,\n",
              " 'its': 896,\n",
              " 'ax': 897,\n",
              " 'Ġown': 898,\n",
              " 'Ġprov': 899,\n",
              " 'Ġset': 900,\n",
              " 'ife': 901,\n",
              " 'ments': 902,\n",
              " 'ble': 903,\n",
              " 'ward': 904,\n",
              " 'Ġshow': 905,\n",
              " 'Ġpres': 906,\n",
              " 'ms': 907,\n",
              " 'omet': 908,\n",
              " 'Ġob': 909,\n",
              " 'Ġsay': 910,\n",
              " 'ĠSh': 911,\n",
              " 'ts': 912,\n",
              " 'ful': 913,\n",
              " 'Ġeff': 914,\n",
              " 'Ġgu': 915,\n",
              " 'Ġinst': 916,\n",
              " 'und': 917,\n",
              " 'ren': 918,\n",
              " 'cess': 919,\n",
              " 'Ġent': 920,\n",
              " 'ĠYou': 921,\n",
              " 'Ġgood': 922,\n",
              " 'Ġstart': 923,\n",
              " 'ince': 924,\n",
              " 'Ġmade': 925,\n",
              " 'tt': 926,\n",
              " 'stem': 927,\n",
              " 'olog': 928,\n",
              " 'up': 929,\n",
              " 'Ġ|': 930,\n",
              " 'ump': 931,\n",
              " 'Ġhel': 932,\n",
              " 'vern': 933,\n",
              " 'ular': 934,\n",
              " 'ually': 935,\n",
              " 'Ġac': 936,\n",
              " 'Ġmon': 937,\n",
              " 'Ġlast': 938,\n",
              " 'Ġ200': 939,\n",
              " '10': 940,\n",
              " 'Ġstud': 941,\n",
              " 'ures': 942,\n",
              " 'ĠAr': 943,\n",
              " 'self': 944,\n",
              " 'ars': 945,\n",
              " 'meric': 946,\n",
              " 'ues': 947,\n",
              " 'cy': 948,\n",
              " 'Ġmin': 949,\n",
              " 'ollow': 950,\n",
              " 'Ġcol': 951,\n",
              " 'io': 952,\n",
              " 'Ġmod': 953,\n",
              " 'Ġcount': 954,\n",
              " 'ĠCom': 955,\n",
              " 'hes': 956,\n",
              " 'Ġfin': 957,\n",
              " 'air': 958,\n",
              " 'ier': 959,\n",
              " 'âĢĶ': 960,\n",
              " 'read': 961,\n",
              " 'ank': 962,\n",
              " 'atch': 963,\n",
              " 'ever': 964,\n",
              " 'Ġstr': 965,\n",
              " 'Ġpoint': 966,\n",
              " 'ork': 967,\n",
              " 'ĠNew': 968,\n",
              " 'Ġsur': 969,\n",
              " 'ool': 970,\n",
              " 'alk': 971,\n",
              " 'ement': 972,\n",
              " 'Ġused': 973,\n",
              " 'ract': 974,\n",
              " 'ween': 975,\n",
              " 'Ġsame': 976,\n",
              " 'oun': 977,\n",
              " 'ĠAl': 978,\n",
              " 'ci': 979,\n",
              " 'Ġdiffere': 980,\n",
              " 'Ġwhile': 981,\n",
              " '--------': 982,\n",
              " 'Ġgame': 983,\n",
              " 'cept': 984,\n",
              " 'Ġsim': 985,\n",
              " '...': 986,\n",
              " 'Ġinter': 987,\n",
              " 'ek': 988,\n",
              " 'Ġreport': 989,\n",
              " 'Ġprodu': 990,\n",
              " 'Ġstill': 991,\n",
              " 'led': 992,\n",
              " 'ah': 993,\n",
              " 'Ġhere': 994,\n",
              " 'Ġworld': 995,\n",
              " 'Ġthough': 996,\n",
              " 'Ġnum': 997,\n",
              " 'arch': 998,\n",
              " 'imes': 999,\n",
              " ...}"
            ]
          },
          "metadata": {},
          "execution_count": 24
        }
      ]
    },
    {
      "cell_type": "code",
      "source": [
        "encoder['<|endoftext|>']"
      ],
      "metadata": {
        "colab": {
          "base_uri": "https://localhost:8080/"
        },
        "id": "6z-WNtvVgzAs",
        "outputId": "615a6be3-efb1-49b2-f641-c0324158e487"
      },
      "execution_count": 30,
      "outputs": [
        {
          "output_type": "execute_result",
          "data": {
            "text/plain": [
              "50256"
            ]
          },
          "metadata": {},
          "execution_count": 30
        }
      ]
    }
  ]
}